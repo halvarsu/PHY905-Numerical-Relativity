{
 "cells": [
  {
   "cell_type": "code",
   "execution_count": 6,
   "metadata": {},
   "outputs": [
    {
     "name": "stdout",
     "output_type": "stream",
     "text": [
      "The autoreload extension is already loaded. To reload it, use:\n",
      "  %reload_ext autoreload\n"
     ]
    }
   ],
   "source": [
    "%load_ext autoreload\n",
    "%matplotlib inline\n",
    "%autoreload 2"
   ]
  },
  {
   "cell_type": "markdown",
   "metadata": {},
   "source": [
    "# Project 1\n",
    "Due March 12, 2019.\n",
    "\n",
    "For the midterm project, you will develop a Tolman-Oppenheimer-Volkov (TOV) solver to compute the hydrostatic structure of a relativistic neutron star. You will use this to determine the maximum masses of cold neutron stars (NSs) for several different equations of state (EOS).\n",
    "\n",
    "Your code should adhere to the course Coding Standards.\n",
    "\n",
    "  - Write a numerical solver for the spherically-symmetric TOV equations using a fourth-order Runge-Kutta integrator. Assume a polytropic EOS specified by $K$ and $\\gamma$. You may find these notes particularly helpful.\n",
    "  \n",
    "\\begin{align}\n",
    "\\frac{dm}{dr} &= 4\\pi r^2 \\rho \\\\\n",
    "\\frac{dP}{dr} &= -\\frac{\\rho m }{r^2}\\left ( 1 + \\frac{P}{\\rho}\\right ) \\left( 1 + \\frac{4\\pi P^3}{m} \\right ) \\left ( 1 - \\frac{2m}{r}\\right ) ^{-1}\\\\\n",
    "\\frac{d\\Phi}{dr} &= - \\frac{1}{\\rho} \\frac{dP}{dr}\\left( 1 + \\frac{P}{\\rho}\\right ) ^{-1}\n",
    "\\end{align}\n",
    "\n",
    "For a polytropic eos: $P = K \\rho_0^\\Gamma$, where $K$ is the polytropic gas constant and $n$ defined by $\\Gamma \\equiv 1 + 1/n$ is the polytropic index. We then have   $\\rho = \\rho_0 + P/(\\Gamma -1 )$  and $\\rho_0 \\epsilon = P/(\\Gamma -1 )$.\n",
    "   \n",
    "Below, constants are the corresponding barred ones."
   ]
  },
  {
   "cell_type": "code",
   "execution_count": 8,
   "metadata": {},
   "outputs": [],
   "source": [
    "from polytrope_star import PolytropeStar\n",
    "import numpy as np\n",
    "import matplotlib.pyplot as plt"
   ]
  },
  {
   "cell_type": "code",
   "execution_count": 10,
   "metadata": {
    "scrolled": false
   },
   "outputs": [
    {
     "name": "stderr",
     "output_type": "stream",
     "text": [
      "/home/halvard/uio/PHY905_NumericalRelativity/project1/polytrope_star.py:25: RuntimeWarning: invalid value encountered in double_scalars\n",
      "  return (P/self.K) ** (1/self._gamma)\n"
     ]
    },
    {
     "name": "stdout",
     "output_type": "stream",
     "text": [
      "2.4375144350725285e-31\n",
      "7.807083010105192e-31\n",
      "6.626073140304381e-31\n",
      "5.55681772004342e-31\n",
      "4.4693911015970774e-30\n",
      "9.297197991787412e-31\n",
      "1.2918647993780986e-30\n",
      "2.652955717257455e-31\n",
      "1.9723359166873597e-30\n",
      "2.7617361023090995e-30\n",
      "0.16151886459991324\n"
     ]
    },
    {
     "data": {
      "image/png": "[encoded data removed]",
      "text/plain": [
       "<matplotlib.figure.Figure at 0x7f081e833080>"
      ]
     },
     "metadata": {
      "needs_background": "light"
     },
     "output_type": "display_data"
    }
   ],
   "source": [
    "test_star = PolytropeStar(gamma = 2)\n",
    "integrator = 'dopri5'\n",
    "\n",
    "for rhoc_bar in np.linspace(0.2, 0.6, 10):\n",
    "    test_star.set_initial_conditions(rhoc = rhoc_bar)\n",
    "    solver =  test_star.solve_star_ivp(integrator = integrator)\n",
    "    print(solver.y[1][-1])\n",
    "    plt.scatter(rhoc_bar, solver.y[0][-1], c='k')\n",
    "    plt.scatter(rhoc_bar, solver.y[3][-1], c='k')\n",
    "solver = test_star.set_initial_conditions(rhoc = 0.420).solve_star_ivp(\n",
    "                    integrator = integrator)\n",
    "print(solver.y[0][-1])\n",
    "plt.axvline(0.42)\n",
    "plt.axhline(0.164)\n",
    "plt.grid()"
   ]
  },
  {
   "cell_type": "code",
   "execution_count": 11,
   "metadata": {},
   "outputs": [
    {
     "name": "stdout",
     "output_type": "stream",
     "text": [
      "2.75\n"
     ]
    }
   ],
   "source": [
    "n = 4/7\n",
    "gamma = 1+1/n\n",
    "print(gamma)\n",
    "\n",
    "K = 30000 # in c = G = M_sun = 1"
   ]
  },
  {
   "cell_type": "markdown",
   "metadata": {},
   "source": [
    "  - Determine the maximum mass of a cold NS for $K=30000$ (in $G=c=M_\\odot=1$ units) and $\\gamma=2.75$.\n",
    "  \n",
    "First we calculate"
   ]
  },
  {
   "cell_type": "code",
   "execution_count": 23,
   "metadata": {},
   "outputs": [
    {
     "name": "stderr",
     "output_type": "stream",
     "text": [
      "/home/halvard/uio/PHY905_NumericalRelativity/project1/polytrope_star.py:25: RuntimeWarning: invalid value encountered in double_scalars\n",
      "  return (P/self.K) ** (1/self._gamma)\n"
     ]
    }
   ],
   "source": [
    "gamma = 2.75\n",
    "n = 1/(gamma - 1)\n",
    "\n",
    "values = []\n",
    "\n",
    "N = 200\n",
    "for rhoc_bar in np.linspace(0.1, 1.8, N):\n",
    "    test_star = PolytropeStar(gamma).set_initial_conditions(rhoc = rhoc_bar)\n",
    "    solver = test_star.solve_star_ivp()\n",
    "\n",
    "    r = solver.t\n",
    "    M, P, Phi, M0 = solver.y\n",
    "    values.append([r[-1], M[-1], P[-1], Phi[-1], M0[-1], rhoc_bar])\n",
    "   "
   ]
  },
  {
   "cell_type": "markdown",
   "metadata": {},
   "source": [
    "Then we plot "
   ]
  },
  {
   "cell_type": "code",
   "execution_count": 24,
   "metadata": {},
   "outputs": [
    {
     "data": {
      "text/latex": [
       "$$Ax=b$$"
      ],
      "text/plain": [
       "<IPython.core.display.Math object>"
      ]
     },
     "metadata": {},
     "output_type": "display_data"
    },
    {
     "name": "stdout",
     "output_type": "stream",
     "text": [
      "\n",
      "Maximum values for K = 30000, \\gamma = 2.75:\n",
      "     M_bar = 0.128\n",
      "     R     = 11.97  km\n",
      "     M     = 2.434 M_sun   \n",
      "     M_0   = 2.896 M_sun     \n",
      "     rho_c = 1.395e+15 g/cc      \n",
      "\n"
     ]
    },
    {
     "data": {
      "text/plain": [
       "Text(0.5,0,'Central density [g/cc]')"
      ]
     },
     "execution_count": 24,
     "metadata": {},
     "output_type": "execute_result"
    },
    {
     "data": {
      "image/png": "[encoded data removed]",
      "text/plain": [
       "<matplotlib.figure.Figure at 0x7f08175cfd30>"
      ]
     },
     "metadata": {
      "needs_background": "light"
     },
     "output_type": "display_data"
    }
   ],
   "source": [
    "K     = 30000      # C = G = M_sun = 1\n",
    "K_cgs = 1.98183e-6 # cgs\n",
    " \n",
    "radius, grav_mass, pressure, _, mass, rhoc_bar = np.array(values).T\n",
    "imax = np.argmax(grav_mass)\n",
    "\n",
    "M_max_sun = grav_mass[imax] * K**(n/2)\n",
    "\n",
    "length_conv  = 6.7706e-6\n",
    "density_conv = 1.6199e-18\n",
    "rhoc_cgs = rhoc_bar * K**(-n)/density_conv\n",
    "r_km     = radius * K**(n/2)/length_conv * 1e-5\n",
    "\n",
    "from IPython.display import display, Latex, Math\n",
    "display(Math(\"Ax=b\"))\n",
    "\n",
    "disp_string = r\"\"\"\n",
    "Maximum values for K = 30000, \\gamma = 2.75:\n",
    "     M_bar = {mbar:.3f}\n",
    "     R     = {r:.4g}  km\n",
    "     M     = {gm:.3f} M_sun   \n",
    "     M_0   = {bm:.3f} M_sun     \n",
    "     rho_c = {cd:.4g} g/cc      \n",
    "\"\"\".format(mbar = grav_mass[imax], r =  r_km[imax],\n",
    "           gm =  grav_mass[imax] * K**(n/2),\n",
    "           bm =  mass[imax] * K**(n/2), \n",
    "           cd =  rhoc_cgs[imax])\n",
    "\n",
    "print(disp_string)\n",
    "\n",
    "plt.scatter(rhoc_cgs[imax], grav_mass[imax] * K**(n/2), c = 'C0')\n",
    "plt.scatter(rhoc_cgs[imax], mass[imax]* K**(n/2), c = 'C1')\n",
    "\n",
    "plt.plot(rhoc_cgs, grav_mass* K**(n/2), '-', label = 'Gravitational')\n",
    "plt.plot(rhoc_cgs, mass* K**(n/2), '--', label = 'Baryonic')\n",
    "plt.legend()\n",
    "plt.ylabel('Mass [$M_{\\odot}$]')\n",
    "plt.xlabel('Central density [g/cc]')"
   ]
  },
  {
   "cell_type": "code",
   "execution_count": 26,
   "metadata": {},
   "outputs": [
    {
     "data": {
      "text/plain": [
       "[<matplotlib.lines.Line2D at 0x7f08175a48d0>]"
      ]
     },
     "execution_count": 26,
     "metadata": {},
     "output_type": "execute_result"
    },
    {
     "data": {
      "image/png": "[encoded data removed]",
      "text/plain": [
       "<matplotlib.figure.Figure at 0x7f08175a46d8>"
      ]
     },
     "metadata": {
      "needs_background": "light"
     },
     "output_type": "display_data"
    }
   ],
   "source": [
    "plt.plot(r_km, grav_mass* K**(n/2), '-', label = 'Gravitational')\n",
    "plt.plot(r_km, mass* K**(n/2), '--', label = 'Baryonic')"
   ]
  },
  {
   "cell_type": "code",
   "execution_count": null,
   "metadata": {},
   "outputs": [],
   "source": []
  },
  {
   "cell_type": "markdown",
   "metadata": {},
   "source": []
  },
  {
   "cell_type": "code",
   "execution_count": 1,
   "metadata": {},
   "outputs": [],
   "source": [
    "%load_ext autoreload\n",
    "%matplotlib inline\n",
    "%autoreload 2"
   ]
  },
  {
   "cell_type": "code",
   "execution_count": 2,
   "metadata": {},
   "outputs": [],
   "source": [
    "import numpy as np\n",
    "import matplotlib.pyplot as plt"
   ]
  },
  {
   "cell_type": "code",
   "execution_count": null,
   "metadata": {},
   "outputs": [],
   "source": []
  },
  {
   "cell_type": "markdown",
   "metadata": {},
   "source": [
    " \n",
    "  - Now, modify your code to use any arbitrary table-based EOS. Specifically, make your solver compatible with the EOS available on stellarcollapse.org. There is example code on that site in C++ and Fortran for reading and using the tables there, and working with the EOS tables is trivial in Python using h5py.\n",
    " "
   ]
  },
  {
   "cell_type": "markdown",
   "metadata": {},
   "source": [
    "  - Determine the maximum mass for any five of the EOS available on stellarcollapse.org."
   ]
  },
  {
   "cell_type": "markdown",
   "metadata": {},
   "source": [
    "# Calculate final values for all five tables"
   ]
  },
  {
   "cell_type": "code",
   "execution_count": 11,
   "metadata": {},
   "outputs": [
    {
     "name": "stdout",
     "output_type": "stream",
     "text": [
      "h5_files/Hempel_SFHoEOS_rho222_temp180_ye60_version_1.1_20120817.h5\n",
      "h5_files/HShen_HyperonEOS_rho220_temp180_ye65_version_1.1_20131007.h5\n"
     ]
    },
    {
     "ename": "IndexError",
     "evalue": "index 0 is out of bounds for axis 0 with size 0",
     "output_type": "error",
     "traceback": [
      "\u001b[0;31m---------------------------------------------------------------------------\u001b[0m",
      "\u001b[0;31mIndexError\u001b[0m                                Traceback (most recent call last)",
      "\u001b[0;32m<ipython-input-11-c897964af58f>\u001b[0m in \u001b[0;36m<module>\u001b[0;34m\u001b[0m\n\u001b[1;32m     14\u001b[0m \u001b[0;32mfor\u001b[0m \u001b[0mfname\u001b[0m\u001b[0;34m,\u001b[0m \u001b[0msname\u001b[0m \u001b[0;32min\u001b[0m \u001b[0mzip\u001b[0m\u001b[0;34m(\u001b[0m\u001b[0mfilenames\u001b[0m\u001b[0;34m,\u001b[0m \u001b[0mshort_names\u001b[0m\u001b[0;34m)\u001b[0m\u001b[0;34m:\u001b[0m\u001b[0;34m\u001b[0m\u001b[0m\n\u001b[1;32m     15\u001b[0m     \u001b[0mprint\u001b[0m\u001b[0;34m(\u001b[0m\u001b[0;34m'h5_files/'\u001b[0m \u001b[0;34m+\u001b[0m \u001b[0mfname\u001b[0m\u001b[0;34m)\u001b[0m\u001b[0;34m\u001b[0m\u001b[0m\n\u001b[0;32m---> 16\u001b[0;31m     \u001b[0mtest\u001b[0m \u001b[0;34m=\u001b[0m \u001b[0mTableStar\u001b[0m\u001b[0;34m(\u001b[0m\u001b[0;34m'h5_files/'\u001b[0m \u001b[0;34m+\u001b[0m \u001b[0mfname\u001b[0m\u001b[0;34m)\u001b[0m\u001b[0;34m\u001b[0m\u001b[0m\n\u001b[0m\u001b[1;32m     17\u001b[0m \u001b[0;34m\u001b[0m\u001b[0m\n\u001b[1;32m     18\u001b[0m     \u001b[0;31m# this line runs everything\u001b[0m\u001b[0;34m\u001b[0m\u001b[0;34m\u001b[0m\u001b[0m\n",
      "\u001b[0;32m~/uio/PHY905_NumericalRelativity/project1/table_star.py\u001b[0m in \u001b[0;36m__init__\u001b[0;34m(self, tablefile, scaling, premade_tables, *args, **kwargs)\u001b[0m\n\u001b[1;32m     12\u001b[0m \u001b[0;34m\u001b[0m\u001b[0m\n\u001b[1;32m     13\u001b[0m         \u001b[0mself\u001b[0m\u001b[0;34m.\u001b[0m\u001b[0mset_scaling\u001b[0m\u001b[0;34m(\u001b[0m\u001b[0mscaling\u001b[0m\u001b[0;34m)\u001b[0m\u001b[0;34m\u001b[0m\u001b[0m\n\u001b[0;32m---> 14\u001b[0;31m         \u001b[0mself\u001b[0m\u001b[0;34m.\u001b[0m\u001b[0mgenerate_interpolators\u001b[0m\u001b[0;34m(\u001b[0m\u001b[0mtablefile\u001b[0m\u001b[0;34m)\u001b[0m\u001b[0;34m\u001b[0m\u001b[0m\n\u001b[0m\u001b[1;32m     15\u001b[0m \u001b[0;34m\u001b[0m\u001b[0m\n\u001b[1;32m     16\u001b[0m     \u001b[0;32mdef\u001b[0m \u001b[0mset_scaling\u001b[0m\u001b[0;34m(\u001b[0m\u001b[0mself\u001b[0m\u001b[0;34m,\u001b[0m \u001b[0mscaling\u001b[0m \u001b[0;34m=\u001b[0m \u001b[0;34m{\u001b[0m\u001b[0;34m}\u001b[0m\u001b[0;34m)\u001b[0m\u001b[0;34m:\u001b[0m\u001b[0;34m\u001b[0m\u001b[0m\n",
      "\u001b[0;32m~/uio/PHY905_NumericalRelativity/project1/table_star.py\u001b[0m in \u001b[0;36mgenerate_interpolators\u001b[0;34m(self, tablefile)\u001b[0m\n\u001b[1;32m     93\u001b[0m                 \u001b[0mi_root\u001b[0m \u001b[0;34m=\u001b[0m \u001b[0;36m0\u001b[0m\u001b[0;34m\u001b[0m\u001b[0m\n\u001b[1;32m     94\u001b[0m \u001b[0;34m\u001b[0m\u001b[0m\n\u001b[0;32m---> 95\u001b[0;31m             \u001b[0mye_root\u001b[0m \u001b[0;34m=\u001b[0m \u001b[0mye_roots\u001b[0m\u001b[0;34m[\u001b[0m\u001b[0mi_root\u001b[0m\u001b[0;34m]\u001b[0m\u001b[0;34m\u001b[0m\u001b[0m\n\u001b[0m\u001b[1;32m     96\u001b[0m             \u001b[0mprev_root\u001b[0m \u001b[0;34m=\u001b[0m \u001b[0mye_root\u001b[0m\u001b[0;34m\u001b[0m\u001b[0m\n\u001b[1;32m     97\u001b[0m \u001b[0;34m\u001b[0m\u001b[0m\n",
      "\u001b[0;31mIndexError\u001b[0m: index 0 is out of bounds for axis 0 with size 0"
     ]
    },
    {
     "data": {
      "image/png": "[encoded data removed]",
      "text/plain": [
       "<matplotlib.figure.Figure at 0x7f4b5ace2438>"
      ]
     },
     "metadata": {
      "needs_background": "light"
     },
     "output_type": "display_data"
    }
   ],
   "source": [
    "fvals = []\n",
    "filenames = ['Hempel_SFHoEOS_rho222_temp180_ye60_version_1.1_20120817.h5.dat',\n",
    "             'Hempel_SFHxEOS_rho234_temp180_ye60_version_1.1_20120817.h5.dat',\n",
    "             'Hempel_TM1EOS_rho234_temp180_ye60_version_1.1_20120817.h5.dat',\n",
    "             'Hempel_TMAEOS_rho234_temp180_ye60_version_1.1_20120817.h5.dat',\n",
    "             'LS220_3335_rho391_temp163_ye66.h5.dat']\n",
    "filenames = [\"Hempel_SFHoEOS_rho222_temp180_ye60_version_1.1_20120817.h5\",\n",
    "             \"HShen_HyperonEOS_rho220_temp180_ye65_version_1.1_20131007.h5\",\n",
    "]\n",
    "\n",
    "short_names = ['LS220','SFHo','SFHx','TM1','TMA']\n",
    "rho_values = np.linspace(-3.5, -2.3, 4)\n",
    "\n",
    "for fname, sname in zip(filenames, short_names):\n",
    "    print('h5_files/' + fname)\n",
    "    test = TableStar('h5_files/' + fname)\n",
    "    \n",
    "    # this line runs everything\n",
    "    res = run_star(test, rho_values = rho_values)\n",
    "    fvals.append(res)\n",
    "    \n",
    "    fig = plt.gcf()\n",
    "    fig.suptitle(sname)"
   ]
  },
  {
   "cell_type": "code",
   "execution_count": null,
   "metadata": {
    "scrolled": false
   },
   "outputs": [],
   "source": [
    "fvals = []\n",
    "filenames = ['Hempel_SFHoEOS_rho222_temp180_ye60_version_1.1_20120817.h5.dat',\n",
    "             'Hempel_SFHxEOS_rho234_temp180_ye60_version_1.1_20120817.h5.dat',\n",
    "             'Hempel_TM1EOS_rho234_temp180_ye60_version_1.1_20120817.h5.dat',\n",
    "             'Hempel_TMAEOS_rho234_temp180_ye60_version_1.1_20120817.h5.dat',\n",
    "             'LS220_3335_rho391_temp163_ye66.h5.dat']\n",
    "short_names = ['LS220','SFHo','SFHx','TM1','TMA']\n",
    "rho_values = np.linspace(-3.5, -2.3, 4)\n",
    "\n",
    "for fname, sname in zip(filenames, short_names):\n",
    "    print('eos_dat/' + fname)\n",
    "    test = TableStar('eos_dat/' + fname)\n",
    "    \n",
    "    # this line runs everything\n",
    "    res = run_star(test, rho_values = rho_values)\n",
    "    fvals.append(res)\n",
    "    \n",
    "    fig = plt.gcf()\n",
    "    fig.suptitle(sname)\n",
    "    fig.tight_layout()"
   ]
  },
  {
   "cell_type": "code",
   "execution_count": null,
   "metadata": {},
   "outputs": [],
   "source": [
    "fig, [ax1,ax2] = plt.subplots(2, figsize = [6,6])\n",
    "for i, (final_values, sname) in enumerate(zip(fvals, short_names)):\n",
    "    rho, r_values, m_values, P_values, phi_values, M0_values = np.array(final_values).T\n",
    "    to_km = 1e-5/6.7706e-6\n",
    "\n",
    "    c = 'C{}'.format(i)\n",
    "    ax1.plot(to_km*r_values, m_values, '-', color = c, label = sname + ' grav')\n",
    "    \n",
    "    i_max = np.argmax(m_values)\n",
    "    # assert (i_max == np.argmax(M0_values))\n",
    "    \n",
    "    m_max = m_values[i_max]\n",
    "    M0_max = M0_values[i_max]\n",
    "    ax1.scatter(to_km*r_values[i_max], m_max, c = c, marker = 'x')\n",
    "    # ax1.scatter(to_km*r_values[i_max], M0_max, c = c, marker = 'o')\n",
    "    ax2.scatter(i, m_max, c = 'k', marker = 'x')\n",
    "    ax2.scatter(i, M0_max, c = 'k', marker = 'o')\n",
    "    \n",
    "ax2.set_xticks(range(len(short_names)))\n",
    "ax2.set_xticklabels(short_names)\n",
    "ax1.legend()\n",
    "ax2.legend(['Gravitational','Baryonic'])\n",
    "ax1.grid()\n",
    "ax2.grid()\n",
    "\n",
    "ax1.set_xlabel('Radius [km]')\n",
    "ax1.set_ylabel(r'Mass [$M_\\odot$]')\n",
    "ax2.set_ylabel(r'Maximal mass [$M_\\odot$]')\n",
    "\n",
    "ax1.set_xlim([10,16])\n",
    "fig.tight_layout()\n",
    "# ax2.legend('')"
   ]
  },
  {
   "cell_type": "code",
   "execution_count": null,
   "metadata": {},
   "outputs": [],
   "source": []
  },
  {
   "cell_type": "code",
   "execution_count": null,
   "metadata": {},
   "outputs": [],
   "source": []
  },
  {
   "cell_type": "code",
   "execution_count": null,
   "metadata": {},
   "outputs": [],
   "source": []
  },
  {
   "cell_type": "code",
   "execution_count": null,
   "metadata": {},
   "outputs": [],
   "source": []
  },
  {
   "cell_type": "code",
   "execution_count": null,
   "metadata": {},
   "outputs": [],
   "source": []
  },
  {
   "cell_type": "code",
   "execution_count": null,
   "metadata": {},
   "outputs": [],
   "source": []
  },
  {
   "cell_type": "code",
   "execution_count": null,
   "metadata": {},
   "outputs": [],
   "source": []
  },
  {
   "cell_type": "code",
   "execution_count": null,
   "metadata": {},
   "outputs": [],
   "source": []
  },
  {
   "cell_type": "code",
   "execution_count": null,
   "metadata": {},
   "outputs": [],
   "source": []
  },
  {
   "cell_type": "code",
   "execution_count": null,
   "metadata": {},
   "outputs": [],
   "source": []
  }
 ],
 "metadata": {
  "kernelspec": {
   "display_name": "Python 3",
   "language": "python",
   "name": "python3"
  },
  "language_info": {
   "codemirror_mode": {
    "name": "ipython",
    "version": 3
   },
   "file_extension": ".py",
   "mimetype": "text/x-python",
   "name": "python",
   "nbconvert_exporter": "python",
   "pygments_lexer": "ipython3",
   "version": "3.6.6"
  }
 },
 "nbformat": 4,
 "nbformat_minor": 2
}
