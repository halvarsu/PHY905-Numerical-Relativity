{
 "cells": [
  {
   "cell_type": "code",
   "execution_count": 6,
   "metadata": {},
   "outputs": [
    {
     "name": "stdout",
     "output_type": "stream",
     "text": [
      "The autoreload extension is already loaded. To reload it, use:\n",
      "  %reload_ext autoreload\n"
     ]
    }
   ],
   "source": [
    "%load_ext autoreload\n",
    "%matplotlib inline\n",
    "%autoreload 2"
   ]
  },
  {
   "cell_type": "markdown",
   "metadata": {},
   "source": [
    "Loading the HShen, there are some weird things with the temperature ranges of this one"
   ]
  },
  {
   "cell_type": "code",
   "execution_count": 44,
   "metadata": {},
   "outputs": [
    {
     "name": "stdout",
     "output_type": "stream",
     "text": [
      "['Abar', 'Meff', 'Xa', 'Xh', 'Xn', 'Xp', 'Zbar', 'cs2', 'dedt', 'dpderho', 'dpdrhoe', 'energy_shift', 'entropy', 'gamma', 'logenergy', 'logpress', 'logrho', 'logtemp', 'mu_e', 'mu_n', 'mu_p', 'muhat', 'munu', 'pointsrho', 'pointstemp', 'pointsye', 'timestamp', 'ye']\n",
      "log [3.0, 16.0] g/cm^3\n",
      "log [18.573418605725163, 37.161923489191174] MeV/fm^3\n",
      "log [0.01, 0.65]\n"
     ]
    }
   ],
   "source": [
    "import h5py\n",
    "\n",
    "test = 'HShen_HyperonEOS_rho220_temp180_ye65_version_1.1_20131007.h5'\n",
    "ftest = h5py.File(test)\n",
    "print(list(ftest.keys()))\n",
    "\n",
    "print('log', get_bounds(ftest['logrho'][:]),   'g/cm^3')\n",
    "print('log', get_bounds(ftest['logpress'][:]), 'MeV/fm^3')\n",
    "print('log', get_bounds(ftest['ye'][:]))\n",
    "ftest.close()"
   ]
  },
  {
   "cell_type": "code",
   "execution_count": 8,
   "metadata": {},
   "outputs": [],
   "source": [
    "def get_bounds(x):\n",
    "    return [np.min(x), np.max(x)]"
   ]
  },
  {
   "cell_type": "code",
   "execution_count": 10,
   "metadata": {},
   "outputs": [],
   "source": [
    "filename = 'Hempel_SFHoEOS_rho222_temp180_ye60_version_1.1_20120817.h5'"
   ]
  },
  {
   "cell_type": "markdown",
   "metadata": {},
   "source": [
    "# Figuring out the units"
   ]
  },
  {
   "cell_type": "markdown",
   "metadata": {},
   "source": [
    "### Testing speed of different integrators"
   ]
  },
  {
   "cell_type": "code",
   "execution_count": 18,
   "metadata": {
    "scrolled": true
   },
   "outputs": [
    {
     "name": "stdout",
     "output_type": "stream",
     "text": [
      "initiating\n",
      "solving with 0.001 0.8251006603240967\n"
     ]
    },
    {
     "ename": "KeyboardInterrupt",
     "evalue": "",
     "output_type": "error",
     "traceback": [
      "\u001b[0;31m---------------------------------------------------------------------------\u001b[0m",
      "\u001b[0;31mKeyboardInterrupt\u001b[0m                         Traceback (most recent call last)",
      "\u001b[0;32m<ipython-input-18-271a157e1ea5>\u001b[0m in \u001b[0;36m<module>\u001b[0;34m\u001b[0m\n\u001b[1;32m      7\u001b[0m     \u001b[0mstart\u001b[0m \u001b[0;34m=\u001b[0m \u001b[0mtime\u001b[0m\u001b[0;34m.\u001b[0m\u001b[0mtime\u001b[0m\u001b[0;34m(\u001b[0m\u001b[0;34m)\u001b[0m\u001b[0;34m\u001b[0m\u001b[0m\n\u001b[1;32m      8\u001b[0m     \u001b[0mprint\u001b[0m\u001b[0;34m(\u001b[0m\u001b[0;34m'solving with %s'\u001b[0m \u001b[0;34m%\u001b[0m \u001b[0;36m10\u001b[0m\u001b[0;34m**\u001b[0m\u001b[0;34m-\u001b[0m\u001b[0;36m3\u001b[0m\u001b[0;34m,\u001b[0m \u001b[0;34m(\u001b[0m\u001b[0mstart\u001b[0m \u001b[0;34m-\u001b[0m \u001b[0mstart1\u001b[0m\u001b[0;34m)\u001b[0m\u001b[0;34m)\u001b[0m\u001b[0;34m\u001b[0m\u001b[0m\n\u001b[0;32m----> 9\u001b[0;31m     \u001b[0msolver\u001b[0m\u001b[0;34m,\u001b[0m \u001b[0mr_values\u001b[0m\u001b[0;34m,\u001b[0m \u001b[0mvalues\u001b[0m \u001b[0;34m=\u001b[0m \u001b[0mtest\u001b[0m\u001b[0;34m.\u001b[0m\u001b[0msolve_star_ode\u001b[0m\u001b[0;34m(\u001b[0m\u001b[0mNr\u001b[0m \u001b[0;34m=\u001b[0m \u001b[0;36m100\u001b[0m\u001b[0;34m,\u001b[0m \u001b[0mintegrator\u001b[0m \u001b[0;34m=\u001b[0m \u001b[0mintegrator\u001b[0m\u001b[0;34m)\u001b[0m\u001b[0;34m\u001b[0m\u001b[0m\n\u001b[0m\u001b[1;32m     10\u001b[0m     \u001b[0mstop\u001b[0m \u001b[0;34m=\u001b[0m \u001b[0mtime\u001b[0m\u001b[0;34m.\u001b[0m\u001b[0mtime\u001b[0m\u001b[0;34m(\u001b[0m\u001b[0;34m)\u001b[0m\u001b[0;34m\u001b[0m\u001b[0m\n\u001b[1;32m     11\u001b[0m     \u001b[0mprint\u001b[0m\u001b[0;34m(\u001b[0m\u001b[0;34m'time use: '\u001b[0m\u001b[0;34m,\u001b[0m \u001b[0mstop\u001b[0m \u001b[0;34m-\u001b[0m \u001b[0mstart\u001b[0m\u001b[0;34m)\u001b[0m\u001b[0;34m\u001b[0m\u001b[0m\n",
      "\u001b[0;32m~/uio/PHY905_NumericalRelativity/project1/tov.py\u001b[0m in \u001b[0;36msolve_star_ode\u001b[0;34m(self, integrator, tol, Nr)\u001b[0m\n\u001b[1;32m    133\u001b[0m \u001b[0;34m\u001b[0m\u001b[0m\n\u001b[1;32m    134\u001b[0m         \u001b[0;32mwhile\u001b[0m \u001b[0msolver\u001b[0m\u001b[0;34m.\u001b[0m\u001b[0msuccessful\u001b[0m\u001b[0;34m(\u001b[0m\u001b[0;34m)\u001b[0m \u001b[0;32mand\u001b[0m \u001b[0msolver\u001b[0m\u001b[0;34m.\u001b[0m\u001b[0mt\u001b[0m \u001b[0;34m<\u001b[0m \u001b[0mself\u001b[0m\u001b[0;34m.\u001b[0m\u001b[0mr_max\u001b[0m \u001b[0;32mand\u001b[0m \u001b[0;34m(\u001b[0m\u001b[0;32mnot\u001b[0m \u001b[0mP\u001b[0m \u001b[0;34m<\u001b[0m \u001b[0;36m10\u001b[0m\u001b[0;34m**\u001b[0m\u001b[0mself\u001b[0m\u001b[0;34m.\u001b[0m\u001b[0mpres_bounds\u001b[0m\u001b[0;34m[\u001b[0m\u001b[0;36m0\u001b[0m\u001b[0;34m]\u001b[0m\u001b[0;34m)\u001b[0m  \u001b[0;32mand\u001b[0m \u001b[0;34m(\u001b[0m\u001b[0;32mnot\u001b[0m \u001b[0mnp\u001b[0m\u001b[0;34m.\u001b[0m\u001b[0misnan\u001b[0m\u001b[0;34m(\u001b[0m\u001b[0mP\u001b[0m\u001b[0;34m)\u001b[0m\u001b[0;34m)\u001b[0m\u001b[0;34m:\u001b[0m\u001b[0;34m\u001b[0m\u001b[0m\n\u001b[0;32m--> 135\u001b[0;31m             \u001b[0msolver\u001b[0m\u001b[0;34m.\u001b[0m\u001b[0mintegrate\u001b[0m\u001b[0;34m(\u001b[0m\u001b[0msolver\u001b[0m\u001b[0;34m.\u001b[0m\u001b[0mt\u001b[0m\u001b[0;34m+\u001b[0m\u001b[0mdr\u001b[0m\u001b[0;34m)\u001b[0m\u001b[0;34m\u001b[0m\u001b[0m\n\u001b[0m\u001b[1;32m    136\u001b[0m \u001b[0;34m\u001b[0m\u001b[0m\n\u001b[1;32m    137\u001b[0m             \u001b[0;32mif\u001b[0m \u001b[0msolver\u001b[0m\u001b[0;34m.\u001b[0m\u001b[0my\u001b[0m\u001b[0;34m[\u001b[0m\u001b[0;36m1\u001b[0m\u001b[0;34m]\u001b[0m \u001b[0;34m<\u001b[0m \u001b[0;36m10\u001b[0m\u001b[0;34m**\u001b[0m\u001b[0mself\u001b[0m\u001b[0;34m.\u001b[0m\u001b[0mpres_bounds\u001b[0m\u001b[0;34m[\u001b[0m\u001b[0;36m0\u001b[0m\u001b[0;34m]\u001b[0m\u001b[0;34m:\u001b[0m\u001b[0;34m\u001b[0m\u001b[0m\n",
      "\u001b[0;32m~/anaconda3/lib/python3.6/site-packages/scipy/integrate/_ode.py\u001b[0m in \u001b[0;36mintegrate\u001b[0;34m(self, t, step, relax)\u001b[0m\n\u001b[1;32m    430\u001b[0m             self._y, self.t = mth(self.f, self.jac or (lambda: None),\n\u001b[1;32m    431\u001b[0m                                   \u001b[0mself\u001b[0m\u001b[0;34m.\u001b[0m\u001b[0m_y\u001b[0m\u001b[0;34m,\u001b[0m \u001b[0mself\u001b[0m\u001b[0;34m.\u001b[0m\u001b[0mt\u001b[0m\u001b[0;34m,\u001b[0m \u001b[0mt\u001b[0m\u001b[0;34m,\u001b[0m\u001b[0;34m\u001b[0m\u001b[0m\n\u001b[0;32m--> 432\u001b[0;31m                                   self.f_params, self.jac_params)\n\u001b[0m\u001b[1;32m    433\u001b[0m         \u001b[0;32mexcept\u001b[0m \u001b[0mSystemError\u001b[0m\u001b[0;34m:\u001b[0m\u001b[0;34m\u001b[0m\u001b[0m\n\u001b[1;32m    434\u001b[0m             \u001b[0;31m# f2py issue with tuple returns, see ticket 1187.\u001b[0m\u001b[0;34m\u001b[0m\u001b[0;34m\u001b[0m\u001b[0m\n",
      "\u001b[0;32m~/anaconda3/lib/python3.6/site-packages/scipy/integrate/_ode.py\u001b[0m in \u001b[0;36mrun\u001b[0;34m(self, f, jac, y0, t0, t1, f_params, jac_params)\u001b[0m\n\u001b[1;32m   1170\u001b[0m     \u001b[0;32mdef\u001b[0m \u001b[0mrun\u001b[0m\u001b[0;34m(\u001b[0m\u001b[0mself\u001b[0m\u001b[0;34m,\u001b[0m \u001b[0mf\u001b[0m\u001b[0;34m,\u001b[0m \u001b[0mjac\u001b[0m\u001b[0;34m,\u001b[0m \u001b[0my0\u001b[0m\u001b[0;34m,\u001b[0m \u001b[0mt0\u001b[0m\u001b[0;34m,\u001b[0m \u001b[0mt1\u001b[0m\u001b[0;34m,\u001b[0m \u001b[0mf_params\u001b[0m\u001b[0;34m,\u001b[0m \u001b[0mjac_params\u001b[0m\u001b[0;34m)\u001b[0m\u001b[0;34m:\u001b[0m\u001b[0;34m\u001b[0m\u001b[0m\n\u001b[1;32m   1171\u001b[0m         x, y, iwork, istate = self.runner(*((f, t0, y0, t1) +\n\u001b[0;32m-> 1172\u001b[0;31m                                           tuple(self.call_args) + (f_params,)))\n\u001b[0m\u001b[1;32m   1173\u001b[0m         \u001b[0mself\u001b[0m\u001b[0;34m.\u001b[0m\u001b[0mistate\u001b[0m \u001b[0;34m=\u001b[0m \u001b[0mistate\u001b[0m\u001b[0;34m\u001b[0m\u001b[0m\n\u001b[1;32m   1174\u001b[0m         \u001b[0;32mif\u001b[0m \u001b[0mistate\u001b[0m \u001b[0;34m<\u001b[0m \u001b[0;36m0\u001b[0m\u001b[0;34m:\u001b[0m\u001b[0;34m\u001b[0m\u001b[0m\n",
      "\u001b[0;32m~/uio/PHY905_NumericalRelativity/project1/tov.py\u001b[0m in \u001b[0;36mderivatives\u001b[0;34m(self, r, y)\u001b[0m\n\u001b[1;32m     58\u001b[0m                 \u001b[0;32mreturn\u001b[0m \u001b[0;34m[\u001b[0m\u001b[0;36m0\u001b[0m\u001b[0;34m,\u001b[0m\u001b[0;36m0\u001b[0m\u001b[0;34m,\u001b[0m\u001b[0;36m0\u001b[0m\u001b[0;34m,\u001b[0m\u001b[0;36m0\u001b[0m\u001b[0;34m]\u001b[0m\u001b[0;34m\u001b[0m\u001b[0m\n\u001b[1;32m     59\u001b[0m \u001b[0;34m\u001b[0m\u001b[0m\n\u001b[0;32m---> 60\u001b[0;31m         \u001b[0mrho0\u001b[0m \u001b[0;34m=\u001b[0m \u001b[0mself\u001b[0m\u001b[0;34m.\u001b[0m\u001b[0mrho0\u001b[0m\u001b[0;34m(\u001b[0m\u001b[0mP\u001b[0m\u001b[0;34m)\u001b[0m\u001b[0;34m\u001b[0m\u001b[0m\n\u001b[0m\u001b[1;32m     61\u001b[0m         \u001b[0mrho\u001b[0m \u001b[0;34m=\u001b[0m \u001b[0mself\u001b[0m\u001b[0;34m.\u001b[0m\u001b[0mrho\u001b[0m\u001b[0;34m(\u001b[0m\u001b[0mP\u001b[0m\u001b[0;34m)\u001b[0m\u001b[0;34m\u001b[0m\u001b[0m\n\u001b[1;32m     62\u001b[0m             \u001b[0;31m# print(\"HALLO\", rho0, rho)\u001b[0m\u001b[0;34m\u001b[0m\u001b[0;34m\u001b[0m\u001b[0m\n",
      "\u001b[0;32m~/uio/PHY905_NumericalRelativity/project1/tov.py\u001b[0m in \u001b[0;36mrho0\u001b[0;34m(self, P, rho)\u001b[0m\n\u001b[1;32m    289\u001b[0m     \u001b[0;32mdef\u001b[0m \u001b[0mrho0\u001b[0m\u001b[0;34m(\u001b[0m\u001b[0mself\u001b[0m\u001b[0;34m,\u001b[0m \u001b[0mP\u001b[0m\u001b[0;34m,\u001b[0m \u001b[0mrho\u001b[0m \u001b[0;34m=\u001b[0m \u001b[0;32mNone\u001b[0m\u001b[0;34m)\u001b[0m\u001b[0;34m:\u001b[0m\u001b[0;34m\u001b[0m\u001b[0m\n\u001b[1;32m    290\u001b[0m         \u001b[0;34m\"\"\"Uses P as is, no convert to log\"\"\"\u001b[0m\u001b[0;34m\u001b[0m\u001b[0m\n\u001b[0;32m--> 291\u001b[0;31m         \u001b[0mrho\u001b[0m \u001b[0;34m=\u001b[0m \u001b[0mrho\u001b[0m \u001b[0;32mor\u001b[0m \u001b[0mself\u001b[0m\u001b[0;34m.\u001b[0m\u001b[0mrho\u001b[0m\u001b[0;34m(\u001b[0m\u001b[0mP\u001b[0m\u001b[0;34m)\u001b[0m\u001b[0;34m\u001b[0m\u001b[0m\n\u001b[0m\u001b[1;32m    292\u001b[0m         \u001b[0meps\u001b[0m \u001b[0;34m=\u001b[0m \u001b[0mself\u001b[0m\u001b[0;34m.\u001b[0m\u001b[0menergy\u001b[0m\u001b[0;34m(\u001b[0m\u001b[0mself\u001b[0m\u001b[0;34m.\u001b[0m\u001b[0mcurrent_ye\u001b[0m\u001b[0;34m,\u001b[0m \u001b[0mrho\u001b[0m\u001b[0;34m)\u001b[0m\u001b[0;34m\u001b[0m\u001b[0m\n\u001b[1;32m    293\u001b[0m         \u001b[0;32mreturn\u001b[0m \u001b[0mrho\u001b[0m \u001b[0;34m/\u001b[0m \u001b[0;34m(\u001b[0m\u001b[0;36m1\u001b[0m \u001b[0;34m+\u001b[0m \u001b[0meps\u001b[0m\u001b[0;34m)\u001b[0m\u001b[0;34m\u001b[0m\u001b[0m\n",
      "\u001b[0;32m~/uio/PHY905_NumericalRelativity/project1/tov.py\u001b[0m in \u001b[0;36mrho\u001b[0;34m(self, P)\u001b[0m\n\u001b[1;32m    283\u001b[0m         \u001b[0ma\u001b[0m\u001b[0;34m,\u001b[0m \u001b[0mb\u001b[0m \u001b[0;34m=\u001b[0m \u001b[0mself\u001b[0m\u001b[0;34m.\u001b[0m\u001b[0mye_bounds\u001b[0m\u001b[0;34m\u001b[0m\u001b[0m\n\u001b[1;32m    284\u001b[0m         \u001b[0mlogP\u001b[0m \u001b[0;34m=\u001b[0m \u001b[0mnp\u001b[0m\u001b[0;34m.\u001b[0m\u001b[0mlog10\u001b[0m\u001b[0;34m(\u001b[0m\u001b[0mP\u001b[0m\u001b[0;34m)\u001b[0m\u001b[0;34m\u001b[0m\u001b[0m\n\u001b[0;32m--> 285\u001b[0;31m         \u001b[0mres\u001b[0m \u001b[0;34m=\u001b[0m \u001b[0mscipy\u001b[0m\u001b[0;34m.\u001b[0m\u001b[0moptimize\u001b[0m\u001b[0;34m.\u001b[0m\u001b[0mbisect\u001b[0m\u001b[0;34m(\u001b[0m\u001b[0mself\u001b[0m\u001b[0;34m.\u001b[0m\u001b[0mmunu\u001b[0m\u001b[0;34m,\u001b[0m \u001b[0ma\u001b[0m \u001b[0;34m=\u001b[0m \u001b[0ma\u001b[0m\u001b[0;34m,\u001b[0m \u001b[0mb\u001b[0m \u001b[0;34m=\u001b[0m \u001b[0mb\u001b[0m\u001b[0;34m,\u001b[0m  \u001b[0margs\u001b[0m\u001b[0;34m=\u001b[0m\u001b[0;34m(\u001b[0m\u001b[0mlogP\u001b[0m\u001b[0;34m,\u001b[0m \u001b[0;34m'pres'\u001b[0m\u001b[0;34m)\u001b[0m\u001b[0;34m)\u001b[0m\u001b[0;34m\u001b[0m\u001b[0m\n\u001b[0m\u001b[1;32m    286\u001b[0m         \u001b[0mself\u001b[0m\u001b[0;34m.\u001b[0m\u001b[0mcurrent_ye\u001b[0m \u001b[0;34m=\u001b[0m \u001b[0mres\u001b[0m\u001b[0;34m\u001b[0m\u001b[0m\n\u001b[1;32m    287\u001b[0m         \u001b[0;32mreturn\u001b[0m \u001b[0;36m10\u001b[0m\u001b[0;34m**\u001b[0m\u001b[0mself\u001b[0m\u001b[0;34m.\u001b[0m\u001b[0mrho_interp\u001b[0m\u001b[0;34m(\u001b[0m\u001b[0mself\u001b[0m\u001b[0;34m.\u001b[0m\u001b[0mcurrent_ye\u001b[0m\u001b[0;34m,\u001b[0m \u001b[0mlogP\u001b[0m\u001b[0;34m)\u001b[0m\u001b[0;34m\u001b[0m\u001b[0m\n",
      "\u001b[0;32m~/anaconda3/lib/python3.6/site-packages/scipy/optimize/zeros.py\u001b[0m in \u001b[0;36mbisect\u001b[0;34m(f, a, b, args, xtol, rtol, maxiter, full_output, disp)\u001b[0m\n\u001b[1;32m    527\u001b[0m     \u001b[0;32mif\u001b[0m \u001b[0mrtol\u001b[0m \u001b[0;34m<\u001b[0m \u001b[0m_rtol\u001b[0m\u001b[0;34m:\u001b[0m\u001b[0;34m\u001b[0m\u001b[0m\n\u001b[1;32m    528\u001b[0m         \u001b[0;32mraise\u001b[0m \u001b[0mValueError\u001b[0m\u001b[0;34m(\u001b[0m\u001b[0;34m\"rtol too small (%g < %g)\"\u001b[0m \u001b[0;34m%\u001b[0m \u001b[0;34m(\u001b[0m\u001b[0mrtol\u001b[0m\u001b[0;34m,\u001b[0m \u001b[0m_rtol\u001b[0m\u001b[0;34m)\u001b[0m\u001b[0;34m)\u001b[0m\u001b[0;34m\u001b[0m\u001b[0m\n\u001b[0;32m--> 529\u001b[0;31m     \u001b[0mr\u001b[0m \u001b[0;34m=\u001b[0m \u001b[0m_zeros\u001b[0m\u001b[0;34m.\u001b[0m\u001b[0m_bisect\u001b[0m\u001b[0;34m(\u001b[0m\u001b[0mf\u001b[0m\u001b[0;34m,\u001b[0m \u001b[0ma\u001b[0m\u001b[0;34m,\u001b[0m \u001b[0mb\u001b[0m\u001b[0;34m,\u001b[0m \u001b[0mxtol\u001b[0m\u001b[0;34m,\u001b[0m \u001b[0mrtol\u001b[0m\u001b[0;34m,\u001b[0m \u001b[0mmaxiter\u001b[0m\u001b[0;34m,\u001b[0m \u001b[0margs\u001b[0m\u001b[0;34m,\u001b[0m \u001b[0mfull_output\u001b[0m\u001b[0;34m,\u001b[0m \u001b[0mdisp\u001b[0m\u001b[0;34m)\u001b[0m\u001b[0;34m\u001b[0m\u001b[0m\n\u001b[0m\u001b[1;32m    530\u001b[0m     \u001b[0;32mreturn\u001b[0m \u001b[0mresults_c\u001b[0m\u001b[0;34m(\u001b[0m\u001b[0mfull_output\u001b[0m\u001b[0;34m,\u001b[0m \u001b[0mr\u001b[0m\u001b[0;34m)\u001b[0m\u001b[0;34m\u001b[0m\u001b[0m\n\u001b[1;32m    531\u001b[0m \u001b[0;34m\u001b[0m\u001b[0m\n",
      "\u001b[0;32m~/uio/PHY905_NumericalRelativity/project1/tov.py\u001b[0m in \u001b[0;36mmunu\u001b[0;34m(self, ye, val, val_type)\u001b[0m\n\u001b[1;32m    269\u001b[0m             \u001b[0;32mreturn\u001b[0m \u001b[0mself\u001b[0m\u001b[0;34m.\u001b[0m\u001b[0mmunu_interp_rho\u001b[0m\u001b[0;34m(\u001b[0m\u001b[0;34m[\u001b[0m\u001b[0mye\u001b[0m\u001b[0;34m,\u001b[0m \u001b[0mval\u001b[0m\u001b[0;34m]\u001b[0m\u001b[0;34m)\u001b[0m\u001b[0;34m[\u001b[0m\u001b[0;36m0\u001b[0m\u001b[0;34m]\u001b[0m\u001b[0;34m\u001b[0m\u001b[0m\n\u001b[1;32m    270\u001b[0m         \u001b[0;32melif\u001b[0m \u001b[0mval_type\u001b[0m \u001b[0;34m==\u001b[0m \u001b[0;34m'pres'\u001b[0m\u001b[0;34m:\u001b[0m\u001b[0;34m\u001b[0m\u001b[0m\n\u001b[0;32m--> 271\u001b[0;31m             \u001b[0;32mreturn\u001b[0m \u001b[0mself\u001b[0m\u001b[0;34m.\u001b[0m\u001b[0mmunu_interp_pres\u001b[0m\u001b[0;34m(\u001b[0m\u001b[0;34m[\u001b[0m\u001b[0mye\u001b[0m\u001b[0;34m,\u001b[0m \u001b[0mval\u001b[0m\u001b[0;34m]\u001b[0m\u001b[0;34m)\u001b[0m\u001b[0;34m[\u001b[0m\u001b[0;36m0\u001b[0m\u001b[0;34m]\u001b[0m\u001b[0;34m\u001b[0m\u001b[0m\n\u001b[0m\u001b[1;32m    272\u001b[0m         \u001b[0;32melse\u001b[0m\u001b[0;34m:\u001b[0m\u001b[0;34m\u001b[0m\u001b[0m\n\u001b[1;32m    273\u001b[0m             \u001b[0;32mraise\u001b[0m \u001b[0mValueError\u001b[0m\u001b[0;34m(\u001b[0m\u001b[0;34m\"val_type must be either 'rho' or 'pres'\"\u001b[0m\u001b[0;34m)\u001b[0m\u001b[0;34m\u001b[0m\u001b[0m\n",
      "\u001b[0;32minterpnd.pyx\u001b[0m in \u001b[0;36mscipy.interpolate.interpnd.NDInterpolatorBase.__call__\u001b[0;34m()\u001b[0m\n",
      "\u001b[0;32m~/anaconda3/lib/python3.6/site-packages/numpy/core/numeric.py\u001b[0m in \u001b[0;36masarray\u001b[0;34m(a, dtype, order)\u001b[0m\n\u001b[1;32m    422\u001b[0m \u001b[0;34m\u001b[0m\u001b[0m\n\u001b[1;32m    423\u001b[0m \u001b[0;34m\u001b[0m\u001b[0m\n\u001b[0;32m--> 424\u001b[0;31m \u001b[0;32mdef\u001b[0m \u001b[0masarray\u001b[0m\u001b[0;34m(\u001b[0m\u001b[0ma\u001b[0m\u001b[0;34m,\u001b[0m \u001b[0mdtype\u001b[0m\u001b[0;34m=\u001b[0m\u001b[0;32mNone\u001b[0m\u001b[0;34m,\u001b[0m \u001b[0morder\u001b[0m\u001b[0;34m=\u001b[0m\u001b[0;32mNone\u001b[0m\u001b[0;34m)\u001b[0m\u001b[0;34m:\u001b[0m\u001b[0;34m\u001b[0m\u001b[0m\n\u001b[0m\u001b[1;32m    425\u001b[0m     \"\"\"Convert the input to an array.\n\u001b[1;32m    426\u001b[0m \u001b[0;34m\u001b[0m\u001b[0m\n",
      "\u001b[0;31mKeyboardInterrupt\u001b[0m: "
     ]
    }
   ],
   "source": [
    "import time\n",
    "# rhoc = 3e15 * 1.6199e-18\n",
    "for integrator in [\"dop853\",\"dopri5\",\"vode\",\"lsoda\"]:\n",
    "    start1 = time.time()\n",
    "    print('initiating')\n",
    "    test = TableStar(filename).set_initial_conditions(rhoc = 10**-3)\n",
    "    start = time.time()\n",
    "    print('solving with %s' % 10**-3, (start - start1))\n",
    "    solver, r_values, values = test.solve_star_ode(Nr = 100, integrator = integrator)\n",
    "    stop = time.time()\n",
    "    print('time use: ', stop - start)\n",
    "\n",
    "    plt.plot(r_values)#, solver.y[1])"
   ]
  },
  {
   "cell_type": "markdown",
   "metadata": {},
   "source": [
    "# compare solver stability"
   ]
  },
  {
   "cell_type": "code",
   "execution_count": 67,
   "metadata": {
    "collapsed": true
   },
   "outputs": [
    {
     "name": "stdout",
     "output_type": "stream",
     "text": [
      "dop853\n",
      "100\n"
     ]
    },
    {
     "name": "stderr",
     "output_type": "stream",
     "text": [
      "/home/halvard/anaconda3/lib/python3.6/site-packages/scipy/integrate/_ode.py:1177: UserWarning: dop853: step size becomes too small\n",
      "  self.messages.get(istate, unexpected_istate_msg)))\n"
     ]
    },
    {
     "name": "stdout",
     "output_type": "stream",
     "text": [
      "125\n",
      "150\n",
      "175\n",
      "200\n",
      "dopri5\n",
      "100\n",
      "125\n",
      "150\n",
      "175\n",
      "200\n",
      "vode\n",
      "100\n"
     ]
    },
    {
     "name": "stderr",
     "output_type": "stream",
     "text": [
      "/home/halvard/anaconda3/lib/python3.6/site-packages/scipy/integrate/_ode.py:1009: UserWarning: vode: Repeated convergence failures. (Perhaps bad Jacobian supplied or wrong choice of MF or tolerances.)\n",
      "  self.messages.get(istate, unexpected_istate_msg)))\n"
     ]
    },
    {
     "name": "stdout",
     "output_type": "stream",
     "text": [
      "125\n",
      "150\n",
      "175\n",
      "200\n",
      "lsoda\n",
      "100\n",
      "125\n",
      "150\n",
      "175\n",
      "200\n"
     ]
    }
   ],
   "source": [
    "test = TableStar(filename).set_initial_conditions(rhoc = 10**-3.2)\n",
    "\n",
    "Nr_values = np.linspace(100, 200, 5, dtype = np.int64)\n",
    "t_v = {}\n",
    "y_v = {}\n",
    "integrator = 'dopri5'\n",
    "for integrator in [\"dop853\",\"dopri5\",\"vode\",\"lsoda\"]:\n",
    "    print(integrator)\n",
    "    t_v[integrator] = []\n",
    "    y_v[integrator] = []\n",
    "\n",
    "    for Nr in Nr_values:\n",
    "        print(Nr)\n",
    "        solver, t1, y1 = test.solve_star_ode(Nr = Nr, integrator = integrator)\n",
    "        t_v[integrator].append(t1[-1])\n",
    "        y_v[integrator].append(y1[-1])"
   ]
  },
  {
   "cell_type": "code",
   "execution_count": 19,
   "metadata": {},
   "outputs": [
    {
     "ename": "NameError",
     "evalue": "name 'Nr_values' is not defined",
     "output_type": "error",
     "traceback": [
      "\u001b[0;31m---------------------------------------------------------------------------\u001b[0m",
      "\u001b[0;31mNameError\u001b[0m                                 Traceback (most recent call last)",
      "\u001b[0;32m<ipython-input-19-39f055833bad>\u001b[0m in \u001b[0;36m<module>\u001b[0;34m\u001b[0m\n\u001b[1;32m      2\u001b[0m \u001b[0;34m\u001b[0m\u001b[0m\n\u001b[1;32m      3\u001b[0m \u001b[0;32mfor\u001b[0m \u001b[0mintegrator\u001b[0m \u001b[0;32min\u001b[0m \u001b[0;34m[\u001b[0m\u001b[0;34m\"dop853\"\u001b[0m\u001b[0;34m,\u001b[0m\u001b[0;34m\"dopri5\"\u001b[0m\u001b[0;34m,\u001b[0m\u001b[0;34m\"vode\"\u001b[0m\u001b[0;34m,\u001b[0m\u001b[0;34m\"lsoda\"\u001b[0m\u001b[0;34m]\u001b[0m\u001b[0;34m:\u001b[0m\u001b[0;34m\u001b[0m\u001b[0m\n\u001b[0;32m----> 4\u001b[0;31m     \u001b[0mplt\u001b[0m\u001b[0;34m.\u001b[0m\u001b[0mplot\u001b[0m\u001b[0;34m(\u001b[0m\u001b[0mNr_values\u001b[0m\u001b[0;34m,\u001b[0m \u001b[0mnp\u001b[0m\u001b[0;34m.\u001b[0m\u001b[0marray\u001b[0m\u001b[0;34m(\u001b[0m\u001b[0mt_v\u001b[0m\u001b[0;34m[\u001b[0m\u001b[0mintegrator\u001b[0m\u001b[0;34m]\u001b[0m\u001b[0;34m)\u001b[0m \u001b[0;34m*\u001b[0m \u001b[0mto_km\u001b[0m\u001b[0;34m,\u001b[0m \u001b[0mlabel\u001b[0m \u001b[0;34m=\u001b[0m \u001b[0mintegrator\u001b[0m\u001b[0;34m)\u001b[0m\u001b[0;34m\u001b[0m\u001b[0m\n\u001b[0m\u001b[1;32m      5\u001b[0m \u001b[0mplt\u001b[0m\u001b[0;34m.\u001b[0m\u001b[0mxlabel\u001b[0m\u001b[0;34m(\u001b[0m\u001b[0;34m'Nr'\u001b[0m\u001b[0;34m)\u001b[0m\u001b[0;34m\u001b[0m\u001b[0m\n\u001b[1;32m      6\u001b[0m \u001b[0mplt\u001b[0m\u001b[0;34m.\u001b[0m\u001b[0mylabel\u001b[0m\u001b[0;34m(\u001b[0m\u001b[0;34m'Radius [km]'\u001b[0m\u001b[0;34m)\u001b[0m\u001b[0;34m\u001b[0m\u001b[0m\n",
      "\u001b[0;31mNameError\u001b[0m: name 'Nr_values' is not defined"
     ]
    }
   ],
   "source": [
    "to_km = 1e-5/6.7706e-6\n",
    "\n",
    "for integrator in [\"dop853\",\"dopri5\",\"vode\",\"lsoda\"]:\n",
    "    plt.plot(Nr_values, np.array(t_v[integrator]) * to_km, label = integrator)\n",
    "plt.xlabel('Nr')\n",
    "plt.ylabel('Radius [km]')\n",
    "plt.legend()"
   ]
  },
  {
   "cell_type": "code",
   "execution_count": 89,
   "metadata": {},
   "outputs": [
    {
     "data": {
      "text/plain": [
       "<matplotlib.legend.Legend at 0x7f394c7cc6d8>"
      ]
     },
     "execution_count": 89,
     "metadata": {},
     "output_type": "execute_result"
    },
    {
     "data": {
      "image/png": "[encoded data removed]",
      "text/plain": [
       "<matplotlib.figure.Figure at 0x7f394c7ccb38>"
      ]
     },
     "metadata": {
      "needs_background": "light"
     },
     "output_type": "display_data"
    }
   ],
   "source": [
    "for integrator in [\"dop853\",\"dopri5\",\"vode\",\"lsoda\"]:\n",
    "\n",
    "    plt.plot(Nr_values, np.array(y_v[integrator])[:,0], label = integrator)\n",
    "plt.title('Mass')\n",
    "plt.legend()"
   ]
  },
  {
   "cell_type": "markdown",
   "metadata": {},
   "source": [
    "# Test dopri5 for low values of Nr"
   ]
  },
  {
   "cell_type": "code",
   "execution_count": 20,
   "metadata": {},
   "outputs": [
    {
     "name": "stdout",
     "output_type": "stream",
     "text": [
      "10\n"
     ]
    },
    {
     "name": "stderr",
     "output_type": "stream",
     "text": [
      "/home/halvard/anaconda3/lib/python3.6/site-packages/scipy/integrate/_ode.py:1177: UserWarning: dopri5: step size becomes too small\n",
      "  self.messages.get(istate, unexpected_istate_msg)))\n",
      "/home/halvard/uio/PHY905_NumericalRelativity/project1/tov.py:158: UserWarning: Something went wrong in the integration, and we need a better error message\n",
      "  warnings.warn('Something went wrong in the integration, and we need a better error message')\n"
     ]
    },
    {
     "name": "stdout",
     "output_type": "stream",
     "text": [
      "23\n",
      "56\n",
      "133\n",
      "316\n"
     ]
    },
    {
     "data": {
      "text/plain": [
       "<matplotlib.legend.Legend at 0x7f9b40825208>"
      ]
     },
     "execution_count": 20,
     "metadata": {},
     "output_type": "execute_result"
    },
    {
     "data": {
      "image/png": "[encoded data removed]",
      "text/plain": [
       "<matplotlib.figure.Figure at 0x7f9b408255c0>"
      ]
     },
     "metadata": {
      "needs_background": "light"
     },
     "output_type": "display_data"
    }
   ],
   "source": [
    "test = TableStar(filename).set_initial_conditions(rhoc = 10**-3.2)\n",
    "\n",
    "Nr_values = np.logspace(1, 2.5, 5, dtype = np.int64)\n",
    "t_dp5 = []\n",
    "y_dp5 = []\n",
    "integrator = 'dopri5'\n",
    "\n",
    "for Nr in Nr_values:\n",
    "    print(Nr)\n",
    "    solver, t1, y1 = test.solve_star_ode(Nr = Nr, integrator = integrator)\n",
    "    t_dp5.append(t1[-1])\n",
    "    y_dp5.append(y1[-1])\n",
    "    # rho = [test.rho(P) for P in y1[:,1]]\n",
    "    # plt.semilogy(t1, rho)\n",
    "    plt.semilogy(t1, y1[:,1], label = \"{:.0f}\".format(Nr))\n",
    "plt.legend()"
   ]
  },
  {
   "cell_type": "code",
   "execution_count": 21,
   "metadata": {},
   "outputs": [
    {
     "data": {
      "image/png": "[encoded data removed]",
      "text/plain": [
       "<matplotlib.figure.Figure at 0x7f9b4097ba20>"
      ]
     },
     "metadata": {
      "needs_background": "light"
     },
     "output_type": "display_data"
    }
   ],
   "source": [
    "y_dp5 = np.array(y_dp5)\n",
    "i = 0\n",
    "np.std(y_dp5, axis=0)\n",
    "fig, axes = plt.subplots(4)\n",
    "for i in range(4):\n",
    "    axes[i].plot(y_dp5[:,i])"
   ]
  },
  {
   "cell_type": "markdown",
   "metadata": {},
   "source": [
    "### Seems like even a value of N = 10 works... \n",
    "Lets test this more thoroughly. First make a good standard of high values with $N$ in the 100-range, finding mass and radius averages and deviations"
   ]
  },
  {
   "cell_type": "code",
   "execution_count": 194,
   "metadata": {},
   "outputs": [
    {
     "name": "stdout",
     "output_type": "stream",
     "text": [
      "90\n",
      "95\n",
      "100\n",
      "105\n",
      "110\n",
      "115\n",
      "120\n"
     ]
    },
    {
     "data": {
      "text/plain": [
       "0.403498614904069"
      ]
     },
     "execution_count": 194,
     "metadata": {},
     "output_type": "execute_result"
    }
   ],
   "source": [
    "test = TableStar(filename).set_initial_conditions(rhoc = 10**-3.2)\n",
    "integrator = 'dopri5'\n",
    "\n",
    "good_y = []\n",
    "good_t = []\n",
    "for Nr in range(90,121,5):\n",
    "    print(Nr)\n",
    "    solver, t, y = test.solve_star_ode(Nr = Nr, integrator = integrator)\n",
    "    \n",
    "    good_t.append(t[-1])\n",
    "    good_y.append(y[-1])\n",
    "    \n",
    "mean_r = np.mean(good_t)\n",
    "mean_m = np.mean(np.array(good_y)[:,0])\n",
    "mean_m"
   ]
  },
  {
   "cell_type": "markdown",
   "metadata": {},
   "source": [
    "check at which N the deviation from the good value is more than a percent"
   ]
  },
  {
   "cell_type": "code",
   "execution_count": 208,
   "metadata": {},
   "outputs": [
    {
     "name": "stdout",
     "output_type": "stream",
     "text": [
      "100\n",
      "28\n",
      "4.665339383436971e-06 False\n",
      "51\n",
      "15\n",
      "7.902255797879383e-07 False\n",
      "26\n",
      "10\n",
      "1.1165105166174493e-05 False\n",
      "13\n",
      "5\n",
      "3.1796032173160266e-05 False\n",
      "7\n",
      "3\n",
      "2.466774839226729e-05 False\n",
      "3\n",
      "4\n",
      "1.4931225590367916e-05 False\n",
      "1\n",
      "3\n",
      "2.2211038641860895e-05 False\n",
      "1\n",
      "3\n",
      "2.2211038641860895e-05 False\n"
     ]
    }
   ],
   "source": [
    "for Nr in np.logspace(2, 0, 8, dtype=int):\n",
    "    print(Nr)\n",
    "    solver, t, y = test.solve_star_ode(Nr = Nr, integrator = integrator)\n",
    "    print(len(t))\n",
    "    \n",
    "    diff = np.abs(y[-1, 0] - mean_m)/mean_m \n",
    "    print(diff, diff > 0.01)"
   ]
  },
  {
   "cell_type": "code",
   "execution_count": 212,
   "metadata": {},
   "outputs": [
    {
     "name": "stdout",
     "output_type": "stream",
     "text": [
      "3.3853e-07\n",
      "0.67706033853\n",
      "1.35412033853\n",
      "2.03118033853\n",
      "2.70824033853\n",
      "3.38530033853\n",
      "4.0623603385300004\n",
      "4.73942033853\n",
      "5.41648033853\n",
      "6.09354033853\n",
      "6.77060033853\n",
      "7.44766033853\n",
      "8.12472033853\n",
      "8.801780338530001\n"
     ]
    }
   ],
   "source": [
    "solver, t, y = test.solve_star_ode(Nr = 50, integrator = integrator)"
   ]
  },
  {
   "cell_type": "code",
   "execution_count": 205,
   "metadata": {},
   "outputs": [
    {
     "data": {
      "text/plain": [
       "[<matplotlib.lines.Line2D at 0x7f3939f79f28>]"
      ]
     },
     "execution_count": 205,
     "metadata": {},
     "output_type": "execute_result"
    },
    {
     "data": {
      "image/png": "[encoded data removed]",
      "text/plain": [
       "<matplotlib.figure.Figure at 0x7f3939fa1128>"
      ]
     },
     "metadata": {
      "needs_background": "light"
     },
     "output_type": "display_data"
    }
   ],
   "source": [
    "plt.plot(t, y[:,0])"
   ]
  },
  {
   "cell_type": "code",
   "execution_count": 201,
   "metadata": {},
   "outputs": [
    {
     "data": {
      "text/plain": [
       "2.2211038641860895e-05"
      ]
     },
     "execution_count": 201,
     "metadata": {},
     "output_type": "execute_result"
    }
   ],
   "source": [
    "diff"
   ]
  },
  {
   "cell_type": "code",
   "execution_count": 131,
   "metadata": {},
   "outputs": [
    {
     "data": {
      "text/plain": [
       "[<matplotlib.lines.Line2D at 0x7f3949578eb8>]"
      ]
     },
     "execution_count": 131,
     "metadata": {},
     "output_type": "execute_result"
    },
    {
     "data": {
      "image/png": "[encoded data removed]",
      "text/plain": [
       "<matplotlib.figure.Figure at 0x7f394c8180f0>"
      ]
     },
     "metadata": {
      "needs_background": "light"
     },
     "output_type": "display_data"
    }
   ],
   "source": [
    "\n",
    "_, [ax1,ax2] = plt.subplots(2)\n",
    "ax1.plot(t1[-5:], 'o-')\n",
    "ax2.semilogy(y1[-5:,1], 'o-')"
   ]
  },
  {
   "cell_type": "code",
   "execution_count": 118,
   "metadata": {},
   "outputs": [
    {
     "data": {
      "text/plain": [
       "[<matplotlib.lines.Line2D at 0x7f3948bf8198>]"
      ]
     },
     "execution_count": 118,
     "metadata": {},
     "output_type": "execute_result"
    },
    {
     "data": {
      "image/png": "[encoded data removed]",
      "text/plain": [
       "<matplotlib.figure.Figure at 0x7f3948c6b128>"
      ]
     },
     "metadata": {
      "needs_background": "light"
     },
     "output_type": "display_data"
    }
   ],
   "source": [
    "plt.plot(t_dp5)"
   ]
  },
  {
   "cell_type": "code",
   "execution_count": 52,
   "metadata": {},
   "outputs": [
    {
     "data": {
      "text/plain": [
       "[<matplotlib.lines.Line2D at 0x7f9b40549588>]"
      ]
     },
     "execution_count": 52,
     "metadata": {},
     "output_type": "execute_result"
    },
    {
     "data": {
      "image/png": "[encoded data removed]",
      "text/plain": [
       "<matplotlib.figure.Figure at 0x7f9b37e3dc50>"
      ]
     },
     "metadata": {
      "needs_background": "light"
     },
     "output_type": "display_data"
    }
   ],
   "source": [
    "plt.plot(np.array(y_dp5)[:,0])"
   ]
  },
  {
   "cell_type": "code",
   "execution_count": 57,
   "metadata": {},
   "outputs": [
    {
     "name": "stdout",
     "output_type": "stream",
     "text": [
      "initiating\n",
      "solving with 0.00501 0.7934191226959229\n",
      "solving with 0.00490 0.7934191226959229\n",
      "time use:  12.10019588470459\n"
     ]
    },
    {
     "data": {
      "text/plain": [
       "[<matplotlib.lines.Line2D at 0x7f9b3fbbe1d0>]"
      ]
     },
     "execution_count": 57,
     "metadata": {},
     "output_type": "execute_result"
    },
    {
     "data": {
      "image/png": "[encoded data removed]",
      "text/plain": [
       "<matplotlib.figure.Figure at 0x7f9b404679e8>"
      ]
     },
     "metadata": {
      "needs_background": "light"
     },
     "output_type": "display_data"
    }
   ],
   "source": [
    "import time\n",
    "Nr = 200\n",
    "# r_max = \n",
    "\n",
    "start1 = time.time()\n",
    "print('initiating')\n",
    "rhoc = 10**-2.30\n",
    "test = TableStar(filename).set_initial_conditions(rhoc = rhoc)\n",
    "start = time.time()\n",
    "print('solving with %.5f'%rhoc, start - start1)\n",
    "solver, t1, y1 = test.solve_star_ode(Nr = 200, integrator = 'vode')\n",
    "\n",
    "rhoc = 10**-2.31\n",
    "print('solving with %.5f'%rhoc, start - start1)\n",
    "test.set_initial_conditions(rhoc = rhoc)\n",
    "solver, t2, y2 = test.solve_star_ode(Nr = 200, integrator = 'vode')\n",
    "stop = time.time()\n",
    "print('time use: ', stop - start)\n",
    "\n",
    "plt.plot(t1)#, solver.y[1])\n",
    "plt.plot(t2)#, solver.y[1])"
   ]
  },
  {
   "cell_type": "markdown",
   "metadata": {},
   "source": [
    "### Edges looks like this"
   ]
  },
  {
   "cell_type": "code",
   "execution_count": 23,
   "metadata": {},
   "outputs": [
    {
     "data": {
      "text/plain": [
       "[35, 45, 6, 7.5]"
      ]
     },
     "execution_count": 23,
     "metadata": {},
     "output_type": "execute_result"
    },
    {
     "data": {
      "image/png": "[encoded data removed]",
      "text/plain": [
       "<matplotlib.figure.Figure at 0x7f394c54d9b0>"
      ]
     },
     "metadata": {
      "needs_background": "light"
     },
     "output_type": "display_data"
    }
   ],
   "source": [
    "plt.plot(t1)#, solver.y[1])\n",
    "plt.plot(t2)#, solver.y[1])\n",
    "plt.axis([35,45,6,7.5])"
   ]
  },
  {
   "cell_type": "code",
   "execution_count": 22,
   "metadata": {},
   "outputs": [],
   "source": [
    "# plt.semilogy(t1, y1[:, 1], label = 'pressure, $\\rho_c = 10^-{2.3}$')\n",
    "# plt.semilogy(t2, y2[:, 1], label = 'pressure, $\\rho_c = 10^-{2.35}$')\n",
    "# plt.axhline(10**test.pres_bounds[0], 'pressure lower bound')\n",
    "# plt.legend()"
   ]
  },
  {
   "cell_type": "code",
   "execution_count": 85,
   "metadata": {},
   "outputs": [
    {
     "name": "stdout",
     "output_type": "stream",
     "text": [
      "(-15.570458338804938, -2.2904585388049377)\n",
      "-3.4\n",
      "-3.3\n",
      "-3.1999999999999997\n",
      "-3.0999999999999996\n",
      "-3.0\n",
      "-2.9\n"
     ]
    },
    {
     "data": {
      "text/plain": [
       "<matplotlib.legend.Legend at 0x7f9b39e81438>"
      ]
     },
     "execution_count": 85,
     "metadata": {},
     "output_type": "execute_result"
    },
    {
     "data": {
      "image/png": "[encoded data removed]",
      "text/plain": [
       "<matplotlib.figure.Figure at 0x7f9b39e81080>"
      ]
     },
     "metadata": {
      "needs_background": "light"
     },
     "output_type": "display_data"
    }
   ],
   "source": [
    "fig,[ax1,ax2] = plt.subplots(1,2)\n",
    "\n",
    "final_values = []\n",
    "integrator = 'vode'\n",
    "Nr = 200\n",
    "\n",
    "\n",
    "star = TableStar(filename)\n",
    "\n",
    "print(test.rho_bounds)\n",
    "#for logrhoc in np.linspace(-3.3, -2.2903, 30):\n",
    "for logrhoc in np.linspace(-3.4, -2.9, 6):\n",
    "    \n",
    "    print(logrhoc)\n",
    "    star.set_initial_conditions(rhoc = 10**logrhoc)\n",
    "    solver, t, y = star.solve_star_ode(integrator = integrator, Nr = Nr)\n",
    "    \n",
    "    last_pos = -1 # Edge finding ensures last position at pressure < tol\n",
    "    final_values.append([logrhoc, t[last_pos]] + list(y[last_pos]))\n",
    "    \n",
    "    ax1.semilogy(t, y[:, 1], label = 'logrhoc {:.2f}'.format(logrhoc))\n",
    "    ax2.scatter(logrhoc, y[last_pos, 0])\n",
    "ax1.legend()\n",
    "# rhoc = 3e15 * 1.6199e-18\n",
    "# test = TableStar(filename).set_initial_conditions(rhoc = rhoc)"
   ]
  },
  {
   "cell_type": "code",
   "execution_count": null,
   "metadata": {},
   "outputs": [],
   "source": [
    "y2 = "
   ]
  },
  {
   "cell_type": "code",
   "execution_count": 309,
   "metadata": {},
   "outputs": [
    {
     "name": "stdout",
     "output_type": "stream",
     "text": [
      "(-20.73203909100906, -2.068360655411844) (0.01, 0.6)\n"
     ]
    },
    {
     "data": {
      "text/plain": [
       "<matplotlib.collections.QuadMesh at 0x7f9b3a452d30>"
      ]
     },
     "execution_count": 309,
     "metadata": {},
     "output_type": "execute_result"
    },
    {
     "data": {
      "image/png": "[encoded data removed]",
      "text/plain": [
       "<matplotlib.figure.Figure at 0x7f9b3b2026a0>"
      ]
     },
     "metadata": {
      "needs_background": "light"
     },
     "output_type": "display_data"
    }
   ],
   "source": [
    "star.rho_interp\n",
    "print(star.pres_bounds, star.ye_bounds)\n",
    "\n",
    "x = np.linspace(-19, -3, 200)\n",
    "y = np.linspace(0.011, 0.59, 100)\n",
    "x,y = np.meshgrid(x,y)\n",
    "z = star.munu_interp_pres(y,x)\n",
    "plt.pcolormesh(x,y,z>0)"
   ]
  },
  {
   "cell_type": "code",
   "execution_count": 311,
   "metadata": {},
   "outputs": [
    {
     "name": "stdout",
     "output_type": "stream",
     "text": [
      "(-15.570458338804938, -2.2904585388049377)\n"
     ]
    },
    {
     "data": {
      "text/plain": [
       "Text(0,0.5,'ye')"
      ]
     },
     "execution_count": 311,
     "metadata": {},
     "output_type": "execute_result"
    },
    {
     "data": {
      "image/png": "[encoded data removed]",
      "text/plain": [
       "<matplotlib.figure.Figure at 0x7f9b3a37cbe0>"
      ]
     },
     "metadata": {
      "needs_background": "light"
     },
     "output_type": "display_data"
    }
   ],
   "source": [
    "print(star.rho_bounds)\n",
    "\n",
    "x2 = np.linspace(-15, -3, 200)\n",
    "x2,y2 = np.meshgrid(x2,y)\n",
    "z2 = star.munu_interp_rho(y2,x2)\n",
    "plt.pcolormesh(x2,y2,z2>0)\n",
    "plt.xlabel('rho')\n",
    "plt.ylabel('ye')"
   ]
  },
  {
   "cell_type": "code",
   "execution_count": 280,
   "metadata": {},
   "outputs": [],
   "source": [
    "import numpy as np\n",
    "import h5py\n",
    "from tov import TableStar, BaseStar\n",
    "from scipy.interpolate import UnivariateSpline\n",
    "\n",
    "class TestTable(TableStar):\n",
    "\n",
    "    \"\"\"Docstring for TestTable. \"\"\"\n",
    "\n",
    "    def __init__(self, tablefile, scaling = {}, *args, **kwargs):\n",
    "        \"\"\"Assumes cold star, i.e minimal T. \n",
    "        \n",
    "        Scales to geometrized units c = G = M_sun = 1\n",
    "        \"\"\"\n",
    "        BaseStar.__init__(self, *args, **kwargs)\n",
    "        self._allow_negative_pressure = True\n",
    "\n",
    "        f = h5py.File(tablefile, 'r')\n",
    "        \n",
    "        self.scaling = {}\n",
    "        \n",
    "        # default scaling is  c = G = M_sun = 1\n",
    "        default_scaling = {'pres'  : 1.801569643420104e-39, # from dyn/cm^2\n",
    "                           'rho'   : 1.6191700468788605e-18, # from g/cm^3\n",
    "                           'specific_energy': 1.11265005605e-21,  # from erg/g\n",
    "                           # munu should be MeV/baryon\n",
    "                          }\n",
    "        default_scaling.update(scaling)\n",
    "        self.scaling.update(default_scaling)\n",
    "        \n",
    "        self.ye_arr   = f['ye'][:] \n",
    "        self.rho_arr  = f['logrho'][:] + np.log10(self.scaling['rho'])\n",
    "        \n",
    "        self.energy_shift  = f['energy_shift'][0] * self.scaling['specific_energy']\n",
    "\n",
    "        rho_grid, ye_grid  = np.meshgrid(self.rho_arr, self.ye_arr)\n",
    "        pres_values   = f['logpress'][:,0,:]  + np.log10(self.scaling['pres'])\n",
    "        munu_values   = f['munu'][:,0,:]      # *          self.scaling['energy']\n",
    "        energy_values = f['logenergy'][:,0,:] + np.log10(self.scaling['specific_energy']) \n",
    "        f.close()\n",
    "\n",
    "        self.ye_bounds   = (np.min(self.ye_arr),  np.max(self.ye_arr))\n",
    "        self.rho_bounds  = (np.min(self.rho_arr), np.max(self.rho_arr))\n",
    "        self.pres_bounds = (np.min(pres_values),  np.max(pres_values))\n",
    "\n",
    "        self.energy_arr = np.zeros_like(self.rho_arr)\n",
    "        self.pres_arr   = np.zeros_like(self.rho_arr)\n",
    "\n",
    "        prev_root = 0 \n",
    "        \n",
    "        # for each rho, extract the values given ye such that munu = 0\n",
    "        for i, rho in enumerate(self.rho_arr):\n",
    "            munu_func   = UnivariateSpline(self.ye_arr, munu_values[:,i],   s=0)\n",
    "            pres_func   = UnivariateSpline(self.ye_arr, pres_values[:,i],   s=0)\n",
    "            energy_func = UnivariateSpline(self.ye_arr, energy_values[:,i], s=0)\n",
    "            \n",
    "            ye_roots = munu_func.roots()\n",
    "            \n",
    "            \n",
    "            if len(ye_roots) > 1:\n",
    "                # in case several roots, we pick the closest one\n",
    "                import warnings\n",
    "                warnings.warn('Error, more than one root in munu! Using closest to previous')\n",
    "                i_root = np.argmin(np.abs(np.array(ye_roots) - prev_root))\n",
    "            else:\n",
    "                i_root = 0\n",
    "                \n",
    "            ye_root = ye_roots[i_root]\n",
    "            prev_root = ye_root\n",
    "            \n",
    "            self.pres_arr[i] = pres_func(ye_root)\n",
    "            self.energy_arr[i] = energy_func(ye_root)\n",
    "            \n",
    "        self.rho_interp    = UnivariateSpline(self.pres_arr, self.rho_arr)\n",
    "        self.pres_interp   = UnivariateSpline(self.rho_arr, self.pres_arr)\n",
    "        self.energy_interp = UnivariateSpline(self.rho_arr, self.energy_arr)\n",
    "#         fig,[ax1,ax2,ax3] = plt.subplots(3)\n",
    "#         ax1.plot(self.pres_arr, self.rho_arr)\n",
    "#         ax2.plot(self.rho_arr, self.pres_arr)\n",
    "#         ax3.plot(self.rho_arr, self.energy_arr)\n",
    "            \n",
    "    def energy(self, rho):\n",
    "        logrho = np.log10(rho)\n",
    "        return 10**self.energy_interp(logrho) - self.energy_shift\n",
    "    \n",
    "    def P(self, rho):\n",
    "        # a, b = self.ye_bounds\n",
    "        logrho = np.log10(rho)\n",
    "        # res = scipy.optimize.bisect(self.munu, a = a, b = b, args=(logrho, 'rho'))\n",
    "        # self.current_ye = res\n",
    "        if P < self.\n",
    "        return 10**self.pres_interp(logrho)\n",
    "    \n",
    "    def rho(self, P):\n",
    "        # a, b = self.ye_bounds\n",
    "        logP = np.log10(P)\n",
    "        # res = scipy.optimize.bisect(self.munu, a = a, b = b,  args=(logP, 'pres'))\n",
    "        # self.current_ye = res\n",
    "        return 10**self.rho_interp(logP)\n",
    "    \n",
    "    def rho0(self, P, rho = None):\n",
    "        \"\"\"Uses P as is, no convert to log\"\"\"\n",
    "        rho = rho or self.rho(P)\n",
    "        eps = self.energy(rho)\n",
    "        return rho / (1 + eps)\n"
   ]
  },
  {
   "cell_type": "code",
   "execution_count": 304,
   "metadata": {},
   "outputs": [
    {
     "name": "stderr",
     "output_type": "stream",
     "text": [
      "/home/halvard/uio/PHY905_NumericalRelativity/project1/test_table.py:63: UserWarning: Error, more than one root in munu! Using closest to previous\n",
      "  warnings.warn('Error, more than one root in munu! Using closest to previous')\n"
     ]
    }
   ],
   "source": [
    "final_values = []\n",
    "integrator = 'vode'\n",
    "Nr = 200\n",
    "\n",
    "from test_table import TestTable\n",
    "test = TestTable('test/' + filename)"
   ]
  },
  {
   "cell_type": "code",
   "execution_count": 306,
   "metadata": {
    "scrolled": false
   },
   "outputs": [
    {
     "name": "stdout",
     "output_type": "stream",
     "text": [
      "(-15.570458338804938, -2.2904585388049377)\n",
      "96\n"
     ]
    },
    {
     "name": "stderr",
     "output_type": "stream",
     "text": [
      "/home/halvard/uio/PHY905_NumericalRelativity/project1/test_table.py:128: RuntimeWarning: invalid value encountered in log10\n"
     ]
    },
    {
     "name": "stdout",
     "output_type": "stream",
     "text": [
      "98\n",
      "104\n",
      "112\n",
      "105\n",
      "114\n",
      "123\n",
      "124\n",
      "125\n",
      "123\n",
      "130\n",
      "128\n",
      "133\n",
      "130\n",
      "133\n",
      "132\n",
      "133\n",
      "131\n",
      "144\n",
      "142\n"
     ]
    },
    {
     "data": {
      "text/plain": [
       "<matplotlib.legend.Legend at 0x7f9b3b5803c8>"
      ]
     },
     "execution_count": 306,
     "metadata": {},
     "output_type": "execute_result"
    },
    {
     "data": {
      "image/png": "[encoded data removed]",
      "text/plain": [
       "<matplotlib.figure.Figure at 0x7f9b3b317da0>"
      ]
     },
     "metadata": {
      "needs_background": "light"
     },
     "output_type": "display_data"
    }
   ],
   "source": [
    "fig,[ax1,ax2,ax3,ax4] = plt.subplots(1,4, figsize = [15,4])\n",
    "\n",
    "print(test.rho_bounds)\n",
    "#for logrhoc in np.linspace(-3.3, -2.2903, 30):\n",
    "\n",
    "a = -3.4\n",
    "b = -1.2\n",
    "integrator = 'dopri5'\n",
    "for logrhoc in np.linspace(a, b, 20):\n",
    "    # print(logrhoc)\n",
    "    test.set_initial_conditions(rhoc = 10**logrhoc)\n",
    "    # solver, t, y = test.solve_star_ode(integrator = integrator, Nr = Nr)\n",
    "    solver= test.solve_star_ivp(integrator = integrator)# , Nr = Nr)\n",
    "    t = solver.t\n",
    "    y = solver.y.T\n",
    "    \n",
    "    last_pos = -1 # Edge finding ensures last position at pressure < tol\n",
    "    final_values.append([logrhoc, t[last_pos]] + list(y[last_pos]))\n",
    "    \n",
    "    c = plt.cm.viridis((logrhoc-a) / (b - a))\n",
    "    print(len(t))\n",
    "    ax1.semilogy(t, y[:, 1], label = 'logrhoc {:.2f}'.format(logrhoc), color = c)\n",
    "    ax2.scatter(logrhoc, y[last_pos, 0], c = c)\n",
    "    ax3.scatter(t[last_pos], y[last_pos, 0], c = c)\n",
    "    ax4.plot(t, y[:, 0], c = c)\n",
    "    \n",
    "ax2.legend(['start'])\n",
    "# rhoc = 3e15 * 1.6199e-18\n",
    "# test = TableStar(filename).set_initial_conditions(rhoc = rhoc)"
   ]
  },
  {
   "cell_type": "code",
   "execution_count": 271,
   "metadata": {},
   "outputs": [
    {
     "name": "stdout",
     "output_type": "stream",
     "text": [
      "0.135412\n"
     ]
    }
   ],
   "source": [
    "rho, r_values, m_values, P_values, phi_values, M0_values = np.array(final_values).T\n",
    "print(star.r_max/100)"
   ]
  },
  {
   "cell_type": "code",
   "execution_count": 272,
   "metadata": {},
   "outputs": [
    {
     "data": {
      "text/plain": [
       "11.077304817889111"
      ]
     },
     "execution_count": 272,
     "metadata": {},
     "output_type": "execute_result"
    }
   ],
   "source": [
    "7.5*to_km"
   ]
  },
  {
   "cell_type": "code",
   "execution_count": 273,
   "metadata": {},
   "outputs": [
    {
     "data": {
      "text/plain": [
       "Text(0,0.5,'Mass [$M_\\\\odot$]')"
      ]
     },
     "execution_count": 273,
     "metadata": {},
     "output_type": "execute_result"
    },
    {
     "data": {
      "image/png": "[encoded data removed]",
      "text/plain": [
       "<matplotlib.figure.Figure at 0x7f9b3d0a4048>"
      ]
     },
     "metadata": {
      "needs_background": "light"
     },
     "output_type": "display_data"
    }
   ],
   "source": [
    "to_km = 1e-5/6.7706e-6\n",
    "\n",
    "plt.plot(to_km*r_values, m_values, '.', label = 'gravitational')\n",
    "plt.plot(to_km*r_values, M0_values, '.', label = 'baryonic')\n",
    "plt.legend()\n",
    "plt.xlabel('Radius [km]')\n",
    "plt.ylabel(r'Mass [$M_\\odot$]')"
   ]
  },
  {
   "cell_type": "code",
   "execution_count": 81,
   "metadata": {},
   "outputs": [
    {
     "data": {
      "text/plain": [
       "[<matplotlib.lines.Line2D at 0x7f9b3c7eb8d0>]"
      ]
     },
     "execution_count": 81,
     "metadata": {},
     "output_type": "execute_result"
    },
    {
     "data": {
      "image/png": "[encoded data removed]",
      "text/plain": [
       "<matplotlib.figure.Figure at 0x7f9b3ab60d68>"
      ]
     },
     "metadata": {
      "needs_background": "light"
     },
     "output_type": "display_data"
    }
   ],
   "source": [
    "plt.plot(r_values)"
   ]
  },
  {
   "cell_type": "code",
   "execution_count": 43,
   "metadata": {},
   "outputs": [
    {
     "data": {
      "image/png": "[encoded data removed]",
      "text/plain": [
       "<matplotlib.figure.Figure at 0x7f9b37e990f0>"
      ]
     },
     "metadata": {
      "needs_background": "light"
     },
     "output_type": "display_data"
    }
   ],
   "source": [
    "plt.plot(rho, m_values, label = 'gravitational')\n",
    "plt.plot(rho, M0_values, label = 'baryonic')\n",
    "plt.legend()\n",
    "plt.xlabel(r'$\\log \\rho$ [g/cm^3]')\n",
    "plt.ylabel(r'Mass [$M_\\odot$]')\n",
    "plt.grid()"
   ]
  },
  {
   "cell_type": "code",
   "execution_count": 43,
   "metadata": {},
   "outputs": [
    {
     "data": {
      "image/png": "[encoded data removed]",
      "text/plain": [
       "<matplotlib.figure.Figure at 0x7f394c376748>"
      ]
     },
     "metadata": {
      "needs_background": "light"
     },
     "output_type": "display_data"
    }
   ],
   "source": [
    "plt.plot(rho, r_values)\n",
    "plt.grid()"
   ]
  },
  {
   "cell_type": "code",
   "execution_count": null,
   "metadata": {},
   "outputs": [],
   "source": [
    "np.log10(3e15 * 1.6199e-18)"
   ]
  },
  {
   "cell_type": "code",
   "execution_count": null,
   "metadata": {},
   "outputs": [],
   "source": [
    "rho_arr = test.rho_arr\n",
    "np.min(rho_arr)"
   ]
  },
  {
   "cell_type": "code",
   "execution_count": null,
   "metadata": {},
   "outputs": [],
   "source": [
    "a, b  = test.ye_bounds\n",
    "print(test.pres_bounds)\n",
    "print(test.rho_bounds)\n",
    "test.pres_interp(a, -15), test.pres_interp(b, -13)"
   ]
  },
  {
   "cell_type": "code",
   "execution_count": null,
   "metadata": {},
   "outputs": [],
   "source": [
    "test.ye_bounds"
   ]
  },
  {
   "cell_type": "code",
   "execution_count": null,
   "metadata": {},
   "outputs": [],
   "source": []
  },
  {
   "cell_type": "code",
   "execution_count": null,
   "metadata": {},
   "outputs": [],
   "source": []
  },
  {
   "cell_type": "code",
   "execution_count": null,
   "metadata": {},
   "outputs": [],
   "source": [
    "def f(x):\n",
    "    return -x\n",
    "from scipy.integrate import ode \n",
    "\n",
    "solver = ode(f)\n",
    "\n",
    " \n",
    "prev_t = 0\n",
    "prev_y = 1\n",
    "solver.set_initial_value(prev_y,prev_t)\n",
    "dx = 0.1\n",
    "for i in range(20):\n",
    "    if i == 10:\n",
    "        solver.set_initial_value(prev_y, 0)\n",
    "        print(solver.y, prev_y)\n",
    "        \n",
    "    plt.scatter(solver.t, solver.y, c ='k')\n",
    "        \n",
    "    solver.integrate(solver.t + dx)\n",
    "    prev_t = solver.t\n",
    "    prev_y = solver.y"
   ]
  },
  {
   "cell_type": "code",
   "execution_count": null,
   "metadata": {},
   "outputs": [],
   "source": []
  },
  {
   "cell_type": "code",
   "execution_count": null,
   "metadata": {},
   "outputs": [],
   "source": [
    "dir(solver)"
   ]
  },
  {
   "cell_type": "code",
   "execution_count": null,
   "metadata": {},
   "outputs": [],
   "source": [
    "\n",
    "test.P(test.rhoc)\n",
    "[(test.P(v),v) for v in np.logspace(-10,1,11)]"
   ]
  },
  {
   "cell_type": "code",
   "execution_count": null,
   "metadata": {},
   "outputs": [],
   "source": []
  },
  {
   "cell_type": "code",
   "execution_count": null,
   "metadata": {},
   "outputs": [],
   "source": []
  },
  {
   "cell_type": "code",
   "execution_count": null,
   "metadata": {},
   "outputs": [],
   "source": [
    "test.solve_star()"
   ]
  },
  {
   "cell_type": "code",
   "execution_count": null,
   "metadata": {},
   "outputs": [],
   "source": [
    "T_arr = np.array(f['logtemp'])\n",
    "ye_arr = np.array(f['ye'])\n",
    "rho_arr = np.array(f['logrho'])\n",
    "\n",
    "rho_grid, ye_grid = np.meshgrid(rho_arr, ye_arr)\n",
    "pres_values = f['logpress'][:,0,:]\n",
    "munu_values = f['munu'][:,0,:]\n",
    "\n",
    "\n",
    "ye_pres_points = np.column_stack([ye_grid.ravel(), pres_values.ravel()]),\n",
    "ye_rho_points  = np.column_stack([ye_grid.ravel(), rho_grid.ravel()]),\n",
    "\n",
    "rho_interp  = LinearNDInterpolator(ye_pres_points, rho_grid.ravel())\n",
    "pres_interp = LinearNDInterpolator(ye_rho_points, pres_values.ravel())\n",
    "munu_interp = LinearNDInterpolator(ye_rho_points, munu_values.ravel())"
   ]
  },
  {
   "cell_type": "code",
   "execution_count": null,
   "metadata": {},
   "outputs": [],
   "source": [
    "func3 = lambda ye, P : munu_interp([ye, P])\n",
    "ye_bounds = [np.min(ye_arr), np.max(ye_arr)]\n",
    "res = optimize.root_scalar(func3, method = 'brentq', args=(P), bracket = ye_bounds)\n",
    "res"
   ]
  },
  {
   "cell_type": "code",
   "execution_count": null,
   "metadata": {},
   "outputs": [],
   "source": [
    "? optimize.fsolve"
   ]
  },
  {
   "cell_type": "code",
   "execution_count": null,
   "metadata": {},
   "outputs": [],
   "source": []
  },
  {
   "cell_type": "code",
   "execution_count": null,
   "metadata": {},
   "outputs": [],
   "source": [
    "rho_interp = interp2d(ye_grid, pres_values, rho_grid)\n",
    "\n",
    "pres_interp = interp2d(ye_grid, rho_grid, pres_values)"
   ]
  },
  {
   "cell_type": "code",
   "execution_count": null,
   "metadata": {},
   "outputs": [],
   "source": []
  },
  {
   "cell_type": "code",
   "execution_count": null,
   "metadata": {},
   "outputs": [],
   "source": [
    "# rho_interp(0.4, 20)\n",
    "pres_interp([0.4, 0.7], [4, 5])"
   ]
  },
  {
   "cell_type": "code",
   "execution_count": null,
   "metadata": {},
   "outputs": [],
   "source": [
    "?pres_interp"
   ]
  },
  {
   "cell_type": "code",
   "execution_count": null,
   "metadata": {},
   "outputs": [],
   "source": [
    "a = pres_interp(ye_grid.ravel(), pres_values.ravel())"
   ]
  },
  {
   "cell_type": "code",
   "execution_count": null,
   "metadata": {},
   "outputs": [],
   "source": [
    "np.isclose(a, pres_values)"
   ]
  },
  {
   "cell_type": "code",
   "execution_count": null,
   "metadata": {},
   "outputs": [],
   "source": [
    "rho_interp(0.4, 20)"
   ]
  },
  {
   "cell_type": "code",
   "execution_count": null,
   "metadata": {},
   "outputs": [],
   "source": [
    "%timeit rho_interp(0.4, 20)"
   ]
  },
  {
   "cell_type": "code",
   "execution_count": null,
   "metadata": {},
   "outputs": [],
   "source": []
  },
  {
   "cell_type": "code",
   "execution_count": null,
   "metadata": {},
   "outputs": [],
   "source": [
    "rho_shaped = rho_values.reshape(pres_grid.shape)"
   ]
  },
  {
   "cell_type": "code",
   "execution_count": null,
   "metadata": {},
   "outputs": [],
   "source": [
    "valid_cols = ~np.any(np.isnan(rho_values.reshape(pres_grid.shape)), axis = 0)\n",
    "rho_valid = rho_shaped[:,valid_cols]\n",
    "\n",
    "plt.imshow(rho_shaped[:,valid_cols])"
   ]
  },
  {
   "cell_type": "code",
   "execution_count": null,
   "metadata": {},
   "outputs": [],
   "source": [
    "grid_reshaped = grid.reshape(list(pres_grid.shape)+[-1])\n",
    "plt.pcolormesh(grid_reshaped[:,:,0], grid_reshaped[:,:,1], rho_shaped)"
   ]
  },
  {
   "cell_type": "code",
   "execution_count": null,
   "metadata": {},
   "outputs": [],
   "source": [
    "grid_valid = grid_reshaped[:,valid_cols]\n",
    "m = plt.pcolormesh(grid_valid[:,:,0], grid_valid[:,:,1], rho_valid)\n",
    "plt.colorbar(m)"
   ]
  },
  {
   "cell_type": "code",
   "execution_count": null,
   "metadata": {},
   "outputs": [],
   "source": [
    "grid_valid = grid_reshaped[:,valid_cols]"
   ]
  },
  {
   "cell_type": "code",
   "execution_count": null,
   "metadata": {},
   "outputs": [],
   "source": [
    "grid_valid.shape, rho_valid.shape"
   ]
  },
  {
   "cell_type": "code",
   "execution_count": null,
   "metadata": {},
   "outputs": [],
   "source": [
    "sdalsadj"
   ]
  },
  {
   "cell_type": "code",
   "execution_count": null,
   "metadata": {},
   "outputs": [],
   "source": [
    "? interp2d"
   ]
  },
  {
   "cell_type": "code",
   "execution_count": null,
   "metadata": {},
   "outputs": [],
   "source": [
    "rho_interp = interp2d(grid_reshaped[:,valid_cols,0].ravel(), \n",
    "                           grid_reshaped[:,valid_cols,1].ravel(), \n",
    "                           rho_valid.ravel())"
   ]
  },
  {
   "cell_type": "code",
   "execution_count": null,
   "metadata": {},
   "outputs": [],
   "source": [
    "grid.shape\n",
    "np.any(np.isnan(rho_values))"
   ]
  },
  {
   "cell_type": "code",
   "execution_count": null,
   "metadata": {},
   "outputs": [],
   "source": []
  },
  {
   "cell_type": "code",
   "execution_count": null,
   "metadata": {},
   "outputs": [],
   "source": [
    "pressure_interp(grid.T[0], grid.T[1])"
   ]
  },
  {
   "cell_type": "code",
   "execution_count": null,
   "metadata": {},
   "outputs": [],
   "source": [
    "Nrho, Ntemp, Nye, pres_values.shape"
   ]
  },
  {
   "cell_type": "code",
   "execution_count": null,
   "metadata": {},
   "outputs": [],
   "source": [
    "m = plt.scatter(ye_grid.ravel(), rho_grid.ravel(), c = pres_values.ravel())\n",
    "plt.colorbar(m)"
   ]
  },
  {
   "cell_type": "code",
   "execution_count": null,
   "metadata": {},
   "outputs": [],
   "source": [
    "m = plt.scatter(grid.T[0], grid.T[1], marker='.', c = rho_values)\n",
    "plt.colorbar(m)"
   ]
  },
  {
   "cell_type": "code",
   "execution_count": null,
   "metadata": {},
   "outputs": [],
   "source": []
  },
  {
   "cell_type": "code",
   "execution_count": null,
   "metadata": {},
   "outputs": [],
   "source": [
    "from scipy.interpolate import griddata\n",
    "\n",
    "pressure_grid = np.linspace(np.min(a), np.max(a), N)\n",
    "P,_b = np.meshgrid(pressure_grid, b)\n",
    "\n",
    "print(P.shape)\n",
    "points = np.array([A.ravel(), c.ravel()]).T\n",
    "values = B.ravel()\n",
    "xi = np.array([A.ravel(), c.ravel()]).T\n",
    "\n",
    "print(B.size, c.size, A.size)\n",
    "print(points.shape)\n",
    "\n",
    "gd = griddata(points, values, xi) \n",
    "plt.pcolormesh(points[:,0], points[:,1], gd)"
   ]
  },
  {
   "cell_type": "code",
   "execution_count": null,
   "metadata": {},
   "outputs": [],
   "source": [
    "np.concatenate([A.ravel(),B.ravel()])"
   ]
  },
  {
   "cell_type": "code",
   "execution_count": null,
   "metadata": {},
   "outputs": [],
   "source": [
    "np.array(f['logrho'])"
   ]
  },
  {
   "cell_type": "markdown",
   "metadata": {},
   "source": [
    " \n",
    "  - Determine the maximum mass for any five of the EOS available on stellarcollapse.org.\n",
    " "
   ]
  },
  {
   "cell_type": "code",
   "execution_count": null,
   "metadata": {},
   "outputs": [],
   "source": []
  },
  {
   "cell_type": "markdown",
   "metadata": {},
   "source": [
    " \n",
    "  - Make mass vs. radius plots for these same five EOS."
   ]
  },
  {
   "cell_type": "code",
   "execution_count": null,
   "metadata": {},
   "outputs": [],
   "source": []
  },
  {
   "cell_type": "code",
   "execution_count": null,
   "metadata": {},
   "outputs": [],
   "source": []
  }
 ],
 "metadata": {
  "kernelspec": {
   "display_name": "Python 3",
   "language": "python",
   "name": "python3"
  },
  "language_info": {
   "codemirror_mode": {
    "name": "ipython",
    "version": 3
   },
   "file_extension": ".py",
   "mimetype": "text/x-python",
   "name": "python",
   "nbconvert_exporter": "python",
   "pygments_lexer": "ipython3",
   "version": "3.6.6"
  }
 },
 "nbformat": 4,
 "nbformat_minor": 2
}
