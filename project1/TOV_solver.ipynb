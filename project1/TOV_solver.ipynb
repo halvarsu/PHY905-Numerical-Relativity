{
 "cells": [
  {
   "cell_type": "code",
   "execution_count": 100,
   "metadata": {},
   "outputs": [
    {
     "name": "stdout",
     "output_type": "stream",
     "text": [
      "The autoreload extension is already loaded. To reload it, use:\n",
      "  %reload_ext autoreload\n"
     ]
    }
   ],
   "source": [
    "%load_ext autoreload\n",
    "%matplotlib inline\n",
    "%autoreload 2"
   ]
  },
  {
   "cell_type": "markdown",
   "metadata": {},
   "source": [
    "# Project 1\n",
    "Due March 12, 2019.\n",
    "\n",
    "For the midterm project, you will develop a Tolman-Oppenheimer-Volkov (TOV) solver to compute the hydrostatic structure of a relativistic neutron star. You will use this to determine the maximum masses of cold neutron stars (NSs) for several different equations of state (EOS).\n",
    "\n",
    "Your code should adhere to the course Coding Standards.\n",
    "\n",
    "  - Write a numerical solver for the spherically-symmetric TOV equations using a fourth-order Runge-Kutta integrator. Assume a polytropic EOS specified by $K$ and $\\gamma$. You may find these notes particularly helpful.\n",
    "  \n",
    "\\begin{align}\n",
    "\\frac{dm}{dr} &= 4\\pi r^2 \\rho \\\\\n",
    "\\frac{dP}{dr} &= -\\frac{\\rho m }{r^2}\\left ( 1 + \\frac{P}{\\rho}\\right ) \\left( 1 + \\frac{4\\pi P^3}{m} \\right ) \\left ( 1 - \\frac{2m}{r}\\right ) ^{-1}\\\\\n",
    "\\frac{d\\Phi}{dr} &= - \\frac{1}{\\rho} \\frac{dP}{dr}\\left( 1 + \\frac{P}{\\rho}\\right ) ^{-1}\n",
    "\\end{align}\n",
    "\n",
    "For a polytropic eos: $P = K \\rho_0^\\Gamma$, where $K$ is the polytropic gas constant and $n$ defined by $\\Gamma \\equiv 1 + 1/n$ is the polytropic index. We then have   $\\rho = \\rho_0 + P/(\\Gamma -1 )$  and $\\rho_0 \\epsilon = P/(\\Gamma -1 )$.\n",
    "   \n",
    "Below, constants are the corresponding barred ones."
   ]
  },
  {
   "cell_type": "code",
   "execution_count": 101,
   "metadata": {},
   "outputs": [],
   "source": [
    "from tov import *"
   ]
  },
  {
   "cell_type": "code",
   "execution_count": 113,
   "metadata": {
    "scrolled": false
   },
   "outputs": [
    {
     "name": "stdout",
     "output_type": "stream",
     "text": [
      "2.4375144350725285e-31\n",
      "7.807083010105192e-31\n",
      "6.626073140304381e-31\n",
      "5.55681772004342e-31\n",
      "4.4693911015970774e-30\n",
      "9.297197991787412e-31\n",
      "1.2918647993780986e-30\n",
      "2.652955717257455e-31\n",
      "1.9723359166873597e-30\n",
      "2.7617361023090995e-30\n",
      "0.16151886459991324\n"
     ]
    },
    {
     "data": {
      "image/png": "[encoded data removed]",
      "text/plain": [
       "<matplotlib.figure.Figure at 0x7f6d282f6a20>"
      ]
     },
     "metadata": {
      "needs_background": "light"
     },
     "output_type": "display_data"
    }
   ],
   "source": [
    "test_star = PolytropeStar(gamma = 2)\n",
    "integrator = 'dopri5'\n",
    "\n",
    "for rhoc_bar in np.linspace(0.2, 0.6, 10):\n",
    "    test_star.set_initial_conditions(rhoc = rhoc_bar)\n",
    "    solver =  test_star.solve_star(integrator = integrator)\n",
    "    print(solver.y[1][-1])\n",
    "    plt.scatter(rhoc_bar, solver.y[0][-1], c='k')\n",
    "    plt.scatter(rhoc_bar, solver.y[3][-1], c='k')\n",
    "solver = test_star.set_initial_conditions(rhoc = 0.420).solve_star(\n",
    "                    integrator = integrator)\n",
    "print(solver.y[0][-1])\n",
    "plt.axvline(0.42)\n",
    "plt.axhline(0.164)\n",
    "plt.grid()"
   ]
  },
  {
   "cell_type": "code",
   "execution_count": 4,
   "metadata": {},
   "outputs": [
    {
     "name": "stdout",
     "output_type": "stream",
     "text": [
      "2.75\n"
     ]
    }
   ],
   "source": [
    "n = 4/7\n",
    "gamma = 1+1/n\n",
    "print(gamma)\n",
    "\n",
    "K = 30000 # in c = G = M_sun = 1"
   ]
  },
  {
   "cell_type": "markdown",
   "metadata": {},
   "source": [
    "    \n",
    "  - Determine the maximum mass of a cold NS for $K=30000$ (in $G=c=M_\\odot=1$ units) and $\\gamma=2.75$.\n",
    " "
   ]
  },
  {
   "cell_type": "code",
   "execution_count": 5,
   "metadata": {},
   "outputs": [],
   "source": [
    "gamma = 2.75\n",
    "n = 1/(gamma - 1)\n",
    "\n",
    "values = []\n",
    "\n",
    "N = 200\n",
    "for rhoc_bar in np.linspace(0.1, 1.8, N):\n",
    "    test_star = PolytropeStar(gamma).set_initial_conditions(rhoc = rhoc_bar)\n",
    "    solver = test_star.solve_star()\n",
    "\n",
    "    r = solver.t\n",
    "    M, P, Phi, M0 = solver.y\n",
    "    values.append([r[-1], M[-1], P[-1], Phi[-1], M0[-1], rhoc_bar])\n",
    "   "
   ]
  },
  {
   "cell_type": "code",
   "execution_count": 6,
   "metadata": {},
   "outputs": [
    {
     "data": {
      "text/latex": [
       "$$Ax=b$$"
      ],
      "text/plain": [
       "<IPython.core.display.Math object>"
      ]
     },
     "metadata": {},
     "output_type": "display_data"
    },
    {
     "name": "stdout",
     "output_type": "stream",
     "text": [
      "\n",
      "Maximum values for K = 30000, \\gamma = 2.75:\n",
      "     M_bar = 0.042\n",
      "     R     = 950.9  km\n",
      "     M     = 0.801 M_sun   \n",
      "     M_0   = 0.537 M_sun     \n",
      "     rho_c = 3.028e+15 g/cc      \n",
      "\n"
     ]
    },
    {
     "data": {
      "text/plain": [
       "Text(0.5,0,'Central density [g/cc]')"
      ]
     },
     "execution_count": 6,
     "metadata": {},
     "output_type": "execute_result"
    },
    {
     "data": {
      "image/png": "[encoded data removed]",
      "text/plain": [
       "<matplotlib.figure.Figure at 0x7f6d2f17a438>"
      ]
     },
     "metadata": {
      "needs_background": "light"
     },
     "output_type": "display_data"
    }
   ],
   "source": [
    "K     = 30000      # C = G = M_sun = 1\n",
    "K_cgs = 1.98183e-6 # cgs\n",
    " \n",
    "radius, grav_mass, pressure, _, mass, rhoc_bar = np.array(values).T\n",
    "imax = np.argmax(grav_mass)\n",
    "\n",
    "M_max_sun = grav_mass[imax] * K**(n/2)\n",
    "\n",
    "length_conv  = 6.7706e-6\n",
    "density_conv = 1.6199e-18\n",
    "rhoc_cgs = rhoc_bar * K**(-n)/density_conv\n",
    "r_km     = radius * K**(n/2)/length_conv * 1e-5\n",
    "\n",
    "from IPython.display import display, Latex, Math\n",
    "display(Math(\"Ax=b\"))\n",
    "\n",
    "disp_string = r\"\"\"\n",
    "Maximum values for K = 30000, \\gamma = 2.75:\n",
    "     M_bar = {mbar:.3f}\n",
    "     R     = {r:.4g}  km\n",
    "     M     = {gm:.3f} M_sun   \n",
    "     M_0   = {bm:.3f} M_sun     \n",
    "     rho_c = {cd:.4g} g/cc      \n",
    "\"\"\".format(mbar = grav_mass[imax], r =  r_km[imax],\n",
    "           gm =  grav_mass[imax] * K**(n/2),\n",
    "           bm =  mass[imax] * K**(n/2), cd =  rhoc_cgs[imax])\n",
    "\n",
    "print(disp_string)\n",
    "\n",
    "plt.scatter(rhoc_cgs[imax], grav_mass[imax] * K**(n/2), c = 'C0')\n",
    "plt.scatter(rhoc_cgs[imax], mass[imax]* K**(n/2), c = 'C1')\n",
    "\n",
    "plt.plot(rhoc_cgs, grav_mass* K**(n/2), '-', label = 'Gravitational')\n",
    "plt.plot(rhoc_cgs, mass* K**(n/2), '--', label = 'Baryonic')\n",
    "plt.legend()\n",
    "plt.ylabel('Mass [$M_{\\odot}$]')\n",
    "plt.xlabel('Central density [g/cc]')"
   ]
  },
  {
   "cell_type": "code",
   "execution_count": null,
   "metadata": {},
   "outputs": [],
   "source": []
  },
  {
   "cell_type": "markdown",
   "metadata": {},
   "source": [
    " \n",
    "  - Now, modify your code to use any arbitrary table-based EOS. Specifically, make your solver compatible with the EOS available on stellarcollapse.org. There is example code on that site in C++ and Fortran for reading and using the tables there, and working with the EOS tables is trivial in Python using h5py.\n",
    " "
   ]
  },
  {
   "cell_type": "markdown",
   "metadata": {},
   "source": [
    "Loading the HShen, there are some weird things with the temperature ranges of this one"
   ]
  },
  {
   "cell_type": "code",
   "execution_count": 7,
   "metadata": {},
   "outputs": [
    {
     "name": "stdout",
     "output_type": "stream",
     "text": [
      "['Abar', 'Meff', 'Xa', 'Xh', 'Xn', 'Xp', 'Zbar', 'cs2', 'dedt', 'dpderho', 'dpdrhoe', 'energy_shift', 'entropy', 'gamma', 'logenergy', 'logpress', 'logrho', 'logtemp', 'mu_e', 'mu_n', 'mu_p', 'muhat', 'munu', 'pointsrho', 'pointstemp', 'pointsye', 'timestamp', 'ye']\n"
     ]
    },
    {
     "name": "stderr",
     "output_type": "stream",
     "text": [
      "/home/halvard/anaconda3/lib/python3.6/site-packages/h5py/__init__.py:34: FutureWarning: Conversion of the second argument of issubdtype from `float` to `np.floating` is deprecated. In future, it will be treated as `np.float64 == np.dtype(float).type`.\n",
      "  from ._conv import register_converters as _register_converters\n"
     ]
    }
   ],
   "source": [
    "import h5py\n",
    "\n",
    "test = 'HShen_HyperonEOS_rho220_temp180_ye65_version_1.1_20131007.h5'\n",
    "ftest = h5py.File(test)\n",
    "print(list(ftest.keys()))\n"
   ]
  },
  {
   "cell_type": "code",
   "execution_count": 8,
   "metadata": {},
   "outputs": [],
   "source": [
    "def get_bounds(x):\n",
    "    return [np.min(x), np.max(x)]"
   ]
  },
  {
   "cell_type": "code",
   "execution_count": 9,
   "metadata": {},
   "outputs": [
    {
     "name": "stdout",
     "output_type": "stream",
     "text": [
      "log [3.0, 16.0] g/cm^3\n",
      "log [18.573418605725163, 37.161923489191174] MeV/fm^3\n",
      "log [0.01, 0.65]\n"
     ]
    }
   ],
   "source": [
    "print('log', get_bounds(ftest['logrho'][:]),   'g/cm^3')\n",
    "print('log', get_bounds(ftest['logpress'][:]), 'MeV/fm^3')\n",
    "print('log', get_bounds(ftest['ye'][:]))"
   ]
  },
  {
   "cell_type": "markdown",
   "metadata": {},
   "source": [
    "There are \n",
    "Table structures:\n",
    " - Temperature  \n",
    "$T$[MeV]$: -1.0\\leq \\log_{10}(T) \\leq 2.6$; mesh of $\\log_{10}(T) = 0.04$\n",
    " - Proton fraction  \n",
    "$Y_p: 0.01 \\leq Y_p \\leq 0.65$; mesh of $Y_p= 0.01$\n",
    " - Baryon mass density   \n",
    "$\\rho_B$[g/cm3]$: 5.1 \\leq \\log_{10}(\\rho_B) \\leq 16.0$; mesh of $\\log_{10}(\\rho_B) = 0.1$"
   ]
  },
  {
   "cell_type": "code",
   "execution_count": 10,
   "metadata": {},
   "outputs": [],
   "source": [
    "filename = 'Hempel_SFHoEOS_rho222_temp180_ye60_version_1.1_20120817.h5'"
   ]
  },
  {
   "cell_type": "code",
   "execution_count": 11,
   "metadata": {},
   "outputs": [
    {
     "name": "stdout",
     "output_type": "stream",
     "text": [
      "['Abar', 'X3he', 'X4li', 'Xa', 'Xd', 'Xh', 'Xn', 'Xp', 'Xt', 'Zbar', 'cs2', 'dedt', 'dpderho', 'dpdrhoe', 'energy_shift', 'entropy', 'gamma', 'logenergy', 'logpress', 'logrho', 'logtemp', 'mu_e', 'mu_n', 'mu_p', 'muhat', 'munu', 'pointsrho', 'pointstemp', 'pointsye', 'timestamp', 'ye']\n"
     ]
    }
   ],
   "source": [
    "f = h5py.File(filename, 'r')\n",
    "keys = list(f.keys())\n",
    "print(keys)"
   ]
  },
  {
   "cell_type": "markdown",
   "metadata": {},
   "source": [
    "# Figuring out the units"
   ]
  },
  {
   "cell_type": "code",
   "execution_count": 12,
   "metadata": {},
   "outputs": [
    {
     "name": "stdout",
     "output_type": "stream",
     "text": [
      "log [2.2202492, 15.500249] g/cm^3\n",
      "log [18.012309853651733, 36.70818475697236] MeV/fm^3\n"
     ]
    }
   ],
   "source": [
    "print('log', get_bounds(f['logrho'][:]),   'g/cm^3')\n",
    "print('log', get_bounds(f['logpress'][:]), 'MeV/fm^3')\n",
    "# print(get_bounds(f['log'][:]))"
   ]
  },
  {
   "cell_type": "code",
   "execution_count": 13,
   "metadata": {},
   "outputs": [
    {
     "data": {
      "text/plain": [
       "1.6199e-18"
      ]
     },
     "execution_count": 13,
     "metadata": {},
     "output_type": "execute_result"
    }
   ],
   "source": [
    "g_cm3 = 1.6199e-18\n",
    "g_cm3"
   ]
  },
  {
   "cell_type": "code",
   "execution_count": 14,
   "metadata": {},
   "outputs": [
    {
     "data": {
      "text/plain": [
       "1.6021766208000002e-06"
      ]
     },
     "execution_count": 14,
     "metadata": {},
     "output_type": "execute_result"
    }
   ],
   "source": [
    "from scipy.constants import erg, eV\n",
    "5.5953e-55 * erg / eV * 1e-6 # MeV\n",
    "a = 1 # MeV \n",
    "a * 1e6 * eV / erg #* 5.5953e-55 # correct units"
   ]
  },
  {
   "cell_type": "code",
   "execution_count": 15,
   "metadata": {},
   "outputs": [
    {
     "data": {
      "text/plain": [
       "1.8063e-39"
      ]
     },
     "execution_count": 15,
     "metadata": {},
     "output_type": "execute_result"
    }
   ],
   "source": [
    "MeVfm3 = 1.6021766e33 # dyne/cm2\n",
    "MeVfm3 = 1.6021766e33 * 1.8063e-39\n",
    "dyne_cm2 = 1\n",
    "# dyne_cm2_to_cgmsun = 1.8063e-39 * 1/1.6022e33\n",
    "dyne_cm2 * 1.8063e-39"
   ]
  },
  {
   "cell_type": "code",
   "execution_count": 16,
   "metadata": {},
   "outputs": [],
   "source": [
    "from scipy.interpolate import (interp1d, interp2d, \n",
    "                               griddata, BivariateSpline, \n",
    "                               LinearNDInterpolator)\n",
    "from scipy import optimize\n",
    "\n",
    "class TableStar(BaseStar):\n",
    "    def __init__(self, tablefile, scaling = {}, *args, **kwargs):\n",
    "        \"\"\"Assumes cold star, i.e minimal T. \n",
    "        \n",
    "        Scales to geometrized units c = G = M_sun = 1\n",
    "        \n",
    "        TODO:\n",
    "        convert the following from log to linear:\n",
    "            rho, pres, energy, munu?, \n",
    "        \"\"\"\n",
    "        BaseStar.__init__(self, *args, **kwargs)\n",
    "        self._allow_negative_pressure = False\n",
    "\n",
    "        f = h5py.File(tablefile, 'r')\n",
    "        self.file = f\n",
    "        \n",
    "        self.scaling = {}\n",
    "        \n",
    "        # default scaling is  c = G = M_sun = 1\n",
    "        default_scaling = {'pres'  : 1.8063e-39, # from dyn/cm^2\n",
    "                           'rho'   : 1.6199e-18, # from g/cm^3\n",
    "                           'energy': 1.11265005605e-21,  # from erg/g\n",
    "                           'munu'  : 8.96465885e-61 # from MeV\n",
    "                           # munu should be MeV/baryon\n",
    "                          }\n",
    "        default_scaling.update(scaling)\n",
    "        self.update_scaling(default_scaling)\n",
    "        \n",
    "        # self.T_ind = 0\n",
    "        self.ye_arr   = f['ye'][:] \n",
    "        self.rho_arr  = f['logrho'][:] + np.log10(self.scaling['rho'])\n",
    "        # temp_arr = f['logtemp'][:]\n",
    "        \n",
    "        self.energy_shift  = f['energy_shift'][0] * self.scaling['energy']\n",
    "\n",
    "        rho_grid, ye_grid  = np.meshgrid(self.rho_arr, self.ye_arr)\n",
    "        pres_values   = f['logpress'][:,0,:]  + np.log10(self.scaling['pres'])\n",
    "        munu_values   = f['munu'][:,0,:]      *          self.scaling['energy']\n",
    "        energy_values = f['logenergy'][:,0,:] + np.log10(self.scaling['energy'])\n",
    "        \n",
    "        self.ye_bounds   = (np.min(self.ye_arr),  np.max(self.ye_arr))\n",
    "        self.rho_bounds  = (np.min(self.rho_arr), np.max(self.rho_arr))\n",
    "        self.pres_bounds = (np.min(pres_values),  np.max(pres_values))\n",
    "        \n",
    "\n",
    "        ye_pres_points = np.column_stack([ye_grid.ravel(), pres_values.ravel()]),\n",
    "        ye_rho_points  = np.column_stack([ye_grid.ravel(), rho_grid.ravel()]),\n",
    "        \n",
    "            \n",
    "        self.rho_interp       = LinearNDInterpolator(ye_pres_points, rho_grid.ravel(), )\n",
    "                                                     #fill_value = np.inf)\n",
    "        self.pres_interp      = LinearNDInterpolator(ye_rho_points, pres_values.ravel(),)\n",
    "                                                    #fill_value = np.inf)\n",
    "        self.energy_interp    = LinearNDInterpolator(ye_rho_points, energy_values.ravel(),)\n",
    "                                                    #fill_value = np.inf)\n",
    "        self.munu_interp_rho  = LinearNDInterpolator(ye_rho_points, munu_values.ravel(),)\n",
    "                                                    #fill_value = np.inf)\n",
    "        self.munu_interp_pres = LinearNDInterpolator(ye_pres_points, munu_values.ravel(),)\n",
    "                                                    #fill_value = np.inf)\n",
    "        \n",
    "        # self.rho_interp_lin_scaled = lambda points: rho_scale*10**self.rho_interp(points)\n",
    "        \n",
    "    def update_scaling(self, new_scaling):\n",
    "        \"\"\"update scaling constant dict.\n",
    "        \n",
    "        Original units:\n",
    "        rho:    g/cm3   \n",
    "        pres:   MeV/fm3\n",
    "        energy: MeV\n",
    "        munu':  MeV\n",
    "        \"\"\"\n",
    "        self.scaling.update(new_scaling) \n",
    "        \n",
    "    def check_in_bounds(self, val, val_type):\n",
    "        if val_type == 'rho':\n",
    "            bounds = self.rho_bounds\n",
    "        elif val_type == 'pres':\n",
    "            bounds = self.pres_bounds\n",
    "        elif val_type == 'ye':\n",
    "            bounds = self.ye_bounds\n",
    "        else:\n",
    "            raise ValueError('Invalid val_type, %s' %val_type)\n",
    "        if not ((val < bounds[1]) and (val > bounds[0])):\n",
    "            raise ValueError(\"Value '%s' out of bounds. %.3f not in interval [%.3f, %.2f]\" % (val_type, val, bounds[0], bounds[1]))\n",
    "        \n",
    "        \n",
    "    def energy(self, ye, rho):\n",
    "        logrho = np.log10(rho)\n",
    "        return 10**self.energy_interp(ye, logrho) - self.energy_shift\n",
    "    \n",
    "        \n",
    "    def munu(self, ye, val, val_type):\n",
    "        \"\"\"Returns value of munu either from pressure or from density, based on val_type argument\"\"\"\n",
    "        self.check_in_bounds(val, val_type)\n",
    "        if val_type == 'rho':\n",
    "            return self.munu_interp_rho([ye, val])[0]\n",
    "        elif val_type == 'pres':\n",
    "            return self.munu_interp_pres([ye, val])[0]\n",
    "        else:\n",
    "            raise ValueError(\"val_type must be either 'rho' or 'pres'\")\n",
    "        \n",
    "    def P(self, rho):\n",
    "        a, b = self.ye_bounds\n",
    "        logrho = np.log10(rho)\n",
    "        res = optimize.bisect(self.munu, a = a, b = b, args=(logrho, 'rho'), )\n",
    "                                   #method = 'brentq', bracket = self.ye_bounds)\n",
    "        self.current_ye = res\n",
    "        return 10**self.pres_interp(self.current_ye, logrho)\n",
    "    \n",
    "    def rho(self, P):\n",
    "        a, b = self.ye_bounds\n",
    "        logP = np.log10(P)\n",
    "        res = optimize.bisect(self.munu, a = a, b = b,  args=(logP, 'pres'), )\n",
    "                                   #method = 'brentq',bracket = self.ye_bounds)\n",
    "        self.current_ye = res\n",
    "        return 10**self.rho_interp(self.current_ye, logP)\n",
    "    \n",
    "    def rho0(self, P, rho = None):\n",
    "        \"\"\"Uses P as is, no convert to log\"\"\"\n",
    "        rho = rho or self.rho(P)\n",
    "        eps = self.energy(self.current_ye, rho)\n",
    "        return rho / (1 + eps)\n",
    "    \n",
    "    def get_pressure_event(self):\n",
    "        \"\"\"Passed to solver for termination when is pressure 0.\"\"\"\n",
    "        def pressure_event(t, y):\n",
    "            print(y)\n",
    "            if np.isnan(y[1]):\n",
    "                return -1\n",
    "            else:\n",
    "                return y[1] # - 10**self.pres_bounds[0]\n",
    "        pressure_event.terminal = True\n",
    "        return pressure_event\n",
    "\n"
   ]
  },
  {
   "cell_type": "code",
   "execution_count": 17,
   "metadata": {},
   "outputs": [
    {
     "name": "stdout",
     "output_type": "stream",
     "text": [
      "Hempel_SFHoEOS_rho222_temp180_ye60_version_1.1_20120817.h5\n"
     ]
    }
   ],
   "source": [
    "print(filename)"
   ]
  },
  {
   "cell_type": "code",
   "execution_count": 27,
   "metadata": {},
   "outputs": [
    {
     "name": "stdout",
     "output_type": "stream",
     "text": [
      "initiating\n",
      "solving 0.7236599922180176\n",
      "time use:  13.30276370048523\n",
      "initiating\n",
      "solving 0.6942379474639893\n"
     ]
    },
    {
     "name": "stderr",
     "output_type": "stream",
     "text": [
      "/home/halvard/anaconda3/lib/python3.6/site-packages/scipy/integrate/_ode.py:1177: UserWarning: dopri5: step size becomes too small\n",
      "  self.messages.get(istate, unexpected_istate_msg)))\n",
      "/home/halvard/uio/PHY905_NumericalRelativity/project1/tov.py:188: UserWarning: Something went wrong in the integration, and we need a better error message\n",
      "  warnings.warn('Something went wrong in the integration, and we need a better error message')\n"
     ]
    },
    {
     "name": "stdout",
     "output_type": "stream",
     "text": [
      "time use:  4.89069938659668\n",
      "initiating\n",
      "solving 0.7182941436767578\n",
      "time use:  4.579551935195923\n",
      "initiating\n",
      "solving 0.6964097023010254\n",
      "time use:  8.483421802520752\n"
     ]
    },
    {
     "data": {
      "image/png": "[encoded data removed]",
      "text/plain": [
       "<matplotlib.figure.Figure at 0x7f6d29e4d198>"
      ]
     },
     "metadata": {
      "needs_background": "light"
     },
     "output_type": "display_data"
    }
   ],
   "source": [
    "import time\n",
    "# rhoc = 3e15 * 1.6199e-18\n",
    "for integrator in [\"dop853\",\"dopri5\",\"vode\",\"lsoda\"]:\n",
    "    start1 = time.time()\n",
    "    print('initiating')\n",
    "    test = TableStar(filename).set_initial_conditions(rhoc = 10**-3)\n",
    "    start = time.time()\n",
    "    print('solving with %s', start - start1)\n",
    "    solver, r_values, values = test.old_solve_star(Nr = 100, integrator = integrator)\n",
    "    stop = time.time()\n",
    "    print('time use: ', stop - start)\n",
    "\n",
    "    plt.plot(r_values)#, solver.y[1])"
   ]
  },
  {
   "cell_type": "code",
   "execution_count": 63,
   "metadata": {},
   "outputs": [
    {
     "data": {
      "text/plain": [
       "[<matplotlib.lines.Line2D at 0x7f6d29768748>]"
      ]
     },
     "execution_count": 63,
     "metadata": {},
     "output_type": "execute_result"
    },
    {
     "data": {
      "image/png": "[encoded data removed]",
      "text/plain": [
       "<matplotlib.figure.Figure at 0x7f6d297e29e8>"
      ]
     },
     "metadata": {
      "needs_background": "light"
     },
     "output_type": "display_data"
    }
   ],
   "source": []
  },
  {
   "cell_type": "code",
   "execution_count": 88,
   "metadata": {},
   "outputs": [
    {
     "name": "stdout",
     "output_type": "stream",
     "text": [
      "initiating\n",
      "solving with 0.005 0.7070152759552002\n",
      "1 0.007645922462304499 False\n",
      "2 0.00762472727214487 False\n",
      "1 0.00762472727214487 False\n",
      "2 0.007561543970466916 False\n",
      "1 0.007561543970466916 False\n",
      "2 0.007457561593113994 False\n",
      "1 0.007457561593113994 False\n",
      "2 0.0073147060279157424 False\n",
      "1 0.0073147060279157424 False\n",
      "2 0.0071355606737868275 False\n",
      "1 0.0071355606737868275 False\n",
      "2 0.006923263997076961 False\n",
      "1 0.006923263997076961 False\n",
      "2 0.006681391110301229 False\n",
      "1 0.006681391110301229 False\n",
      "2 0.00641382710539261 False\n",
      "1 0.00641382710539261 False\n",
      "2 0.006124639742173919 False\n",
      "1 0.006124639742173919 False\n",
      "2 0.005817959171192231 False\n",
      "1 0.005817959171192231 False\n",
      "2 0.005497868560637473 False\n",
      "1 0.005497868560637473 False\n",
      "2 0.0051683183677936895 False\n",
      "1 0.0051683183677936895 False\n",
      "2 0.0048335366835618905 False\n",
      "1 0.0048335366835618905 False\n",
      "2 0.004497346189706226 False\n",
      "1 0.004497346189706226 False\n",
      "2 0.004163028676476002 False\n",
      "1 0.004163028676476002 False\n",
      "2 0.0038334878391075673 False\n",
      "1 0.0038334878391075673 False\n",
      "2 0.003511276039191298 False\n",
      "1 0.003511276039191298 False\n",
      "2 0.0031987717567356255 False\n",
      "1 0.0031987717567356255 False\n",
      "2 0.002897886084152896 False\n",
      "1 0.002897886084152896 False\n",
      "2 0.002610102513547772 False\n",
      "1 0.002610102513547772 False\n",
      "2 0.002336618039159708 False\n",
      "1 0.002336618039159708 False\n",
      "2 0.0020783791939219965 False\n",
      "1 0.0020783791939219965 False\n",
      "2 0.0018360147685693375 False\n",
      "1 0.0018360147685693375 False\n",
      "2 0.001609904002855603 False\n",
      "1 0.001609904002855603 False\n",
      "2 0.001400202666305843 False\n",
      "1 0.001400202666305843 False\n",
      "2 0.0012069364894401703 False\n",
      "1 0.0012069364894401703 False\n",
      "2 0.0010298796179617005 False\n",
      "1 0.0010298796179617005 False\n",
      "2 0.000868763364298146 False\n",
      "1 0.000868763364298146 False\n",
      "2 0.0007231279226408304 False\n",
      "1 0.0007231279226408304 False\n",
      "2 0.0005925090021414218 False\n",
      "1 0.0005925090021414218 False\n",
      "2 0.00047631450774796865 False\n",
      "1 0.00047631450774796865 False\n",
      "2 0.0003739927849633487 False\n",
      "1 0.0003739927849633487 False\n",
      "2 0.0002849331642390321 False\n",
      "1 0.0002849331642390321 False\n",
      "2 0.00020859144559795463 False\n",
      "1 0.00020859144559795463 False\n",
      "2 0.00014442861673066718 False\n",
      "1 0.00014442861673066718 False\n",
      "2 9.193719229353983e-05 False\n",
      "1 9.193719229353983e-05 False\n",
      "2 5.067833761484584e-05 False\n",
      "1 5.067833761484584e-05 False\n",
      "2 2.050598561191771e-05 False\n",
      "1 2.050598561191771e-05 False\n",
      "2 2.8241836264990503e-06 False\n",
      "1 2.8241836264990503e-06 False\n",
      "2 -1.8512468781723217e-15 True\n",
      "2.8241836264990503e-06\n",
      "3333 [2.40917193e+00 2.82418363e-06 1.43936924e+00 2.88068372e+00] [2.40917193e+00 2.82418363e-06 1.43936924e+00 2.88068372e+00]\n",
      "1 2.8241836264990503e-06 False\n",
      "2 2.9449202994289605e-08 False\n",
      "1 2.9449202994289605e-08 False\n",
      "2 -1.957193683297987e-15 True\n",
      "2.9449202994289605e-08\n",
      "3333 [2.41677998e+00 2.94492030e-08 1.45633448e+00 2.89502802e+00] [2.41677998e+00 2.94492030e-08 1.45633448e+00 2.89502802e+00]\n",
      "1 2.9449202994289605e-08 False\n",
      "2 7.691002764785771e-11 False\n",
      "1 7.691002764785771e-11 False\n",
      "2 -3.558415674952988e-14 True\n",
      "7.691002764785771e-11\n",
      "3333 [2.41686490e+00 7.69100276e-11 1.46447428e+00 2.89518761e+00] [2.41686490e+00 7.69100276e-11 1.46447428e+00 2.89518761e+00]\n",
      "1 7.691002764785771e-11 False\n",
      "2 -2.2484380439434127e-14 True\n",
      "7.691002764785771e-11\n",
      "3333 [2.41686490e+00 7.69100276e-11 1.46447428e+00 2.89518761e+00] [2.41686490e+00 7.69100276e-11 1.46447428e+00 2.89518761e+00]\n",
      "1 7.691002764785771e-11 False\n",
      "2 1.0073826172015758e-11 False\n",
      "1 1.0073826172015758e-11 False\n",
      "2 -2.2446220746042394e-14 True\n",
      "1.0073826172015758e-11\n",
      "3333 [2.41686510e+00 1.00738262e-11 1.46647282e+00 2.89518799e+00] [2.41686510e+00 1.00738262e-11 1.46647282e+00 2.89518799e+00]\n",
      "1 1.0073826172015758e-11 False\n",
      "2 2.1682333908815336e-12 False\n",
      "1 2.1682333908815336e-12 False\n",
      "2 1.7556655205250243e-13 False\n",
      "1 1.7556655205250243e-13 False\n",
      "2 -4.3866258649715867e-13 True\n",
      "1.7556655205250243e-13\n",
      "3333 [2.41686513e+00 1.75566552e-13 1.46845722e+00 2.89518804e+00] [2.41686513e+00 1.75566552e-13 1.46845722e+00 2.89518804e+00]\n",
      "1 1.7556655205250243e-13 False\n",
      "2 4.043447366534244e-14 False\n",
      "1 4.043447366534244e-14 False\n",
      "2 6.29165164785414e-15 False\n",
      "1 6.29165164785414e-15 False\n",
      "2 4.59891635131887e-17 False\n",
      "1 4.59891635131887e-17 False\n",
      "2 -1.287754356887258e-16 True\n",
      "4.59891635131887e-17\n",
      "3333 [2.41686513e+00 4.59891635e-17 1.46993605e+00 2.89518804e+00] [2.41686513e+00 4.59891635e-17 1.46993605e+00 2.89518804e+00]\n",
      "1 4.59891635131887e-17 False\n",
      "2 -4.405602636595583e-20 True\n",
      "4.59891635131887e-17\n",
      "3333 [2.41686513e+00 4.59891635e-17 1.46993605e+00 2.89518804e+00] [2.41686513e+00 4.59891635e-17 1.46993605e+00 2.89518804e+00]\n",
      "1 4.59891635131887e-17 False\n",
      "2 2.496098260610842e-21 False\n",
      "solving with 0.004 0.7070152759552002\n"
     ]
    },
    {
     "name": "stderr",
     "output_type": "stream",
     "text": [
      "/home/halvard/anaconda3/lib/python3.6/site-packages/scipy/integrate/_ode.py:1009: UserWarning: vode: Repeated convergence failures. (Perhaps bad Jacobian supplied or wrong choice of MF or tolerances.)\n",
      "  self.messages.get(istate, unexpected_istate_msg)))\n",
      "/home/halvard/uio/PHY905_NumericalRelativity/project1/tov.py:195: UserWarning: Something went wrong in the integration, and we need a better error message\n",
      "  return solver, t, y\n"
     ]
    },
    {
     "name": "stdout",
     "output_type": "stream",
     "text": [
      "1 0.005242934860219285 False\n",
      "2 0.0052311814548109785 False\n",
      "1 0.0052311814548109785 False\n",
      "2 0.00519608644615899 False\n",
      "1 0.00519608644615899 False\n",
      "2 0.005138148191271913 False\n",
      "1 0.005138148191271913 False\n",
      "2 0.005058180059666263 False\n",
      "1 0.005058180059666263 False\n",
      "2 0.004957286680613116 False\n",
      "1 0.004957286680613116 False\n",
      "2 0.004836832377337643 False\n",
      "1 0.004836832377337643 False\n",
      "2 0.0046984034327768286 False\n",
      "1 0.0046984034327768286 False\n",
      "2 0.0045437658077358035 False\n",
      "1 0.0045437658077358035 False\n",
      "2 0.004374820668207191 False\n",
      "1 0.004374820668207191 False\n",
      "2 0.004193559640536892 False\n",
      "1 0.004193559640536892 False\n",
      "2 0.0040020211198138304 False\n",
      "1 0.0040020211198138304 False\n",
      "2 0.0038022496404791412 False\n",
      "1 0.0038022496404791412 False\n",
      "2 0.003596264481551155 False\n",
      "1 0.003596264481551155 False\n",
      "2 0.003386086972793258 False\n",
      "1 0.003386086972793258 False\n",
      "2 0.0031736744440264576 False\n",
      "1 0.0031736744440264576 False\n",
      "2 0.002960791046179808 False\n",
      "1 0.002960791046179808 False\n",
      "2 0.0027490866064880976 False\n",
      "1 0.0027490866064880976 False\n",
      "2 0.0025400632928750406 False\n",
      "1 0.0025400632928750406 False\n",
      "2 0.0023351017138902286 False\n",
      "1 0.0023351017138902286 False\n",
      "2 0.002135437927156293 False\n",
      "1 0.002135437927156293 False\n",
      "2 0.0019421301004291162 False\n",
      "1 0.0019421301004291162 False\n",
      "2 0.0017560906631898753 False\n",
      "1 0.0017560906631898753 False\n",
      "2 0.001578063594682128 False\n",
      "1 0.001578063594682128 False\n",
      "2 0.0014086742749341698 False\n",
      "1 0.0014086742749341698 False\n",
      "2 0.0012484395950719835 False\n",
      "1 0.0012484395950719835 False\n",
      "2 0.0010976932387363105 False\n",
      "1 0.0010976932387363105 False\n",
      "2 0.0009566956701217735 False\n",
      "1 0.0009566956701217735 False\n",
      "2 0.0008256386106630923 False\n",
      "1 0.0008256386106630923 False\n",
      "2 0.0007045207970119413 False\n",
      "1 0.0007045207970119413 False\n",
      "2 0.0005933984407166937 False\n",
      "1 0.0005933984407166937 False\n",
      "2 0.0004921556052020224 False\n",
      "1 0.0004921556052020224 False\n",
      "2 0.0004007028340029454 False\n",
      "1 0.0004007028340029454 False\n",
      "2 0.0003188799570438226 False\n",
      "1 0.0003188799570438226 False\n",
      "2 0.00024654361416270995 False\n",
      "1 0.00024654361416270995 False\n",
      "2 0.0001835155868503365 False\n",
      "1 0.0001835155868503365 False\n",
      "2 0.00012963261799947857 False\n",
      "1 0.00012963261799947857 False\n",
      "2 8.472339231751137e-05 False\n",
      "1 8.472339231751137e-05 False\n",
      "2 4.864874298657977e-05 False\n",
      "1 4.864874298657977e-05 False\n",
      "2 2.1474950256916955e-05 False\n",
      "1 2.1474950256916955e-05 False\n",
      "2 4.3019009977117164e-06 False\n",
      "1 4.3019009977117164e-06 False\n",
      "2 4.416391995406445e-11 False\n",
      "1 4.416391995406445e-11 False\n",
      "2 -3.913775352950509e-14 True\n",
      "4.416391995406445e-11\n",
      "3333 [2.44121204e+00 4.41639200e-11 1.24926889e+00 2.95065122e+00] [2.44121204e+00 4.41639200e-11 1.24926889e+00 2.95065122e+00]\n",
      "1 4.416391995406445e-11 False\n",
      "2 -1.7201535318513587e-13 True\n",
      "4.416391995406445e-11\n",
      "3333 [2.44121204e+00 4.41639200e-11 1.24926889e+00 2.95065122e+00] [2.44121204e+00 4.41639200e-11 1.24926889e+00 2.95065122e+00]\n",
      "1 4.416391995406445e-11 False\n",
      "2 -1.720125755645266e-13 True\n",
      "4.416391995406445e-11\n",
      "3333 [2.44121204e+00 4.41639200e-11 1.24926889e+00 2.95065122e+00] [2.44121204e+00 4.41639200e-11 1.24926889e+00 2.95065122e+00]\n",
      "1 4.416391995406445e-11 False\n",
      "2 5.3668948035944813e-14 False\n",
      "1 5.3668948035944813e-14 False\n",
      "2 -1.720111692436198e-13 True\n",
      "5.3668948035944813e-14\n",
      "3333 [2.44121220e+00 5.36689480e-14 1.25286239e+00 2.95065151e+00] [2.44121220e+00 5.36689480e-14 1.25286239e+00 2.95065151e+00]\n",
      "1 5.3668948035944813e-14 False\n",
      "2 2.3171007458736053e-21 False\n",
      "time use:  18.79079794883728\n"
     ]
    },
    {
     "data": {
      "text/plain": [
       "[<matplotlib.lines.Line2D at 0x7f6d28ec6128>]"
      ]
     },
     "execution_count": 88,
     "metadata": {},
     "output_type": "execute_result"
    },
    {
     "data": {
      "image/png": "[encoded data removed]",
      "text/plain": [
       "<matplotlib.figure.Figure at 0x7f6d28b09e80>"
      ]
     },
     "metadata": {
      "needs_background": "light"
     },
     "output_type": "display_data"
    }
   ],
   "source": [
    "import time\n",
    "Nr = 200\n",
    "# r_max = \n",
    "\n",
    "start1 = time.time()\n",
    "print('initiating')\n",
    "rhoc = 10**-2.30\n",
    "test = TableStar(filename).set_initial_conditions(rhoc = rhoc)\n",
    "start = time.time()\n",
    "print('solving with %.3f'%rhoc, start - start1)\n",
    "solver, t1, y1 = test.old_solve_star(Nr = 200, integrator = 'vode')\n",
    "\n",
    "rhoc = 10**-2.35\n",
    "print('solving with %.3f'%rhoc, start - start1)\n",
    "test.set_initial_conditions(rhoc = rhoc)\n",
    "solver, t2, y2 = test.old_solve_star(Nr = 200, integrator = 'vode')\n",
    "stop = time.time()\n",
    "print('time use: ', stop - start)\n",
    "\n",
    "plt.plot(t1)#, solver.y[1])\n",
    "plt.plot(t2)#, solver.y[1])"
   ]
  },
  {
   "cell_type": "code",
   "execution_count": 89,
   "metadata": {},
   "outputs": [
    {
     "data": {
      "text/plain": [
       "2"
      ]
     },
     "execution_count": 89,
     "metadata": {},
     "output_type": "execute_result"
    }
   ],
   "source": [
    "a = [1,2,3]\n",
    "a.pop()\n",
    "a[-1]\n"
   ]
  },
  {
   "cell_type": "code",
   "execution_count": 90,
   "metadata": {},
   "outputs": [
    {
     "data": {
      "text/plain": [
       "[35, 45, 6, 7.5]"
      ]
     },
     "execution_count": 90,
     "metadata": {},
     "output_type": "execute_result"
    },
    {
     "data": {
      "image/png": "[encoded data removed]",
      "text/plain": [
       "<matplotlib.figure.Figure at 0x7f6d28fe78d0>"
      ]
     },
     "metadata": {
      "needs_background": "light"
     },
     "output_type": "display_data"
    }
   ],
   "source": [
    "plt.plot(t1)#, solver.y[1])\n",
    "plt.plot(t2)#, solver.y[1])\n",
    "plt.axis([35,45,6,7.5])"
   ]
  },
  {
   "cell_type": "code",
   "execution_count": null,
   "metadata": {},
   "outputs": [],
   "source": [
    "plt.semilogy(t1, y1[:, 1], label = 'pressure, $\\rho_c = 10^-{2.3}$'\n",
    "plt.semilogy(t2, y2[:, 1], label = 'pressure, $\\rho_c = 10^-{2.35}$'\n",
    "plt.axhline(10**star.pres_bounds[0], 'pressure lower bound')\n",
    "plt.legend()"
   ]
  },
  {
   "cell_type": "code",
   "execution_count": 69,
   "metadata": {},
   "outputs": [
    {
     "data": {
      "text/plain": [
       "[0, 0, 0, 0]"
      ]
     },
     "execution_count": 69,
     "metadata": {},
     "output_type": "execute_result"
    }
   ],
   "source": [
    "star.derivatives(t1[-1], y1[-1])"
   ]
  },
  {
   "cell_type": "code",
   "execution_count": 71,
   "metadata": {},
   "outputs": [
    {
     "data": {
      "text/plain": [
       "-1.8512468781723217e-15"
      ]
     },
     "execution_count": 71,
     "metadata": {},
     "output_type": "execute_result"
    }
   ],
   "source": [
    "y1[-1,1]"
   ]
  },
  {
   "cell_type": "code",
   "execution_count": 56,
   "metadata": {},
   "outputs": [
    {
     "data": {
      "text/plain": [
       "[<matplotlib.lines.Line2D at 0x7f6d29e8de10>]"
      ]
     },
     "execution_count": 56,
     "metadata": {},
     "output_type": "execute_result"
    },
    {
     "data": {
      "image/png": "[encoded data removed]",
      "text/plain": [
       "<matplotlib.figure.Figure at 0x7f6d2a069ef0>"
      ]
     },
     "metadata": {
      "needs_background": "light"
     },
     "output_type": "display_data"
    }
   ],
   "source": [
    "plt.plot(t1[-3:])\n",
    "plt.plot(t2[-3:])"
   ]
  },
  {
   "cell_type": "code",
   "execution_count": 95,
   "metadata": {},
   "outputs": [
    {
     "name": "stdout",
     "output_type": "stream",
     "text": [
      "(-15.570262594586174, -2.290262794586173)\n",
      "-3.3\n",
      "-3.27939387755102\n",
      "-3.2587877551020408\n",
      "-3.238181632653061\n",
      "-3.2175755102040813\n",
      "-3.196969387755102\n",
      "-3.1763632653061222\n",
      "-3.1557571428571425\n",
      "-3.135151020408163\n",
      "-3.1145448979591834\n",
      "-3.0939387755102037\n",
      "-3.0733326530612244\n",
      "-3.0527265306122446\n",
      "-3.032120408163265\n",
      "-3.0115142857142856\n",
      "-2.990908163265306\n",
      "-2.9703020408163265\n",
      "-2.949695918367347\n",
      "-2.929089795918367\n",
      "-2.9084836734693873\n",
      "-2.887877551020408\n",
      "-2.8672714285714282\n",
      "-2.846665306122449\n",
      "-2.826059183673469\n",
      "-2.8054530612244895\n",
      "-2.7848469387755097\n",
      "-2.7642408163265304\n",
      "-2.7436346938775507\n",
      "-2.7230285714285714\n",
      "-2.7024224489795916\n",
      "-2.681816326530612\n",
      "-2.6612102040816326\n",
      "-2.640604081632653\n",
      "-2.619997959183673\n",
      "-2.5993918367346938\n",
      "-2.578785714285714\n",
      "-2.5581795918367343\n",
      "-2.537573469387755\n",
      "-2.516967346938775\n",
      "-2.496361224489796\n",
      "-2.475755102040816\n",
      "-2.4551489795918364\n",
      "-2.4345428571428567\n",
      "-2.4139367346938774\n",
      "-2.3933306122448976\n",
      "-2.3727244897959183\n",
      "-2.3521183673469386\n",
      "-2.331512244897959\n",
      "-2.310906122448979\n",
      "-2.2903\n"
     ]
    },
    {
     "data": {
      "text/plain": [
       "<matplotlib.legend.Legend at 0x7f6d28d441d0>"
      ]
     },
     "execution_count": 95,
     "metadata": {},
     "output_type": "execute_result"
    },
    {
     "data": {
      "image/png": "[encoded data removed]",
      "text/plain": [
       "<matplotlib.figure.Figure at 0x7f6d28d44e10>"
      ]
     },
     "metadata": {
      "needs_background": "light"
     },
     "output_type": "display_data"
    }
   ],
   "source": [
    "fig,[ax1,ax2] = plt.subplots(1,2)\n",
    "\n",
    "final_values = []\n",
    "integrator = 'vode'\n",
    "Nr = 200\n",
    "\n",
    "\n",
    "print(test.rho_bounds)\n",
    "#for logrhoc in np.linspace(-3.3, -2.2903, 30):\n",
    "for logrhoc in np.linspace(-3.3, -2.2903, 50):\n",
    "    print(logrhoc)\n",
    "    star = TableStar(filename)\n",
    "    star.set_initial_conditions(rhoc = 10**logrhoc)\n",
    "    solver, t, y = star.old_solve_star(integrator = integrator, Nr = Nr)\n",
    "    \n",
    "    last_pos = -1 \n",
    "    final_values.append([logrhoc, t[last_pos]] + list(y[last_pos]))\n",
    "#     last_pos = np.sum(solve.y[1] > 0) - 1 # assumes strictly decreasing values. -1 for python indexing\n",
    "#     final_values.append([logrhoc, solve.t[last_pos]] + list(solve.y[:,last_pos]))\n",
    "    \n",
    "    ax1.semilogy(t, y[:, 1], label = 'logrhoc {:.2f}'.format(logrhoc))\n",
    "    ax2.scatter(logrhoc, y[last_pos, 0])\n",
    "ax1.legend()\n",
    "# rhoc = 3e15 * 1.6199e-18\n",
    "# test = TableStar(filename).set_initial_conditions(rhoc = rhoc)"
   ]
  },
  {
   "cell_type": "code",
   "execution_count": 98,
   "metadata": {},
   "outputs": [
    {
     "name": "stdout",
     "output_type": "stream",
     "text": [
      "0.33853\n"
     ]
    }
   ],
   "source": [
    "rho, r_values, m_values, P_values, phi_values, M0_values = np.array(final_values).T\n",
    "print(star.r_max/100)"
   ]
  },
  {
   "cell_type": "code",
   "execution_count": 99,
   "metadata": {},
   "outputs": [
    {
     "data": {
      "text/plain": [
       "Text(0,0.5,'Mass [$M_\\\\odot$]')"
      ]
     },
     "execution_count": 99,
     "metadata": {},
     "output_type": "execute_result"
    },
    {
     "data": {
      "image/png": "[encoded data removed]",
      "text/plain": [
       "<matplotlib.figure.Figure at 0x7f6d28b1c748>"
      ]
     },
     "metadata": {
      "needs_background": "light"
     },
     "output_type": "display_data"
    }
   ],
   "source": [
    "to_km = 1e-5/6.7706e-6\n",
    "\n",
    "plt.plot(to_km*r_values, m_values, label = 'gravitational')\n",
    "plt.plot(to_km*r_values, M0_values, label = 'baryonic')\n",
    "plt.legend()\n",
    "plt.xlabel('Radius [km]')\n",
    "plt.ylabel(r'Mass [$M_\\odot$]')"
   ]
  },
  {
   "cell_type": "code",
   "execution_count": 37,
   "metadata": {},
   "outputs": [
    {
     "data": {
      "image/png": "[encoded data removed]",
      "text/plain": [
       "<matplotlib.figure.Figure at 0x7f6d29e45d68>"
      ]
     },
     "metadata": {
      "needs_background": "light"
     },
     "output_type": "display_data"
    }
   ],
   "source": [
    "plt.plot(rho, m_values, label = 'gravitational')\n",
    "plt.plot(rho, M0_values, label = 'baryonic')\n",
    "plt.legend()\n",
    "plt.xlabel(r'$\\log \\rho$ [g/cm^3]')\n",
    "plt.ylabel(r'Mass [$M_\\odot$]')\n",
    "plt.grid()"
   ]
  },
  {
   "cell_type": "code",
   "execution_count": 38,
   "metadata": {},
   "outputs": [
    {
     "data": {
      "image/png": "[encoded data removed]",
      "text/plain": [
       "<matplotlib.figure.Figure at 0x7f6d29b9b7b8>"
      ]
     },
     "metadata": {
      "needs_background": "light"
     },
     "output_type": "display_data"
    }
   ],
   "source": [
    "plt.plot(rho, r_values)\n",
    "plt.grid()"
   ]
  },
  {
   "cell_type": "code",
   "execution_count": null,
   "metadata": {},
   "outputs": [],
   "source": [
    "np.log10(3e15 * 1.6199e-18)"
   ]
  },
  {
   "cell_type": "code",
   "execution_count": null,
   "metadata": {},
   "outputs": [],
   "source": [
    "rho_arr = test.rho_arr\n",
    "np.min(rho_arr)"
   ]
  },
  {
   "cell_type": "code",
   "execution_count": null,
   "metadata": {},
   "outputs": [],
   "source": [
    "a, b  = test.ye_bounds\n",
    "print(test.pres_bounds)\n",
    "print(test.rho_bounds)\n",
    "test.pres_interp(a, -15), test.pres_interp(b, -13)"
   ]
  },
  {
   "cell_type": "code",
   "execution_count": null,
   "metadata": {},
   "outputs": [],
   "source": [
    "test.ye_bounds"
   ]
  },
  {
   "cell_type": "code",
   "execution_count": null,
   "metadata": {},
   "outputs": [],
   "source": []
  },
  {
   "cell_type": "code",
   "execution_count": null,
   "metadata": {},
   "outputs": [],
   "source": []
  },
  {
   "cell_type": "code",
   "execution_count": 86,
   "metadata": {},
   "outputs": [
    {
     "name": "stdout",
     "output_type": "stream",
     "text": [
      "[0.4999995] [0.4999995]\n"
     ]
    },
    {
     "data": {
      "image/png": "[encoded data removed]",
      "text/plain": [
       "<matplotlib.figure.Figure at 0x7f6d28d07f28>"
      ]
     },
     "metadata": {
      "needs_background": "light"
     },
     "output_type": "display_data"
    }
   ],
   "source": [
    "def f(x):\n",
    "    return -x\n",
    "from scipy.integrate import ode \n",
    "\n",
    "solver = ode(f)\n",
    "\n",
    " \n",
    "prev_t = 0\n",
    "prev_y = 1\n",
    "solver.set_initial_value(prev_y,prev_t)\n",
    "dx = 0.1\n",
    "for i in range(20):\n",
    "    if i == 10:\n",
    "        solver.set_initial_value(prev_y, 0)\n",
    "        print(solver.y, prev_y)\n",
    "        \n",
    "    plt.scatter(solver.t, solver.y, c ='k')\n",
    "        \n",
    "    solver.integrate(solver.t + dx)\n",
    "    prev_t = solver.t\n",
    "    prev_y = solver.y"
   ]
  },
  {
   "cell_type": "code",
   "execution_count": null,
   "metadata": {},
   "outputs": [],
   "source": []
  },
  {
   "cell_type": "code",
   "execution_count": null,
   "metadata": {},
   "outputs": [],
   "source": [
    "dir(solver)"
   ]
  },
  {
   "cell_type": "code",
   "execution_count": null,
   "metadata": {},
   "outputs": [],
   "source": [
    "\n",
    "test.P(test.rhoc)\n",
    "[(test.P(v),v) for v in np.logspace(-10,1,11)]"
   ]
  },
  {
   "cell_type": "code",
   "execution_count": null,
   "metadata": {},
   "outputs": [],
   "source": []
  },
  {
   "cell_type": "code",
   "execution_count": null,
   "metadata": {},
   "outputs": [],
   "source": []
  },
  {
   "cell_type": "code",
   "execution_count": null,
   "metadata": {},
   "outputs": [],
   "source": [
    "test.solve_star()"
   ]
  },
  {
   "cell_type": "code",
   "execution_count": null,
   "metadata": {},
   "outputs": [],
   "source": [
    "T_arr = np.array(f['logtemp'])\n",
    "ye_arr = np.array(f['ye'])\n",
    "rho_arr = np.array(f['logrho'])\n",
    "\n",
    "rho_grid, ye_grid = np.meshgrid(rho_arr, ye_arr)\n",
    "pres_values = f['logpress'][:,0,:]\n",
    "munu_values = f['munu'][:,0,:]\n",
    "\n",
    "\n",
    "ye_pres_points = np.column_stack([ye_grid.ravel(), pres_values.ravel()]),\n",
    "ye_rho_points  = np.column_stack([ye_grid.ravel(), rho_grid.ravel()]),\n",
    "\n",
    "rho_interp  = LinearNDInterpolator(ye_pres_points, rho_grid.ravel())\n",
    "pres_interp = LinearNDInterpolator(ye_rho_points, pres_values.ravel())\n",
    "munu_interp = LinearNDInterpolator(ye_rho_points, munu_values.ravel())"
   ]
  },
  {
   "cell_type": "code",
   "execution_count": null,
   "metadata": {},
   "outputs": [],
   "source": [
    "func3 = lambda ye, P : munu_interp([ye, P])\n",
    "ye_bounds = [np.min(ye_arr), np.max(ye_arr)]\n",
    "res = optimize.root_scalar(func3, method = 'brentq', args=(P), bracket = ye_bounds)\n",
    "res"
   ]
  },
  {
   "cell_type": "code",
   "execution_count": null,
   "metadata": {},
   "outputs": [],
   "source": [
    "? optimize.fsolve"
   ]
  },
  {
   "cell_type": "code",
   "execution_count": null,
   "metadata": {},
   "outputs": [],
   "source": []
  },
  {
   "cell_type": "code",
   "execution_count": null,
   "metadata": {},
   "outputs": [],
   "source": [
    "rho_interp = interp2d(ye_grid, pres_values, rho_grid)\n",
    "\n",
    "pres_interp = interp2d(ye_grid, rho_grid, pres_values)"
   ]
  },
  {
   "cell_type": "code",
   "execution_count": null,
   "metadata": {},
   "outputs": [],
   "source": []
  },
  {
   "cell_type": "code",
   "execution_count": null,
   "metadata": {},
   "outputs": [],
   "source": [
    "# rho_interp(0.4, 20)\n",
    "pres_interp([0.4, 0.7], [4, 5])"
   ]
  },
  {
   "cell_type": "code",
   "execution_count": null,
   "metadata": {},
   "outputs": [],
   "source": [
    "?pres_interp"
   ]
  },
  {
   "cell_type": "code",
   "execution_count": null,
   "metadata": {},
   "outputs": [],
   "source": [
    "a = pres_interp(ye_grid.ravel(), pres_values.ravel())"
   ]
  },
  {
   "cell_type": "code",
   "execution_count": null,
   "metadata": {},
   "outputs": [],
   "source": [
    "np.isclose(a, pres_values)"
   ]
  },
  {
   "cell_type": "code",
   "execution_count": null,
   "metadata": {},
   "outputs": [],
   "source": [
    "rho_interp(0.4, 20)"
   ]
  },
  {
   "cell_type": "code",
   "execution_count": null,
   "metadata": {},
   "outputs": [],
   "source": [
    "%timeit rho_interp(0.4, 20)"
   ]
  },
  {
   "cell_type": "code",
   "execution_count": null,
   "metadata": {},
   "outputs": [],
   "source": []
  },
  {
   "cell_type": "code",
   "execution_count": null,
   "metadata": {},
   "outputs": [],
   "source": [
    "rho_shaped = rho_values.reshape(pres_grid.shape)"
   ]
  },
  {
   "cell_type": "code",
   "execution_count": null,
   "metadata": {},
   "outputs": [],
   "source": [
    "valid_cols = ~np.any(np.isnan(rho_values.reshape(pres_grid.shape)), axis = 0)\n",
    "rho_valid = rho_shaped[:,valid_cols]\n",
    "\n",
    "plt.imshow(rho_shaped[:,valid_cols])"
   ]
  },
  {
   "cell_type": "code",
   "execution_count": null,
   "metadata": {},
   "outputs": [],
   "source": [
    "grid_reshaped = grid.reshape(list(pres_grid.shape)+[-1])\n",
    "plt.pcolormesh(grid_reshaped[:,:,0], grid_reshaped[:,:,1], rho_shaped)"
   ]
  },
  {
   "cell_type": "code",
   "execution_count": null,
   "metadata": {},
   "outputs": [],
   "source": [
    "grid_valid = grid_reshaped[:,valid_cols]\n",
    "m = plt.pcolormesh(grid_valid[:,:,0], grid_valid[:,:,1], rho_valid)\n",
    "plt.colorbar(m)"
   ]
  },
  {
   "cell_type": "code",
   "execution_count": null,
   "metadata": {},
   "outputs": [],
   "source": [
    "grid_valid = grid_reshaped[:,valid_cols]"
   ]
  },
  {
   "cell_type": "code",
   "execution_count": null,
   "metadata": {},
   "outputs": [],
   "source": [
    "grid_valid.shape, rho_valid.shape"
   ]
  },
  {
   "cell_type": "code",
   "execution_count": null,
   "metadata": {},
   "outputs": [],
   "source": [
    "sdalsadj"
   ]
  },
  {
   "cell_type": "code",
   "execution_count": null,
   "metadata": {},
   "outputs": [],
   "source": [
    "? interp2d"
   ]
  },
  {
   "cell_type": "code",
   "execution_count": null,
   "metadata": {},
   "outputs": [],
   "source": [
    "rho_interp = interp2d(grid_reshaped[:,valid_cols,0].ravel(), \n",
    "                           grid_reshaped[:,valid_cols,1].ravel(), \n",
    "                           rho_valid.ravel())"
   ]
  },
  {
   "cell_type": "code",
   "execution_count": null,
   "metadata": {},
   "outputs": [],
   "source": [
    "grid.shape\n",
    "np.any(np.isnan(rho_values))"
   ]
  },
  {
   "cell_type": "code",
   "execution_count": null,
   "metadata": {},
   "outputs": [],
   "source": []
  },
  {
   "cell_type": "code",
   "execution_count": null,
   "metadata": {},
   "outputs": [],
   "source": [
    "pressure_interp(grid.T[0], grid.T[1])"
   ]
  },
  {
   "cell_type": "code",
   "execution_count": null,
   "metadata": {},
   "outputs": [],
   "source": [
    "Nrho, Ntemp, Nye, pres_values.shape"
   ]
  },
  {
   "cell_type": "code",
   "execution_count": null,
   "metadata": {},
   "outputs": [],
   "source": [
    "m = plt.scatter(ye_grid.ravel(), rho_grid.ravel(), c = pres_values.ravel())\n",
    "plt.colorbar(m)"
   ]
  },
  {
   "cell_type": "code",
   "execution_count": null,
   "metadata": {},
   "outputs": [],
   "source": [
    "m = plt.scatter(grid.T[0], grid.T[1], marker='.', c = rho_values)\n",
    "plt.colorbar(m)"
   ]
  },
  {
   "cell_type": "code",
   "execution_count": null,
   "metadata": {},
   "outputs": [],
   "source": []
  },
  {
   "cell_type": "code",
   "execution_count": null,
   "metadata": {},
   "outputs": [],
   "source": [
    "from scipy.interpolate import griddata\n",
    "\n",
    "pressure_grid = np.linspace(np.min(a), np.max(a), N)\n",
    "P,_b = np.meshgrid(pressure_grid, b)\n",
    "\n",
    "print(P.shape)\n",
    "points = np.array([A.ravel(), c.ravel()]).T\n",
    "values = B.ravel()\n",
    "xi = np.array([A.ravel(), c.ravel()]).T\n",
    "\n",
    "print(B.size, c.size, A.size)\n",
    "print(points.shape)\n",
    "\n",
    "gd = griddata(points, values, xi) \n",
    "plt.pcolormesh(points[:,0], points[:,1], gd)"
   ]
  },
  {
   "cell_type": "code",
   "execution_count": null,
   "metadata": {},
   "outputs": [],
   "source": [
    "np.concatenate([A.ravel(),B.ravel()])"
   ]
  },
  {
   "cell_type": "code",
   "execution_count": null,
   "metadata": {},
   "outputs": [],
   "source": [
    "np.array(f['logrho'])"
   ]
  },
  {
   "cell_type": "markdown",
   "metadata": {},
   "source": [
    " \n",
    "  - Determine the maximum mass for any five of the EOS available on stellarcollapse.org.\n",
    " "
   ]
  },
  {
   "cell_type": "code",
   "execution_count": null,
   "metadata": {},
   "outputs": [],
   "source": []
  },
  {
   "cell_type": "markdown",
   "metadata": {},
   "source": [
    " \n",
    "  - Make mass vs. radius plots for these same five EOS."
   ]
  },
  {
   "cell_type": "code",
   "execution_count": null,
   "metadata": {},
   "outputs": [],
   "source": []
  },
  {
   "cell_type": "code",
   "execution_count": null,
   "metadata": {},
   "outputs": [],
   "source": []
  }
 ],
 "metadata": {
  "kernelspec": {
   "display_name": "Python 3",
   "language": "python",
   "name": "python3"
  },
  "language_info": {
   "codemirror_mode": {
    "name": "ipython",
    "version": 3
   },
   "file_extension": ".py",
   "mimetype": "text/x-python",
   "name": "python",
   "nbconvert_exporter": "python",
   "pygments_lexer": "ipython3",
   "version": "3.6.6"
  }
 },
 "nbformat": 4,
 "nbformat_minor": 2
}
