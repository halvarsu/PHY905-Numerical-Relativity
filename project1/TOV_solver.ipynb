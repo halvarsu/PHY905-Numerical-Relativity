{
 "cells": [
  {
   "cell_type": "markdown",
   "metadata": {},
   "source": []
  },
  {
   "cell_type": "markdown",
   "metadata": {},
   "source": [
    "# Project 1\n",
    "Due March 12, 2019.\n",
    "\n",
    "For the midterm project, you will develop a Tolman-Oppenheimer-Volkov (TOV) solver to compute the hydrostatic structure of a relativistic neutron star. You will use this to determine the maximum masses of cold neutron stars (NSs) for several different equations of state (EOS).\n",
    "\n",
    "Your code should adhere to the course Coding Standards.\n",
    "\n",
    "  - Write a numerical solver for the spherically-symmetric TOV equations using a fourth-order Runge-Kutta integrator. Assume a polytropic EOS specified by $K$ and $\\gamma$. You may find these notes particularly helpful.\n",
    "  \n",
    "\\begin{align}\n",
    "\\frac{dm}{dr} &= 4\\pi r^2 \\rho \\\\\n",
    "\\frac{dP}{dr} &= -\\frac{\\rho m }{r^2}\\left ( 1 + \\frac{P}{\\rho}\\right ) \\left( 1 + \\frac{4\\pi P^3}{m} \\right ) \\left ( 1 - \\frac{2m}{r}\\right ) ^{-1}\\\\\n",
    "\\frac{d\\Phi}{dr} &= - \\frac{1}{\\rho} \\frac{dP}{dr}\\left( 1 + \\frac{P}{\\rho}\\right ) ^{-1}\n",
    "\\end{align}\n",
    "\n",
    "For a polytropic eos: $P = K \\rho_0^\\Gamma$, where $K$ is the polytropic gas constant and $n$ defined by $\\Gamma \\equiv 1 + 1/n$ is the polytropic index. We then have   $\\rho = \\rho_0 + P/(\\Gamma -1 )$  and $\\rho_0 \\epsilon = P/(\\Gamma -1 )$, which gives\n",
    "   \n",
    "\\begin{equation}\n",
    "\\epsilon= \\frac{P}{(\\gamma - 1)\\rho_0}\n",
    "\\end{equation}\n",
    "   \n",
    "Below, constants are the equivalent barred ones."
   ]
  },
  {
   "cell_type": "code",
   "execution_count": 320,
   "metadata": {},
   "outputs": [],
   "source": [
    "import numpy as np\n",
    "import matplotlib.pyplot as plt\n",
    "\n",
    "def deriv_P(r, rho, m, P):\n",
    "    return - rho * m / r**2 * (1 +  P /rho) * ( 1 + 4*np.pi*P*r**3/m)/(1-2*m/r)\n",
    "\n",
    "def deriv_m(r, rho):\n",
    "    return 4*np.pi*r**2 * rho\n",
    "\n",
    "def deriv_Phi(r, rho, P, dPdr):\n",
    "    return - 1/rho * dPdr / ( 1 + P/rho )"
   ]
  },
  {
   "cell_type": "code",
   "execution_count": 321,
   "metadata": {},
   "outputs": [],
   "source": [
    "from scipy.integrate import ode\n",
    "\n",
    "def f(r, y):\n",
    "    (m, P, Phi) = y\n",
    "    rho0 = P ** (1/gamma)\n",
    "    \n",
    "    eps = P / ((gamma - 1 ) * rho0 )\n",
    "    rho = rho0 + P/(gamma - 1)\n",
    "    dmdr = 4 * np.pi * r**2 * rho\n",
    "    if r == 0 or m == 0:\n",
    "        dPdr = 0\n",
    "    else:\n",
    "        dPdr = - rho * m / r**2 * ((1 +  P /rho) \\\n",
    "                                 * ( 1 + 4*np.pi*P*r**3/m)/(1-2*m/r))\n",
    "    dPhidr = - 1/rho * dPdr / ( 1 + P/rho )\n",
    "    if verbose:\n",
    "        print(0, r, m, rho, eps)\n",
    "        print(1, dmdr)\n",
    "        print(2, dPdr)\n",
    "        print(3, dPhidr)\n",
    "    return [dmdr, dPdr, dPhidr]"
   ]
  },
  {
   "cell_type": "code",
   "execution_count": 356,
   "metadata": {
    "scrolled": false
   },
   "outputs": [],
   "source": [
    "def solve_star(rhoc_geom = 8.1e-4, verbose = False):\n",
    "    rhoc = rhoc_geom * K**n\n",
    "    Pc = rhoc ** gamma\n",
    "\n",
    "    rho0 = rhoc - Pc/(gamma - 1)\n",
    "\n",
    "    solver = ode(f).set_integrator('dopri5')\n",
    "\n",
    "    y0 = [0, Pc, 0]\n",
    "    solver.set_initial_value(y0, 0)\n",
    "\n",
    "    rmax_km = 60 # km \n",
    "    rmax = rmax_km * 1e5 * 6.7706e-6\n",
    "    Nr = 2000\n",
    "    dr =  rmax / Nr\n",
    "\n",
    "    values = []\n",
    "    r_values = []\n",
    "    i = 0\n",
    "    m = 0\n",
    "    P = Pc\n",
    "    M0 = 0\n",
    "    while solver.successful() and solver.t < rmax and P > 0:\n",
    "        solver.integrate(solver.t+dr)\n",
    "\n",
    "        values.append(solver.y)\n",
    "        r_values.append(solver.t)\n",
    "        m = solver.y[0]\n",
    "        P = solver.y[1]\n",
    "        i+=1\n",
    "\n",
    "        # just got this here temporarily\n",
    "        if m < 0:\n",
    "            raise ValueError('negative mass!')\n",
    "\n",
    "    if verbose:\n",
    "        print(i)\n",
    "    values = np.array(values)\n",
    "    return solver, values, r_values"
   ]
  },
  {
   "cell_type": "code",
   "execution_count": 370,
   "metadata": {
    "scrolled": false
   },
   "outputs": [
    {
     "name": "stdout",
     "output_type": "stream",
     "text": [
      "0.44771551978723495 0.8888888888888888\n",
      "2.4298499999999996 0.10866307922845711\n",
      "500000000000000.0 18.820997413057004\n"
     ]
    },
    {
     "name": "stderr",
     "output_type": "stream",
     "text": [
      "/home/halvard/anaconda3/lib/python3.6/site-packages/ipykernel_launcher.py:9: RuntimeWarning: invalid value encountered in double_scalars\n",
      "  if __name__ == '__main__':\n"
     ]
    },
    {
     "data": {
      "text/plain": [
       "Text(0.5,0,'r [km]')"
      ]
     },
     "execution_count": 370,
     "metadata": {},
     "output_type": "execute_result"
    },
    {
     "data": {
      "image/png": "[encoded data removed]",
      "text/plain": [
       "<matplotlib.figure.Figure at 0x7f0f8e430048>"
      ]
     },
     "metadata": {
      "needs_background": "light"
     },
     "output_type": "display_data"
    }
   ],
   "source": [
    "n = 1 # 4/7\n",
    "gamma = 1+1/n\n",
    "verbose = False\n",
    "\n",
    "\n",
    "K = 30000 # 1.98183e-6 # corresponds to K = 30000 in cgs\n",
    "\n",
    "rho_cgs = 5e13 # g / cm^3\n",
    "# rhobar = 0.420\n",
    "# rho_cgs = rhobar * K\n",
    "\n",
    "density_factor = 1.6199e-18   # cgs to geometrized units\n",
    "rho_geom = rho_cgs * density_factor # geometrized units G = c = M_sun\n",
    "\n",
    "\n",
    "solver, values, r_values = solve_star(rho_geom)\n",
    "\n",
    "print(2*values.T[0][-1]/r_values[-1], 8/9)\n",
    "\n",
    "rho_bar = rho_geom * K ** n\n",
    "print(rho_bar, values.T[0][-1])\n",
    "\n",
    "mass = values.T[0] * K**(n/2)\n",
    "print(rho, mass[-1])\n",
    "\n",
    "r_km = np.array(r_values)/ (1e5 * 6.7706e-6)\n",
    "fig,[ax1,ax2] = plt.subplots(2,1, figsize = [9,7])\n",
    "\n",
    "ax1.plot(r_km, mass)\n",
    "ax1.set_xlabel('r [km]')\n",
    "ax1.set_ylabel('mass [$M_\\odot$]')\n",
    "ax2.plot(r_km, values.T[1])\n",
    "ax2.set_xlabel('r [km]')\n"
   ]
  },
  {
   "cell_type": "markdown",
   "metadata": {},
   "source": [
    "    \n",
    "  - Determine the maximum mass of a cold NS for $K=30000$ (in $G=c=M_\\odot=1$ units) and $\\gamma=2.75$.\n",
    " "
   ]
  },
  {
   "cell_type": "code",
   "execution_count": null,
   "metadata": {},
   "outputs": [],
   "source": [
    "for"
   ]
  },
  {
   "cell_type": "markdown",
   "metadata": {},
   "source": [
    " \n",
    "  - Now, modify your code to use any arbitrary table-based EOS. Specifically, make your solver compatible with the EOS available on stellarcollapse.org. There is example code on that site in C++ and Fortran for reading and using the tables there, and working with the EOS tables is trivial in Python using h5py.\n",
    " "
   ]
  },
  {
   "cell_type": "code",
   "execution_count": null,
   "metadata": {},
   "outputs": [],
   "source": []
  },
  {
   "cell_type": "markdown",
   "metadata": {},
   "source": [
    " \n",
    "  - Determine the maximum mass for any five of the EOS available on stellarcollapse.org.\n",
    " "
   ]
  },
  {
   "cell_type": "code",
   "execution_count": null,
   "metadata": {},
   "outputs": [],
   "source": []
  },
  {
   "cell_type": "markdown",
   "metadata": {},
   "source": [
    " \n",
    "  - Make mass vs. radius plots for these same five EOS."
   ]
  },
  {
   "cell_type": "code",
   "execution_count": null,
   "metadata": {},
   "outputs": [],
   "source": []
  },
  {
   "cell_type": "code",
   "execution_count": null,
   "metadata": {},
   "outputs": [],
   "source": []
  }
 ],
 "metadata": {
  "kernelspec": {
   "display_name": "Python 3",
   "language": "python",
   "name": "python3"
  },
  "language_info": {
   "codemirror_mode": {
    "name": "ipython",
    "version": 3
   },
   "file_extension": ".py",
   "mimetype": "text/x-python",
   "name": "python",
   "nbconvert_exporter": "python",
   "pygments_lexer": "ipython3",
   "version": "3.6.6"
  }
 },
 "nbformat": 4,
 "nbformat_minor": 2
}
