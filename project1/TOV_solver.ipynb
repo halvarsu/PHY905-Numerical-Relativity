{
 "cells": [
  {
   "cell_type": "code",
   "execution_count": 1,
   "metadata": {},
   "outputs": [],
   "source": [
    "%load_ext autoreload\n",
    "%matplotlib inline\n",
    "%autoreload 2"
   ]
  },
  {
   "cell_type": "markdown",
   "metadata": {},
   "source": [
    "# Project 1\n",
    "Due March 12, 2019.\n",
    "\n",
    "For the midterm project, you will develop a Tolman-Oppenheimer-Volkov (TOV) solver to compute the hydrostatic structure of a relativistic neutron star. You will use this to determine the maximum masses of cold neutron stars (NSs) for several different equations of state (EOS).\n",
    "\n",
    "Your code should adhere to the course Coding Standards.\n",
    "\n",
    "  - Write a numerical solver for the spherically-symmetric TOV equations using a fourth-order Runge-Kutta integrator. Assume a polytropic EOS specified by $K$ and $\\gamma$. You may find these notes particularly helpful.\n",
    "  \n",
    "\\begin{align}\n",
    "\\frac{dm}{dr} &= 4\\pi r^2 \\rho \\\\\n",
    "\\frac{dP}{dr} &= -\\frac{\\rho m }{r^2}\\left ( 1 + \\frac{P}{\\rho}\\right ) \\left( 1 + \\frac{4\\pi P^3}{m} \\right ) \\left ( 1 - \\frac{2m}{r}\\right ) ^{-1}\\\\\n",
    "\\frac{d\\Phi}{dr} &= - \\frac{1}{\\rho} \\frac{dP}{dr}\\left( 1 + \\frac{P}{\\rho}\\right ) ^{-1}\n",
    "\\end{align}\n",
    "\n",
    "For a polytropic eos: $P = K \\rho_0^\\Gamma$, where $K$ is the polytropic gas constant and $n$ defined by $\\Gamma \\equiv 1 + 1/n$ is the polytropic index. We then have   $\\rho = \\rho_0 + P/(\\Gamma -1 )$  and $\\rho_0 \\epsilon = P/(\\Gamma -1 )$.\n",
    "   \n",
    "Below, constants are the corresponding barred ones."
   ]
  },
  {
   "cell_type": "code",
   "execution_count": 2,
   "metadata": {},
   "outputs": [],
   "source": [
    "from tov import *"
   ]
  },
  {
   "cell_type": "code",
   "execution_count": 3,
   "metadata": {
    "scrolled": false
   },
   "outputs": [
    {
     "name": "stderr",
     "output_type": "stream",
     "text": [
      "/home/halvard/uio/PHY905_NumericalRelativity/project1/tov.py:209: RuntimeWarning: invalid value encountered in double_scalars\n",
      "  return (P/self.K) ** (1/self._gamma)\n"
     ]
    },
    {
     "name": "stdout",
     "output_type": "stream",
     "text": [
      "2.4375144350725285e-31\n",
      "7.807083010105192e-31\n",
      "6.626073140304381e-31\n",
      "5.55681772004342e-31\n",
      "4.4693911015970774e-30\n",
      "9.297197991787412e-31\n",
      "1.2918647993780986e-30\n",
      "2.652955717257455e-31\n",
      "1.9723359166873597e-30\n",
      "2.7617361023090995e-30\n",
      "0.16151886459991324\n"
     ]
    },
    {
     "data": {
      "image/png": "[encoded data removed]",
      "text/plain": [
       "<matplotlib.figure.Figure at 0x7f39577cd0f0>"
      ]
     },
     "metadata": {
      "needs_background": "light"
     },
     "output_type": "display_data"
    }
   ],
   "source": [
    "test_star = PolytropeStar(gamma = 2)\n",
    "integrator = 'dopri5'\n",
    "\n",
    "for rhoc_bar in np.linspace(0.2, 0.6, 10):\n",
    "    test_star.set_initial_conditions(rhoc = rhoc_bar)\n",
    "    solver =  test_star.solve_star_ivp(integrator = integrator)\n",
    "    print(solver.y[1][-1])\n",
    "    plt.scatter(rhoc_bar, solver.y[0][-1], c='k')\n",
    "    plt.scatter(rhoc_bar, solver.y[3][-1], c='k')\n",
    "solver = test_star.set_initial_conditions(rhoc = 0.420).solve_star_ivp(\n",
    "                    integrator = integrator)\n",
    "print(solver.y[0][-1])\n",
    "plt.axvline(0.42)\n",
    "plt.axhline(0.164)\n",
    "plt.grid()"
   ]
  },
  {
   "cell_type": "code",
   "execution_count": 4,
   "metadata": {},
   "outputs": [
    {
     "name": "stdout",
     "output_type": "stream",
     "text": [
      "2.75\n"
     ]
    }
   ],
   "source": [
    "n = 4/7\n",
    "gamma = 1+1/n\n",
    "print(gamma)\n",
    "\n",
    "K = 30000 # in c = G = M_sun = 1"
   ]
  },
  {
   "cell_type": "markdown",
   "metadata": {},
   "source": [
    "    \n",
    "  - Determine the maximum mass of a cold NS for $K=30000$ (in $G=c=M_\\odot=1$ units) and $\\gamma=2.75$.\n",
    " "
   ]
  },
  {
   "cell_type": "code",
   "execution_count": 5,
   "metadata": {},
   "outputs": [],
   "source": [
    "gamma = 2.75\n",
    "n = 1/(gamma - 1)\n",
    "\n",
    "values = []\n",
    "\n",
    "N = 200\n",
    "for rhoc_bar in np.linspace(0.1, 1.8, N):\n",
    "    test_star = PolytropeStar(gamma).set_initial_conditions(rhoc = rhoc_bar)\n",
    "    solver = test_star.solve_star_ivp()\n",
    "\n",
    "    r = solver.t\n",
    "    M, P, Phi, M0 = solver.y\n",
    "    values.append([r[-1], M[-1], P[-1], Phi[-1], M0[-1], rhoc_bar])\n",
    "   "
   ]
  },
  {
   "cell_type": "code",
   "execution_count": 6,
   "metadata": {},
   "outputs": [
    {
     "data": {
      "text/latex": [
       "$$Ax=b$$"
      ],
      "text/plain": [
       "<IPython.core.display.Math object>"
      ]
     },
     "metadata": {},
     "output_type": "display_data"
    },
    {
     "name": "stdout",
     "output_type": "stream",
     "text": [
      "\n",
      "Maximum values for K = 30000, \\gamma = 2.75:\n",
      "     M_bar = 0.128\n",
      "     R     = 11.97  km\n",
      "     M     = 2.434 M_sun   \n",
      "     M_0   = 2.896 M_sun     \n",
      "     rho_c = 1.395e+15 g/cc      \n",
      "\n"
     ]
    },
    {
     "data": {
      "text/plain": [
       "Text(0.5,0,'Central density [g/cc]')"
      ]
     },
     "execution_count": 6,
     "metadata": {},
     "output_type": "execute_result"
    },
    {
     "data": {
      "image/png": "[encoded data removed]",
      "text/plain": [
       "<matplotlib.figure.Figure at 0x7f395032d9e8>"
      ]
     },
     "metadata": {
      "needs_background": "light"
     },
     "output_type": "display_data"
    }
   ],
   "source": [
    "K     = 30000      # C = G = M_sun = 1\n",
    "K_cgs = 1.98183e-6 # cgs\n",
    " \n",
    "radius, grav_mass, pressure, _, mass, rhoc_bar = np.array(values).T\n",
    "imax = np.argmax(grav_mass)\n",
    "\n",
    "M_max_sun = grav_mass[imax] * K**(n/2)\n",
    "\n",
    "length_conv  = 6.7706e-6\n",
    "density_conv = 1.6199e-18\n",
    "rhoc_cgs = rhoc_bar * K**(-n)/density_conv\n",
    "r_km     = radius * K**(n/2)/length_conv * 1e-5\n",
    "\n",
    "from IPython.display import display, Latex, Math\n",
    "display(Math(\"Ax=b\"))\n",
    "\n",
    "disp_string = r\"\"\"\n",
    "Maximum values for K = 30000, \\gamma = 2.75:\n",
    "     M_bar = {mbar:.3f}\n",
    "     R     = {r:.4g}  km\n",
    "     M     = {gm:.3f} M_sun   \n",
    "     M_0   = {bm:.3f} M_sun     \n",
    "     rho_c = {cd:.4g} g/cc      \n",
    "\"\"\".format(mbar = grav_mass[imax], r =  r_km[imax],\n",
    "           gm =  grav_mass[imax] * K**(n/2),\n",
    "           bm =  mass[imax] * K**(n/2), \n",
    "           cd =  rhoc_cgs[imax])\n",
    "\n",
    "print(disp_string)\n",
    "\n",
    "plt.scatter(rhoc_cgs[imax], grav_mass[imax] * K**(n/2), c = 'C0')\n",
    "plt.scatter(rhoc_cgs[imax], mass[imax]* K**(n/2), c = 'C1')\n",
    "\n",
    "plt.plot(rhoc_cgs, grav_mass* K**(n/2), '-', label = 'Gravitational')\n",
    "plt.plot(rhoc_cgs, mass* K**(n/2), '--', label = 'Baryonic')\n",
    "plt.legend()\n",
    "plt.ylabel('Mass [$M_{\\odot}$]')\n",
    "plt.xlabel('Central density [g/cc]')"
   ]
  },
  {
   "cell_type": "code",
   "execution_count": null,
   "metadata": {},
   "outputs": [],
   "source": []
  },
  {
   "cell_type": "markdown",
   "metadata": {},
   "source": [
    " \n",
    "  - Now, modify your code to use any arbitrary table-based EOS. Specifically, make your solver compatible with the EOS available on stellarcollapse.org. There is example code on that site in C++ and Fortran for reading and using the tables there, and working with the EOS tables is trivial in Python using h5py.\n",
    " "
   ]
  },
  {
   "cell_type": "markdown",
   "metadata": {},
   "source": [
    "Loading the HShen, there are some weird things with the temperature ranges of this one"
   ]
  },
  {
   "cell_type": "code",
   "execution_count": 7,
   "metadata": {},
   "outputs": [
    {
     "name": "stdout",
     "output_type": "stream",
     "text": [
      "['Abar', 'Meff', 'Xa', 'Xh', 'Xn', 'Xp', 'Zbar', 'cs2', 'dedt', 'dpderho', 'dpdrhoe', 'energy_shift', 'entropy', 'gamma', 'logenergy', 'logpress', 'logrho', 'logtemp', 'mu_e', 'mu_n', 'mu_p', 'muhat', 'munu', 'pointsrho', 'pointstemp', 'pointsye', 'timestamp', 'ye']\n"
     ]
    },
    {
     "name": "stderr",
     "output_type": "stream",
     "text": [
      "/home/halvard/anaconda3/lib/python3.6/site-packages/h5py/__init__.py:34: FutureWarning: Conversion of the second argument of issubdtype from `float` to `np.floating` is deprecated. In future, it will be treated as `np.float64 == np.dtype(float).type`.\n",
      "  from ._conv import register_converters as _register_converters\n"
     ]
    }
   ],
   "source": [
    "import h5py\n",
    "\n",
    "test = 'HShen_HyperonEOS_rho220_temp180_ye65_version_1.1_20131007.h5'\n",
    "ftest = h5py.File(test)\n",
    "print(list(ftest.keys()))\n"
   ]
  },
  {
   "cell_type": "code",
   "execution_count": 8,
   "metadata": {},
   "outputs": [],
   "source": [
    "def get_bounds(x):\n",
    "    return [np.min(x), np.max(x)]"
   ]
  },
  {
   "cell_type": "code",
   "execution_count": 9,
   "metadata": {},
   "outputs": [
    {
     "name": "stdout",
     "output_type": "stream",
     "text": [
      "log [3.0, 16.0] g/cm^3\n",
      "log [18.573418605725163, 37.161923489191174] MeV/fm^3\n",
      "log [0.01, 0.65]\n"
     ]
    }
   ],
   "source": [
    "print('log', get_bounds(ftest['logrho'][:]),   'g/cm^3')\n",
    "print('log', get_bounds(ftest['logpress'][:]), 'MeV/fm^3')\n",
    "print('log', get_bounds(ftest['ye'][:]))"
   ]
  },
  {
   "cell_type": "markdown",
   "metadata": {},
   "source": [
    "There are \n",
    "Table structures:\n",
    " - Temperature  \n",
    "$T$[MeV]$: -1.0\\leq \\log_{10}(T) \\leq 2.6$; mesh of $\\log_{10}(T) = 0.04$\n",
    " - Proton fraction  \n",
    "$Y_p: 0.01 \\leq Y_p \\leq 0.65$; mesh of $Y_p= 0.01$\n",
    " - Baryon mass density   \n",
    "$\\rho_B$[g/cm3]$: 5.1 \\leq \\log_{10}(\\rho_B) \\leq 16.0$; mesh of $\\log_{10}(\\rho_B) = 0.1$"
   ]
  },
  {
   "cell_type": "code",
   "execution_count": 10,
   "metadata": {},
   "outputs": [],
   "source": [
    "filename = 'Hempel_SFHoEOS_rho222_temp180_ye60_version_1.1_20120817.h5'"
   ]
  },
  {
   "cell_type": "code",
   "execution_count": 11,
   "metadata": {},
   "outputs": [
    {
     "name": "stdout",
     "output_type": "stream",
     "text": [
      "['Abar', 'X3he', 'X4li', 'Xa', 'Xd', 'Xh', 'Xn', 'Xp', 'Xt', 'Zbar', 'cs2', 'dedt', 'dpderho', 'dpdrhoe', 'energy_shift', 'entropy', 'gamma', 'logenergy', 'logpress', 'logrho', 'logtemp', 'mu_e', 'mu_n', 'mu_p', 'muhat', 'munu', 'pointsrho', 'pointstemp', 'pointsye', 'timestamp', 'ye']\n"
     ]
    }
   ],
   "source": [
    "f = h5py.File(filename, 'r')\n",
    "keys = list(f.keys())\n",
    "print(keys)"
   ]
  },
  {
   "cell_type": "markdown",
   "metadata": {},
   "source": [
    "# Figuring out the units"
   ]
  },
  {
   "cell_type": "code",
   "execution_count": 12,
   "metadata": {},
   "outputs": [
    {
     "name": "stdout",
     "output_type": "stream",
     "text": [
      "log [2.2202492, 15.500249] g/cm^3\n",
      "log [18.012309853651733, 36.70818475697236] MeV/fm^3\n"
     ]
    }
   ],
   "source": [
    "print('log', get_bounds(f['logrho'][:]),   'g/cm^3')\n",
    "print('log', get_bounds(f['logpress'][:]), 'MeV/fm^3')\n",
    "# print(get_bounds(f['log'][:]))"
   ]
  },
  {
   "cell_type": "code",
   "execution_count": 13,
   "metadata": {},
   "outputs": [
    {
     "data": {
      "text/plain": [
       "1.6199e-18"
      ]
     },
     "execution_count": 13,
     "metadata": {},
     "output_type": "execute_result"
    }
   ],
   "source": [
    "g_cm3 = 1.6199e-18\n",
    "g_cm3"
   ]
  },
  {
   "cell_type": "code",
   "execution_count": 14,
   "metadata": {},
   "outputs": [
    {
     "data": {
      "text/plain": [
       "1.6021766208000002e-06"
      ]
     },
     "execution_count": 14,
     "metadata": {},
     "output_type": "execute_result"
    }
   ],
   "source": [
    "from scipy.constants import erg, eV\n",
    "5.5953e-55 * erg / eV * 1e-6 # MeV\n",
    "a = 1 # MeV \n",
    "a * 1e6 * eV / erg #* 5.5953e-55 # correct units"
   ]
  },
  {
   "cell_type": "code",
   "execution_count": 15,
   "metadata": {},
   "outputs": [
    {
     "data": {
      "text/plain": [
       "1.8063e-39"
      ]
     },
     "execution_count": 15,
     "metadata": {},
     "output_type": "execute_result"
    }
   ],
   "source": [
    "MeVfm3 = 1.6021766e33 # dyne/cm2\n",
    "MeVfm3 = 1.6021766e33 * 1.8063e-39\n",
    "dyne_cm2 = 1\n",
    "# dyne_cm2_to_cgmsun = 1.8063e-39 * 1/1.6022e33\n",
    "dyne_cm2 * 1.8063e-39"
   ]
  },
  {
   "cell_type": "code",
   "execution_count": 20,
   "metadata": {},
   "outputs": [],
   "source": [
    "from scipy.interpolate import (interp1d, interp2d, \n",
    "                               griddata, BivariateSpline, \n",
    "                               LinearNDInterpolator)\n",
    "from scipy import optimize\n",
    "\n",
    "class TableStar(BaseStar):\n",
    "    def __init__(self, tablefile, scaling = {}, *args, **kwargs):\n",
    "        \"\"\"Assumes cold star, i.e minimal T. \n",
    "        \n",
    "        Scales to geometrized units c = G = M_sun = 1\n",
    "        \n",
    "        TODO:\n",
    "        convert the following from log to linear:\n",
    "            rho, pres, energy, munu?, \n",
    "        \"\"\"\n",
    "        BaseStar.__init__(self, *args, **kwargs)\n",
    "        self._allow_negative_pressure = False\n",
    "\n",
    "        f = h5py.File(tablefile, 'r')\n",
    "        self.file = f\n",
    "        \n",
    "        self.scaling = {}\n",
    "        \n",
    "        # default scaling is  c = G = M_sun = 1\n",
    "        default_scaling = {'pres'  : 1.8063e-39, # from dyn/cm^2\n",
    "                           'rho'   : 1.6199e-18, # from g/cm^3\n",
    "                           'energy': 1.11265005605e-21,  # from erg/g\n",
    "                           'munu'  : 8.96465885e-61 # from MeV\n",
    "                           # munu should be MeV/baryon\n",
    "                          }\n",
    "        default_scaling.update(scaling)\n",
    "        self.update_scaling(default_scaling)\n",
    "        \n",
    "        # self.T_ind = 0\n",
    "        self.ye_arr   = f['ye'][:] \n",
    "        self.rho_arr  = f['logrho'][:] + np.log10(self.scaling['rho'])\n",
    "        # temp_arr = f['logtemp'][:]\n",
    "        \n",
    "        self.energy_shift  = f['energy_shift'][0] * self.scaling['energy']\n",
    "\n",
    "        rho_grid, ye_grid  = np.meshgrid(self.rho_arr, self.ye_arr)\n",
    "        pres_values   = f['logpress'][:,0,:]  + np.log10(self.scaling['pres'])\n",
    "        munu_values   = f['munu'][:,0,:]      *          self.scaling['energy']\n",
    "        energy_values = f['logenergy'][:,0,:] + np.log10(self.scaling['energy'])\n",
    "        \n",
    "        self.ye_bounds   = (np.min(self.ye_arr),  np.max(self.ye_arr))\n",
    "        self.rho_bounds  = (np.min(self.rho_arr), np.max(self.rho_arr))\n",
    "        self.pres_bounds = (np.min(pres_values),  np.max(pres_values))\n",
    "        \n",
    "\n",
    "        ye_pres_points = np.column_stack([ye_grid.ravel(), pres_values.ravel()]),\n",
    "        ye_rho_points  = np.column_stack([ye_grid.ravel(), rho_grid.ravel()]),\n",
    "        \n",
    "            \n",
    "        self.rho_interp       = LinearNDInterpolator(ye_pres_points, rho_grid.ravel(), )\n",
    "                                                     #fill_value = np.inf)\n",
    "        self.pres_interp      = LinearNDInterpolator(ye_rho_points, pres_values.ravel(),)\n",
    "                                                    #fill_value = np.inf)\n",
    "        self.energy_interp    = LinearNDInterpolator(ye_rho_points, energy_values.ravel(),)\n",
    "                                                    #fill_value = np.inf)\n",
    "        self.munu_interp_rho  = LinearNDInterpolator(ye_rho_points, munu_values.ravel(),)\n",
    "                                                    #fill_value = np.inf)\n",
    "        self.munu_interp_pres = LinearNDInterpolator(ye_pres_points, munu_values.ravel(),)\n",
    "                                                    #fill_value = np.inf)\n",
    "        \n",
    "        # self.rho_interp_lin_scaled = lambda points: rho_scale*10**self.rho_interp(points)\n",
    "        \n",
    "    def update_scaling(self, new_scaling):\n",
    "        \"\"\"update scaling constant dict.\n",
    "        \n",
    "        Original units:\n",
    "        rho:    g/cm3   \n",
    "        pres:   MeV/fm3\n",
    "        energy: MeV\n",
    "        munu':  MeV\n",
    "        \"\"\"\n",
    "        self.scaling.update(new_scaling) \n",
    "        \n",
    "    def check_in_bounds(self, val, val_type):\n",
    "        if val_type == 'rho':\n",
    "            bounds = self.rho_bounds\n",
    "        elif val_type == 'pres':\n",
    "            bounds = self.pres_bounds\n",
    "        elif val_type == 'ye':\n",
    "            bounds = self.ye_bounds\n",
    "        else:\n",
    "            raise ValueError('Invalid val_type, %s' %val_type)\n",
    "        if not ((val < bounds[1]) and (val > bounds[0])):\n",
    "            raise ValueError(\"Value '%s' out of bounds. %.3f not in interval [%.3f, %.2f]\" % (val_type, val, bounds[0], bounds[1]))\n",
    "        \n",
    "        \n",
    "    def energy(self, ye, rho):\n",
    "        logrho = np.log10(rho)\n",
    "        return 10**self.energy_interp(ye, logrho) - self.energy_shift\n",
    "    \n",
    "        \n",
    "    def munu(self, ye, val, val_type):\n",
    "        \"\"\"Returns value of munu either from pressure or from density, based on val_type argument\"\"\"\n",
    "        self.check_in_bounds(val, val_type)\n",
    "        if val_type == 'rho':\n",
    "            return self.munu_interp_rho([ye, val])[0]\n",
    "        elif val_type == 'pres':\n",
    "            return self.munu_interp_pres([ye, val])[0]\n",
    "        else:\n",
    "            raise ValueError(\"val_type must be either 'rho' or 'pres'\")\n",
    "        \n",
    "    def P(self, rho):\n",
    "        a, b = self.ye_bounds\n",
    "        logrho = np.log10(rho)\n",
    "        res = optimize.bisect(self.munu, a = a, b = b, args=(logrho, 'rho'), )\n",
    "                                   #method = 'brentq', bracket = self.ye_bounds)\n",
    "        self.current_ye = res\n",
    "        return 10**self.pres_interp(self.current_ye, logrho)\n",
    "    \n",
    "    def rho(self, P):\n",
    "        a, b = self.ye_bounds\n",
    "        logP = np.log10(P)\n",
    "        res = optimize.bisect(self.munu, a = a, b = b,  args=(logP, 'pres'), )\n",
    "                                   #method = 'brentq',bracket = self.ye_bounds)\n",
    "        self.current_ye = res\n",
    "        return 10**self.rho_interp(self.current_ye, logP)\n",
    "    \n",
    "    def rho0(self, P, rho = None):\n",
    "        \"\"\"Uses P as is, no convert to log\"\"\"\n",
    "        rho = rho or self.rho(P)\n",
    "        eps = self.energy(self.current_ye, rho)\n",
    "        return rho / (1 + eps)\n",
    "    \n",
    "    def get_pressure_event(self):\n",
    "        \"\"\"Passed to solver for termination when is pressure 0.\"\"\"\n",
    "        def pressure_event(t, y):\n",
    "            print(y)\n",
    "            if np.isnan(y[1]):\n",
    "                return -1\n",
    "            else:\n",
    "                return y[1] # - 10**self.pres_bounds[0]\n",
    "        pressure_event.terminal = True\n",
    "        return pressure_event\n",
    "\n"
   ]
  },
  {
   "cell_type": "code",
   "execution_count": 16,
   "metadata": {},
   "outputs": [],
   "source": [
    "from tov import TableStar"
   ]
  },
  {
   "cell_type": "code",
   "execution_count": 17,
   "metadata": {},
   "outputs": [
    {
     "name": "stdout",
     "output_type": "stream",
     "text": [
      "Hempel_SFHoEOS_rho222_temp180_ye60_version_1.1_20120817.h5\n"
     ]
    }
   ],
   "source": [
    "print(filename)"
   ]
  },
  {
   "cell_type": "markdown",
   "metadata": {},
   "source": [
    "### Testing speed of different integrators"
   ]
  },
  {
   "cell_type": "code",
   "execution_count": 20,
   "metadata": {},
   "outputs": [
    {
     "name": "stdout",
     "output_type": "stream",
     "text": [
      "initiating\n",
      "solving with %s 0.7374773025512695\n"
     ]
    },
    {
     "name": "stderr",
     "output_type": "stream",
     "text": [
      "/home/halvard/anaconda3/lib/python3.6/site-packages/scipy/integrate/_ode.py:1177: UserWarning: dop853: step size becomes too small\n",
      "  self.messages.get(istate, unexpected_istate_msg)))\n",
      "/home/halvard/uio/PHY905_NumericalRelativity/project1/tov.py:193: UserWarning: Something went wrong in the integration, and we need a better error message\n",
      "  y = np.array(y)\n"
     ]
    },
    {
     "name": "stdout",
     "output_type": "stream",
     "text": [
      "time use:  16.461929321289062\n",
      "initiating\n",
      "solving with %s 0.7244341373443604\n"
     ]
    },
    {
     "name": "stderr",
     "output_type": "stream",
     "text": [
      "/home/halvard/anaconda3/lib/python3.6/site-packages/scipy/integrate/_ode.py:1177: UserWarning: dopri5: step size becomes too small\n",
      "  self.messages.get(istate, unexpected_istate_msg)))\n"
     ]
    },
    {
     "name": "stdout",
     "output_type": "stream",
     "text": [
      "time use:  4.800878047943115\n",
      "initiating\n",
      "solving with %s 0.7089309692382812\n"
     ]
    },
    {
     "name": "stderr",
     "output_type": "stream",
     "text": [
      "/home/halvard/anaconda3/lib/python3.6/site-packages/scipy/integrate/_ode.py:1009: UserWarning: vode: Repeated convergence failures. (Perhaps bad Jacobian supplied or wrong choice of MF or tolerances.)\n",
      "  self.messages.get(istate, unexpected_istate_msg)))\n"
     ]
    },
    {
     "name": "stdout",
     "output_type": "stream",
     "text": [
      "time use:  4.938875913619995\n",
      "initiating\n",
      "solving with %s 0.7105073928833008\n",
      "time use:  8.59129810333252\n"
     ]
    },
    {
     "data": {
      "image/png": "[encoded data removed]",
      "text/plain": [
       "<matplotlib.figure.Figure at 0x7f394ca87f98>"
      ]
     },
     "metadata": {
      "needs_background": "light"
     },
     "output_type": "display_data"
    }
   ],
   "source": [
    "import time\n",
    "# rhoc = 3e15 * 1.6199e-18\n",
    "for integrator in [\"dop853\",\"dopri5\",\"vode\",\"lsoda\"]:\n",
    "    start1 = time.time()\n",
    "    print('initiating')\n",
    "    test = TableStar(filename).set_initial_conditions(rhoc = 10**-3)\n",
    "    start = time.time()\n",
    "    print('solving with %s' % 10**-3, (start - start1))\n",
    "    solver, r_values, values = test.solve_star_ode(Nr = 100, integrator = integrator)\n",
    "    stop = time.time()\n",
    "    print('time use: ', stop - start)\n",
    "\n",
    "    plt.plot(r_values)#, solver.y[1])"
   ]
  },
  {
   "cell_type": "markdown",
   "metadata": {},
   "source": [
    "# compare solver stability"
   ]
  },
  {
   "cell_type": "code",
   "execution_count": 67,
   "metadata": {
    "collapsed": true
   },
   "outputs": [
    {
     "name": "stdout",
     "output_type": "stream",
     "text": [
      "dop853\n",
      "100\n"
     ]
    },
    {
     "name": "stderr",
     "output_type": "stream",
     "text": [
      "/home/halvard/anaconda3/lib/python3.6/site-packages/scipy/integrate/_ode.py:1177: UserWarning: dop853: step size becomes too small\n",
      "  self.messages.get(istate, unexpected_istate_msg)))\n"
     ]
    },
    {
     "name": "stdout",
     "output_type": "stream",
     "text": [
      "125\n",
      "150\n",
      "175\n",
      "200\n",
      "dopri5\n",
      "100\n",
      "125\n",
      "150\n",
      "175\n",
      "200\n",
      "vode\n",
      "100\n"
     ]
    },
    {
     "name": "stderr",
     "output_type": "stream",
     "text": [
      "/home/halvard/anaconda3/lib/python3.6/site-packages/scipy/integrate/_ode.py:1009: UserWarning: vode: Repeated convergence failures. (Perhaps bad Jacobian supplied or wrong choice of MF or tolerances.)\n",
      "  self.messages.get(istate, unexpected_istate_msg)))\n"
     ]
    },
    {
     "name": "stdout",
     "output_type": "stream",
     "text": [
      "125\n",
      "150\n",
      "175\n",
      "200\n",
      "lsoda\n",
      "100\n",
      "125\n",
      "150\n",
      "175\n",
      "200\n"
     ]
    }
   ],
   "source": [
    "test = TableStar(filename).set_initial_conditions(rhoc = 10**-3.2)\n",
    "\n",
    "Nr_values = np.linspace(100, 200, 5, dtype = np.int64)\n",
    "t_v = {}\n",
    "y_v = {}\n",
    "integrator = 'dopri5'\n",
    "for integrator in [\"dop853\",\"dopri5\",\"vode\",\"lsoda\"]:\n",
    "    print(integrator)\n",
    "    t_v[integrator] = []\n",
    "    y_v[integrator] = []\n",
    "\n",
    "    for Nr in Nr_values:\n",
    "        print(Nr)\n",
    "        solver, t1, y1 = test.solve_star_ode(Nr = Nr, integrator = integrator)\n",
    "        t_v[integrator].append(t1[-1])\n",
    "        y_v[integrator].append(y1[-1])"
   ]
  },
  {
   "cell_type": "code",
   "execution_count": 96,
   "metadata": {},
   "outputs": [
    {
     "data": {
      "text/plain": [
       "<matplotlib.legend.Legend at 0x7f3949397898>"
      ]
     },
     "execution_count": 96,
     "metadata": {},
     "output_type": "execute_result"
    },
    {
     "data": {
      "image/png": "[encoded data removed]",
      "text/plain": [
       "<matplotlib.figure.Figure at 0x7f39493970f0>"
      ]
     },
     "metadata": {
      "needs_background": "light"
     },
     "output_type": "display_data"
    }
   ],
   "source": [
    "to_km = 1e-5/6.7706e-6\n",
    "\n",
    "for integrator in [\"dop853\",\"dopri5\",\"vode\",\"lsoda\"]:\n",
    "    plt.plot(Nr_values, np.array(t_v[integrator]) * to_km, label = integrator)\n",
    "plt.xlabel('Nr')\n",
    "plt.ylabel('Radius [km]')\n",
    "plt.legend()"
   ]
  },
  {
   "cell_type": "code",
   "execution_count": 89,
   "metadata": {},
   "outputs": [
    {
     "data": {
      "text/plain": [
       "<matplotlib.legend.Legend at 0x7f394c7cc6d8>"
      ]
     },
     "execution_count": 89,
     "metadata": {},
     "output_type": "execute_result"
    },
    {
     "data": {
      "image/png": "[encoded data removed]",
      "text/plain": [
       "<matplotlib.figure.Figure at 0x7f394c7ccb38>"
      ]
     },
     "metadata": {
      "needs_background": "light"
     },
     "output_type": "display_data"
    }
   ],
   "source": [
    "for integrator in [\"dop853\",\"dopri5\",\"vode\",\"lsoda\"]:\n",
    "\n",
    "    plt.plot(Nr_values, np.array(y_v[integrator])[:,0], label = integrator)\n",
    "plt.title('Mass')\n",
    "plt.legend()"
   ]
  },
  {
   "cell_type": "markdown",
   "metadata": {},
   "source": [
    "# Test dopri5 for low values of Nr"
   ]
  },
  {
   "cell_type": "code",
   "execution_count": 116,
   "metadata": {},
   "outputs": [
    {
     "name": "stdout",
     "output_type": "stream",
     "text": [
      "50\n"
     ]
    },
    {
     "name": "stderr",
     "output_type": "stream",
     "text": [
      "/home/halvard/uio/PHY905_NumericalRelativity/project1/tov.py:185: UserWarning: Something went wrong in the integration, and we need a better error message\n",
      "  continue\n"
     ]
    },
    {
     "name": "stdout",
     "output_type": "stream",
     "text": [
      "100\n",
      "150\n",
      "200\n",
      "250\n"
     ]
    }
   ],
   "source": [
    "test = TableStar(filename).set_initial_conditions(rhoc = 10**-3.2)\n",
    "\n",
    "Nr_values = np.linspace(50, 250, 5, dtype = np.int64)\n",
    "t_dp5 = []\n",
    "y_dp5 = []\n",
    "integrator = 'dopri5'\n",
    "\n",
    "for Nr in Nr_values:\n",
    "    print(Nr)\n",
    "    solver, t1, y1 = test.solve_star_ode(Nr = Nr, integrator = integrator)\n",
    "    t_dp5.append(t1[-1])\n",
    "    y_dp5.append(y1[-1])"
   ]
  },
  {
   "cell_type": "code",
   "execution_count": 117,
   "metadata": {},
   "outputs": [
    {
     "data": {
      "text/plain": [
       "[<matplotlib.lines.Line2D at 0x7f3948c8fcc0>]"
      ]
     },
     "execution_count": 117,
     "metadata": {},
     "output_type": "execute_result"
    },
    {
     "data": {
      "image/png": "[encoded data removed]",
      "text/plain": [
       "<matplotlib.figure.Figure at 0x7f3949537ac8>"
      ]
     },
     "metadata": {
      "needs_background": "light"
     },
     "output_type": "display_data"
    }
   ],
   "source": [
    "plt.plot(t1, y1[:,0])"
   ]
  },
  {
   "cell_type": "code",
   "execution_count": 118,
   "metadata": {},
   "outputs": [
    {
     "data": {
      "text/plain": [
       "[<matplotlib.lines.Line2D at 0x7f3948bf8198>]"
      ]
     },
     "execution_count": 118,
     "metadata": {},
     "output_type": "execute_result"
    },
    {
     "data": {
      "image/png": "[encoded data removed]",
      "text/plain": [
       "<matplotlib.figure.Figure at 0x7f3948c6b128>"
      ]
     },
     "metadata": {
      "needs_background": "light"
     },
     "output_type": "display_data"
    }
   ],
   "source": [
    "plt.plot(t_dp5)"
   ]
  },
  {
   "cell_type": "code",
   "execution_count": 105,
   "metadata": {},
   "outputs": [
    {
     "data": {
      "text/plain": [
       "[<matplotlib.lines.Line2D at 0x7f39417e2780>]"
      ]
     },
     "execution_count": 105,
     "metadata": {},
     "output_type": "execute_result"
    },
    {
     "data": {
      "image/png": "[encoded data removed]",
      "text/plain": [
       "<matplotlib.figure.Figure at 0x7f3941852be0>"
      ]
     },
     "metadata": {
      "needs_background": "light"
     },
     "output_type": "display_data"
    }
   ],
   "source": [
    "plt.plot(np.array(y_dp5)[:,0])"
   ]
  },
  {
   "cell_type": "code",
   "execution_count": 35,
   "metadata": {},
   "outputs": [
    {
     "name": "stdout",
     "output_type": "stream",
     "text": [
      "initiating\n",
      "solving with 0.005 0.7888872623443604\n",
      "8.1447937837847615e-22 4.3453243731683835e-22\n"
     ]
    },
    {
     "name": "stderr",
     "output_type": "stream",
     "text": [
      "/home/halvard/uio/PHY905_NumericalRelativity/project1/tov.py:194: UserWarning: Something went wrong in the integration, and we need a better error message\n",
      "  return solver, t, y\n"
     ]
    },
    {
     "name": "stdout",
     "output_type": "stream",
     "text": [
      "solving with 0.004 0.7888872623443604\n",
      "7.259055100704064e-22 4.2176419113473224e-22\n",
      "time use:  15.809332609176636\n"
     ]
    },
    {
     "data": {
      "text/plain": [
       "[<matplotlib.lines.Line2D at 0x7f394bead240>]"
      ]
     },
     "execution_count": 35,
     "metadata": {},
     "output_type": "execute_result"
    },
    {
     "data": {
      "image/png": "[encoded data removed]",
      "text/plain": [
       "<matplotlib.figure.Figure at 0x7f39502d76a0>"
      ]
     },
     "metadata": {
      "needs_background": "light"
     },
     "output_type": "display_data"
    }
   ],
   "source": [
    "import time\n",
    "Nr = 200\n",
    "# r_max = \n",
    "\n",
    "start1 = time.time()\n",
    "print('initiating')\n",
    "rhoc = 10**-2.30\n",
    "test = TableStar(filename).set_initial_conditions(rhoc = rhoc)\n",
    "start = time.time()\n",
    "print('solving with %.3f'%rhoc, start - start1)\n",
    "solver, t1, y1 = test.solve_star_ode(Nr = 200, integrator = 'vode')\n",
    "\n",
    "rhoc = 10**-2.35\n",
    "print('solving with %.3f'%rhoc, start - start1)\n",
    "test.set_initial_conditions(rhoc = rhoc)\n",
    "solver, t2, y2 = test.solve_star_ode(Nr = 200, integrator = 'vode')\n",
    "stop = time.time()\n",
    "print('time use: ', stop - start)\n",
    "\n",
    "plt.plot(t1)#, solver.y[1])\n",
    "plt.plot(t2)#, solver.y[1])"
   ]
  },
  {
   "cell_type": "markdown",
   "metadata": {},
   "source": [
    "### Edges looks like this"
   ]
  },
  {
   "cell_type": "code",
   "execution_count": 23,
   "metadata": {},
   "outputs": [
    {
     "data": {
      "text/plain": [
       "[35, 45, 6, 7.5]"
      ]
     },
     "execution_count": 23,
     "metadata": {},
     "output_type": "execute_result"
    },
    {
     "data": {
      "image/png": "[encoded data removed]",
      "text/plain": [
       "<matplotlib.figure.Figure at 0x7f394c54d9b0>"
      ]
     },
     "metadata": {
      "needs_background": "light"
     },
     "output_type": "display_data"
    }
   ],
   "source": [
    "plt.plot(t1)#, solver.y[1])\n",
    "plt.plot(t2)#, solver.y[1])\n",
    "plt.axis([35,45,6,7.5])"
   ]
  },
  {
   "cell_type": "code",
   "execution_count": 28,
   "metadata": {},
   "outputs": [],
   "source": [
    "# plt.semilogy(t1, y1[:, 1], label = 'pressure, $\\rho_c = 10^-{2.3}$')\n",
    "# plt.semilogy(t2, y2[:, 1], label = 'pressure, $\\rho_c = 10^-{2.35}$')\n",
    "# plt.axhline(10**test.pres_bounds[0], 'pressure lower bound')\n",
    "# plt.legend()"
   ]
  },
  {
   "cell_type": "code",
   "execution_count": 31,
   "metadata": {},
   "outputs": [
    {
     "name": "stdout",
     "output_type": "stream",
     "text": [
      "(-15.570262594586174, -2.290262794586173)\n",
      "-3.3\n"
     ]
    },
    {
     "name": "stderr",
     "output_type": "stream",
     "text": [
      "/home/halvard/anaconda3/lib/python3.6/site-packages/scipy/integrate/_ode.py:1009: UserWarning: vode: Repeated convergence failures. (Perhaps bad Jacobian supplied or wrong choice of MF or tolerances.)\n",
      "  self.messages.get(istate, unexpected_istate_msg)))\n",
      "/home/halvard/uio/PHY905_NumericalRelativity/project1/tov.py:193: UserWarning: Something went wrong in the integration, and we need a better error message\n",
      "  y = np.array(y)\n"
     ]
    },
    {
     "name": "stdout",
     "output_type": "stream",
     "text": [
      "-3.27939387755102\n",
      "-3.2587877551020408\n",
      "-3.238181632653061\n",
      "-3.2175755102040813\n",
      "-3.196969387755102\n",
      "-3.1763632653061222\n",
      "-3.1557571428571425\n",
      "-3.135151020408163\n",
      "-3.1145448979591834\n",
      "-3.0939387755102037\n",
      "-3.0733326530612244\n",
      "-3.0527265306122446\n",
      "-3.032120408163265\n",
      "-3.0115142857142856\n",
      "-2.990908163265306\n",
      "-2.9703020408163265\n",
      "-2.949695918367347\n",
      "-2.929089795918367\n",
      "-2.9084836734693873\n",
      "-2.887877551020408\n",
      "-2.8672714285714282\n",
      "-2.846665306122449\n",
      "-2.826059183673469\n",
      "-2.8054530612244895\n",
      "-2.7848469387755097\n",
      "-2.7642408163265304\n",
      "-2.7436346938775507\n",
      "-2.7230285714285714\n",
      "-2.7024224489795916\n",
      "-2.681816326530612\n",
      "-2.6612102040816326\n",
      "-2.640604081632653\n",
      "-2.619997959183673\n",
      "-2.5993918367346938\n",
      "-2.578785714285714\n",
      "-2.5581795918367343\n",
      "-2.537573469387755\n",
      "-2.516967346938775\n",
      "-2.496361224489796\n",
      "-2.475755102040816\n",
      "-2.4551489795918364\n",
      "-2.4345428571428567\n",
      "-2.4139367346938774\n",
      "-2.3933306122448976\n",
      "-2.3727244897959183\n",
      "-2.3521183673469386\n",
      "-2.331512244897959\n",
      "-2.310906122448979\n",
      "-2.2903\n"
     ]
    },
    {
     "data": {
      "text/plain": [
       "<matplotlib.legend.Legend at 0x7f394be4eb70>"
      ]
     },
     "execution_count": 31,
     "metadata": {},
     "output_type": "execute_result"
    },
    {
     "data": {
      "image/png": "[encoded data removed]",
      "text/plain": [
       "<matplotlib.figure.Figure at 0x7f394beb4be0>"
      ]
     },
     "metadata": {
      "needs_background": "light"
     },
     "output_type": "display_data"
    }
   ],
   "source": [
    "fig,[ax1,ax2] = plt.subplots(1,2)\n",
    "\n",
    "final_values = []\n",
    "integrator = 'vode'\n",
    "Nr = 200\n",
    "\n",
    "\n",
    "star = TableStar(filename)\n",
    "\n",
    "print(test.rho_bounds)\n",
    "#for logrhoc in np.linspace(-3.3, -2.2903, 30):\n",
    "for logrhoc in np.linspace(-3.3, -2.2903, 50):\n",
    "    print(logrhoc)\n",
    "    star.set_initial_conditions(rhoc = 10**logrhoc)\n",
    "    solver, t, y = star.solve_star_ode(integrator = integrator, Nr = Nr)\n",
    "    \n",
    "    last_pos = -1 # Edge finding ensures last position at pressure < tol\n",
    "    final_values.append([logrhoc, t[last_pos]] + list(y[last_pos]))\n",
    "    \n",
    "    ax1.semilogy(t, y[:, 1], label = 'logrhoc {:.2f}'.format(logrhoc))\n",
    "    ax2.scatter(logrhoc, y[last_pos, 0])\n",
    "ax1.legend()\n",
    "# rhoc = 3e15 * 1.6199e-18\n",
    "# test = TableStar(filename).set_initial_conditions(rhoc = rhoc)"
   ]
  },
  {
   "cell_type": "code",
   "execution_count": 32,
   "metadata": {},
   "outputs": [
    {
     "name": "stdout",
     "output_type": "stream",
     "text": [
      "0.33853\n"
     ]
    }
   ],
   "source": [
    "rho, r_values, m_values, P_values, phi_values, M0_values = np.array(final_values).T\n",
    "print(star.r_max/100)"
   ]
  },
  {
   "cell_type": "code",
   "execution_count": 33,
   "metadata": {},
   "outputs": [
    {
     "data": {
      "text/plain": [
       "Text(0,0.5,'Mass [$M_\\\\odot$]')"
      ]
     },
     "execution_count": 33,
     "metadata": {},
     "output_type": "execute_result"
    },
    {
     "data": {
      "image/png": "[encoded data removed]",
      "text/plain": [
       "<matplotlib.figure.Figure at 0x7f394bc74668>"
      ]
     },
     "metadata": {
      "needs_background": "light"
     },
     "output_type": "display_data"
    }
   ],
   "source": [
    "to_km = 1e-5/6.7706e-6\n",
    "\n",
    "plt.plot(to_km*r_values, m_values, label = 'gravitational')\n",
    "plt.plot(to_km*r_values, M0_values, label = 'baryonic')\n",
    "plt.legend()\n",
    "plt.xlabel('Radius [km]')\n",
    "plt.ylabel(r'Mass [$M_\\odot$]')"
   ]
  },
  {
   "cell_type": "code",
   "execution_count": 34,
   "metadata": {},
   "outputs": [
    {
     "data": {
      "image/png": "[encoded data removed]",
      "text/plain": [
       "<matplotlib.figure.Figure at 0x7f395039e2b0>"
      ]
     },
     "metadata": {
      "needs_background": "light"
     },
     "output_type": "display_data"
    }
   ],
   "source": [
    "plt.plot(rho, m_values, label = 'gravitational')\n",
    "plt.plot(rho, M0_values, label = 'baryonic')\n",
    "plt.legend()\n",
    "plt.xlabel(r'$\\log \\rho$ [g/cm^3]')\n",
    "plt.ylabel(r'Mass [$M_\\odot$]')\n",
    "plt.grid()"
   ]
  },
  {
   "cell_type": "code",
   "execution_count": 43,
   "metadata": {},
   "outputs": [
    {
     "data": {
      "image/png": "[encoded data removed]",
      "text/plain": [
       "<matplotlib.figure.Figure at 0x7f394c376748>"
      ]
     },
     "metadata": {
      "needs_background": "light"
     },
     "output_type": "display_data"
    }
   ],
   "source": [
    "plt.plot(rho, r_values)\n",
    "plt.grid()"
   ]
  },
  {
   "cell_type": "code",
   "execution_count": null,
   "metadata": {},
   "outputs": [],
   "source": [
    "np.log10(3e15 * 1.6199e-18)"
   ]
  },
  {
   "cell_type": "code",
   "execution_count": null,
   "metadata": {},
   "outputs": [],
   "source": [
    "rho_arr = test.rho_arr\n",
    "np.min(rho_arr)"
   ]
  },
  {
   "cell_type": "code",
   "execution_count": null,
   "metadata": {},
   "outputs": [],
   "source": [
    "a, b  = test.ye_bounds\n",
    "print(test.pres_bounds)\n",
    "print(test.rho_bounds)\n",
    "test.pres_interp(a, -15), test.pres_interp(b, -13)"
   ]
  },
  {
   "cell_type": "code",
   "execution_count": null,
   "metadata": {},
   "outputs": [],
   "source": [
    "test.ye_bounds"
   ]
  },
  {
   "cell_type": "code",
   "execution_count": null,
   "metadata": {},
   "outputs": [],
   "source": []
  },
  {
   "cell_type": "code",
   "execution_count": null,
   "metadata": {},
   "outputs": [],
   "source": []
  },
  {
   "cell_type": "code",
   "execution_count": null,
   "metadata": {},
   "outputs": [],
   "source": [
    "def f(x):\n",
    "    return -x\n",
    "from scipy.integrate import ode \n",
    "\n",
    "solver = ode(f)\n",
    "\n",
    " \n",
    "prev_t = 0\n",
    "prev_y = 1\n",
    "solver.set_initial_value(prev_y,prev_t)\n",
    "dx = 0.1\n",
    "for i in range(20):\n",
    "    if i == 10:\n",
    "        solver.set_initial_value(prev_y, 0)\n",
    "        print(solver.y, prev_y)\n",
    "        \n",
    "    plt.scatter(solver.t, solver.y, c ='k')\n",
    "        \n",
    "    solver.integrate(solver.t + dx)\n",
    "    prev_t = solver.t\n",
    "    prev_y = solver.y"
   ]
  },
  {
   "cell_type": "code",
   "execution_count": null,
   "metadata": {},
   "outputs": [],
   "source": []
  },
  {
   "cell_type": "code",
   "execution_count": null,
   "metadata": {},
   "outputs": [],
   "source": [
    "dir(solver)"
   ]
  },
  {
   "cell_type": "code",
   "execution_count": null,
   "metadata": {},
   "outputs": [],
   "source": [
    "\n",
    "test.P(test.rhoc)\n",
    "[(test.P(v),v) for v in np.logspace(-10,1,11)]"
   ]
  },
  {
   "cell_type": "code",
   "execution_count": null,
   "metadata": {},
   "outputs": [],
   "source": []
  },
  {
   "cell_type": "code",
   "execution_count": null,
   "metadata": {},
   "outputs": [],
   "source": []
  },
  {
   "cell_type": "code",
   "execution_count": null,
   "metadata": {},
   "outputs": [],
   "source": [
    "test.solve_star()"
   ]
  },
  {
   "cell_type": "code",
   "execution_count": null,
   "metadata": {},
   "outputs": [],
   "source": [
    "T_arr = np.array(f['logtemp'])\n",
    "ye_arr = np.array(f['ye'])\n",
    "rho_arr = np.array(f['logrho'])\n",
    "\n",
    "rho_grid, ye_grid = np.meshgrid(rho_arr, ye_arr)\n",
    "pres_values = f['logpress'][:,0,:]\n",
    "munu_values = f['munu'][:,0,:]\n",
    "\n",
    "\n",
    "ye_pres_points = np.column_stack([ye_grid.ravel(), pres_values.ravel()]),\n",
    "ye_rho_points  = np.column_stack([ye_grid.ravel(), rho_grid.ravel()]),\n",
    "\n",
    "rho_interp  = LinearNDInterpolator(ye_pres_points, rho_grid.ravel())\n",
    "pres_interp = LinearNDInterpolator(ye_rho_points, pres_values.ravel())\n",
    "munu_interp = LinearNDInterpolator(ye_rho_points, munu_values.ravel())"
   ]
  },
  {
   "cell_type": "code",
   "execution_count": null,
   "metadata": {},
   "outputs": [],
   "source": [
    "func3 = lambda ye, P : munu_interp([ye, P])\n",
    "ye_bounds = [np.min(ye_arr), np.max(ye_arr)]\n",
    "res = optimize.root_scalar(func3, method = 'brentq', args=(P), bracket = ye_bounds)\n",
    "res"
   ]
  },
  {
   "cell_type": "code",
   "execution_count": null,
   "metadata": {},
   "outputs": [],
   "source": [
    "? optimize.fsolve"
   ]
  },
  {
   "cell_type": "code",
   "execution_count": null,
   "metadata": {},
   "outputs": [],
   "source": []
  },
  {
   "cell_type": "code",
   "execution_count": null,
   "metadata": {},
   "outputs": [],
   "source": [
    "rho_interp = interp2d(ye_grid, pres_values, rho_grid)\n",
    "\n",
    "pres_interp = interp2d(ye_grid, rho_grid, pres_values)"
   ]
  },
  {
   "cell_type": "code",
   "execution_count": null,
   "metadata": {},
   "outputs": [],
   "source": []
  },
  {
   "cell_type": "code",
   "execution_count": null,
   "metadata": {},
   "outputs": [],
   "source": [
    "# rho_interp(0.4, 20)\n",
    "pres_interp([0.4, 0.7], [4, 5])"
   ]
  },
  {
   "cell_type": "code",
   "execution_count": null,
   "metadata": {},
   "outputs": [],
   "source": [
    "?pres_interp"
   ]
  },
  {
   "cell_type": "code",
   "execution_count": null,
   "metadata": {},
   "outputs": [],
   "source": [
    "a = pres_interp(ye_grid.ravel(), pres_values.ravel())"
   ]
  },
  {
   "cell_type": "code",
   "execution_count": null,
   "metadata": {},
   "outputs": [],
   "source": [
    "np.isclose(a, pres_values)"
   ]
  },
  {
   "cell_type": "code",
   "execution_count": null,
   "metadata": {},
   "outputs": [],
   "source": [
    "rho_interp(0.4, 20)"
   ]
  },
  {
   "cell_type": "code",
   "execution_count": null,
   "metadata": {},
   "outputs": [],
   "source": [
    "%timeit rho_interp(0.4, 20)"
   ]
  },
  {
   "cell_type": "code",
   "execution_count": null,
   "metadata": {},
   "outputs": [],
   "source": []
  },
  {
   "cell_type": "code",
   "execution_count": null,
   "metadata": {},
   "outputs": [],
   "source": [
    "rho_shaped = rho_values.reshape(pres_grid.shape)"
   ]
  },
  {
   "cell_type": "code",
   "execution_count": null,
   "metadata": {},
   "outputs": [],
   "source": [
    "valid_cols = ~np.any(np.isnan(rho_values.reshape(pres_grid.shape)), axis = 0)\n",
    "rho_valid = rho_shaped[:,valid_cols]\n",
    "\n",
    "plt.imshow(rho_shaped[:,valid_cols])"
   ]
  },
  {
   "cell_type": "code",
   "execution_count": null,
   "metadata": {},
   "outputs": [],
   "source": [
    "grid_reshaped = grid.reshape(list(pres_grid.shape)+[-1])\n",
    "plt.pcolormesh(grid_reshaped[:,:,0], grid_reshaped[:,:,1], rho_shaped)"
   ]
  },
  {
   "cell_type": "code",
   "execution_count": null,
   "metadata": {},
   "outputs": [],
   "source": [
    "grid_valid = grid_reshaped[:,valid_cols]\n",
    "m = plt.pcolormesh(grid_valid[:,:,0], grid_valid[:,:,1], rho_valid)\n",
    "plt.colorbar(m)"
   ]
  },
  {
   "cell_type": "code",
   "execution_count": null,
   "metadata": {},
   "outputs": [],
   "source": [
    "grid_valid = grid_reshaped[:,valid_cols]"
   ]
  },
  {
   "cell_type": "code",
   "execution_count": null,
   "metadata": {},
   "outputs": [],
   "source": [
    "grid_valid.shape, rho_valid.shape"
   ]
  },
  {
   "cell_type": "code",
   "execution_count": null,
   "metadata": {},
   "outputs": [],
   "source": [
    "sdalsadj"
   ]
  },
  {
   "cell_type": "code",
   "execution_count": null,
   "metadata": {},
   "outputs": [],
   "source": [
    "? interp2d"
   ]
  },
  {
   "cell_type": "code",
   "execution_count": null,
   "metadata": {},
   "outputs": [],
   "source": [
    "rho_interp = interp2d(grid_reshaped[:,valid_cols,0].ravel(), \n",
    "                           grid_reshaped[:,valid_cols,1].ravel(), \n",
    "                           rho_valid.ravel())"
   ]
  },
  {
   "cell_type": "code",
   "execution_count": null,
   "metadata": {},
   "outputs": [],
   "source": [
    "grid.shape\n",
    "np.any(np.isnan(rho_values))"
   ]
  },
  {
   "cell_type": "code",
   "execution_count": null,
   "metadata": {},
   "outputs": [],
   "source": []
  },
  {
   "cell_type": "code",
   "execution_count": null,
   "metadata": {},
   "outputs": [],
   "source": [
    "pressure_interp(grid.T[0], grid.T[1])"
   ]
  },
  {
   "cell_type": "code",
   "execution_count": null,
   "metadata": {},
   "outputs": [],
   "source": [
    "Nrho, Ntemp, Nye, pres_values.shape"
   ]
  },
  {
   "cell_type": "code",
   "execution_count": null,
   "metadata": {},
   "outputs": [],
   "source": [
    "m = plt.scatter(ye_grid.ravel(), rho_grid.ravel(), c = pres_values.ravel())\n",
    "plt.colorbar(m)"
   ]
  },
  {
   "cell_type": "code",
   "execution_count": null,
   "metadata": {},
   "outputs": [],
   "source": [
    "m = plt.scatter(grid.T[0], grid.T[1], marker='.', c = rho_values)\n",
    "plt.colorbar(m)"
   ]
  },
  {
   "cell_type": "code",
   "execution_count": null,
   "metadata": {},
   "outputs": [],
   "source": []
  },
  {
   "cell_type": "code",
   "execution_count": null,
   "metadata": {},
   "outputs": [],
   "source": [
    "from scipy.interpolate import griddata\n",
    "\n",
    "pressure_grid = np.linspace(np.min(a), np.max(a), N)\n",
    "P,_b = np.meshgrid(pressure_grid, b)\n",
    "\n",
    "print(P.shape)\n",
    "points = np.array([A.ravel(), c.ravel()]).T\n",
    "values = B.ravel()\n",
    "xi = np.array([A.ravel(), c.ravel()]).T\n",
    "\n",
    "print(B.size, c.size, A.size)\n",
    "print(points.shape)\n",
    "\n",
    "gd = griddata(points, values, xi) \n",
    "plt.pcolormesh(points[:,0], points[:,1], gd)"
   ]
  },
  {
   "cell_type": "code",
   "execution_count": null,
   "metadata": {},
   "outputs": [],
   "source": [
    "np.concatenate([A.ravel(),B.ravel()])"
   ]
  },
  {
   "cell_type": "code",
   "execution_count": null,
   "metadata": {},
   "outputs": [],
   "source": [
    "np.array(f['logrho'])"
   ]
  },
  {
   "cell_type": "markdown",
   "metadata": {},
   "source": [
    " \n",
    "  - Determine the maximum mass for any five of the EOS available on stellarcollapse.org.\n",
    " "
   ]
  },
  {
   "cell_type": "code",
   "execution_count": null,
   "metadata": {},
   "outputs": [],
   "source": []
  },
  {
   "cell_type": "markdown",
   "metadata": {},
   "source": [
    " \n",
    "  - Make mass vs. radius plots for these same five EOS."
   ]
  },
  {
   "cell_type": "code",
   "execution_count": null,
   "metadata": {},
   "outputs": [],
   "source": []
  },
  {
   "cell_type": "code",
   "execution_count": null,
   "metadata": {},
   "outputs": [],
   "source": []
  }
 ],
 "metadata": {
  "kernelspec": {
   "display_name": "Python 3",
   "language": "python",
   "name": "python3"
  },
  "language_info": {
   "codemirror_mode": {
    "name": "ipython",
    "version": 3
   },
   "file_extension": ".py",
   "mimetype": "text/x-python",
   "name": "python",
   "nbconvert_exporter": "python",
   "pygments_lexer": "ipython3",
   "version": "3.6.6"
  }
 },
 "nbformat": 4,
 "nbformat_minor": 2
}
